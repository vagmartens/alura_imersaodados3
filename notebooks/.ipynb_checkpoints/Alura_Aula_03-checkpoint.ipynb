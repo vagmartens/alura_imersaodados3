{
 "cells": [
  {
   "cell_type": "markdown",
   "metadata": {
    "id": "fc7vt5BpmsH4"
   },
   "source": [
    "# Aula 01"
   ]
  },
  {
   "cell_type": "code",
   "execution_count": 21,
   "metadata": {
    "colab": {
     "base_uri": "https://localhost:8080/",
     "height": 427
    },
    "id": "n4nsCvloshsm",
    "outputId": "ccbbf8f1-43ba-435a-c8e5-4a1d55d19dfa"
   },
   "outputs": [
    {
     "data": {
      "text/html": [
       "<div>\n",
       "<style scoped>\n",
       "    .dataframe tbody tr th:only-of-type {\n",
       "        vertical-align: middle;\n",
       "    }\n",
       "\n",
       "    .dataframe tbody tr th {\n",
       "        vertical-align: top;\n",
       "    }\n",
       "\n",
       "    .dataframe thead th {\n",
       "        text-align: right;\n",
       "    }\n",
       "</style>\n",
       "<table border=\"1\" class=\"dataframe\">\n",
       "  <thead>\n",
       "    <tr style=\"text-align: right;\">\n",
       "      <th></th>\n",
       "      <th>id</th>\n",
       "      <th>tratamento</th>\n",
       "      <th>tempo</th>\n",
       "      <th>dose</th>\n",
       "      <th>droga</th>\n",
       "      <th>g-0</th>\n",
       "      <th>g-1</th>\n",
       "      <th>g-2</th>\n",
       "      <th>g-3</th>\n",
       "      <th>g-4</th>\n",
       "      <th>...</th>\n",
       "      <th>c-90</th>\n",
       "      <th>c-91</th>\n",
       "      <th>c-92</th>\n",
       "      <th>c-93</th>\n",
       "      <th>c-94</th>\n",
       "      <th>c-95</th>\n",
       "      <th>c-96</th>\n",
       "      <th>c-97</th>\n",
       "      <th>c-98</th>\n",
       "      <th>c-99</th>\n",
       "    </tr>\n",
       "  </thead>\n",
       "  <tbody>\n",
       "    <tr>\n",
       "      <th>0</th>\n",
       "      <td>id_000644bb2</td>\n",
       "      <td>com_droga</td>\n",
       "      <td>24</td>\n",
       "      <td>D1</td>\n",
       "      <td>b68db1d53</td>\n",
       "      <td>1.0620</td>\n",
       "      <td>0.5577</td>\n",
       "      <td>-0.2479</td>\n",
       "      <td>-0.6208</td>\n",
       "      <td>-0.1944</td>\n",
       "      <td>...</td>\n",
       "      <td>0.2862</td>\n",
       "      <td>0.2584</td>\n",
       "      <td>0.8076</td>\n",
       "      <td>0.5523</td>\n",
       "      <td>-0.1912</td>\n",
       "      <td>0.6584</td>\n",
       "      <td>-0.3981</td>\n",
       "      <td>0.2139</td>\n",
       "      <td>0.3801</td>\n",
       "      <td>0.4176</td>\n",
       "    </tr>\n",
       "    <tr>\n",
       "      <th>1</th>\n",
       "      <td>id_000779bfc</td>\n",
       "      <td>com_droga</td>\n",
       "      <td>72</td>\n",
       "      <td>D1</td>\n",
       "      <td>df89a8e5a</td>\n",
       "      <td>0.0743</td>\n",
       "      <td>0.4087</td>\n",
       "      <td>0.2991</td>\n",
       "      <td>0.0604</td>\n",
       "      <td>1.0190</td>\n",
       "      <td>...</td>\n",
       "      <td>-0.4265</td>\n",
       "      <td>0.7543</td>\n",
       "      <td>0.4708</td>\n",
       "      <td>0.0230</td>\n",
       "      <td>0.2957</td>\n",
       "      <td>0.4899</td>\n",
       "      <td>0.1522</td>\n",
       "      <td>0.1241</td>\n",
       "      <td>0.6077</td>\n",
       "      <td>0.7371</td>\n",
       "    </tr>\n",
       "    <tr>\n",
       "      <th>2</th>\n",
       "      <td>id_000a6266a</td>\n",
       "      <td>com_droga</td>\n",
       "      <td>48</td>\n",
       "      <td>D1</td>\n",
       "      <td>18bb41b2c</td>\n",
       "      <td>0.6280</td>\n",
       "      <td>0.5817</td>\n",
       "      <td>1.5540</td>\n",
       "      <td>-0.0764</td>\n",
       "      <td>-0.0323</td>\n",
       "      <td>...</td>\n",
       "      <td>-0.7250</td>\n",
       "      <td>-0.6297</td>\n",
       "      <td>0.6103</td>\n",
       "      <td>0.0223</td>\n",
       "      <td>-1.3240</td>\n",
       "      <td>-0.3174</td>\n",
       "      <td>-0.6417</td>\n",
       "      <td>-0.2187</td>\n",
       "      <td>-1.4080</td>\n",
       "      <td>0.6931</td>\n",
       "    </tr>\n",
       "    <tr>\n",
       "      <th>3</th>\n",
       "      <td>id_0015fd391</td>\n",
       "      <td>com_droga</td>\n",
       "      <td>48</td>\n",
       "      <td>D1</td>\n",
       "      <td>8c7f86626</td>\n",
       "      <td>-0.5138</td>\n",
       "      <td>-0.2491</td>\n",
       "      <td>-0.2656</td>\n",
       "      <td>0.5288</td>\n",
       "      <td>4.0620</td>\n",
       "      <td>...</td>\n",
       "      <td>-2.0990</td>\n",
       "      <td>-0.6441</td>\n",
       "      <td>-5.6300</td>\n",
       "      <td>-1.3780</td>\n",
       "      <td>-0.8632</td>\n",
       "      <td>-1.2880</td>\n",
       "      <td>-1.6210</td>\n",
       "      <td>-0.8784</td>\n",
       "      <td>-0.3876</td>\n",
       "      <td>-0.8154</td>\n",
       "    </tr>\n",
       "    <tr>\n",
       "      <th>4</th>\n",
       "      <td>id_001626bd3</td>\n",
       "      <td>com_droga</td>\n",
       "      <td>72</td>\n",
       "      <td>D2</td>\n",
       "      <td>7cbed3131</td>\n",
       "      <td>-0.3254</td>\n",
       "      <td>-0.4009</td>\n",
       "      <td>0.9700</td>\n",
       "      <td>0.6919</td>\n",
       "      <td>1.4180</td>\n",
       "      <td>...</td>\n",
       "      <td>0.0042</td>\n",
       "      <td>0.0048</td>\n",
       "      <td>0.6670</td>\n",
       "      <td>1.0690</td>\n",
       "      <td>0.5523</td>\n",
       "      <td>-0.3031</td>\n",
       "      <td>0.1094</td>\n",
       "      <td>0.2885</td>\n",
       "      <td>-0.3786</td>\n",
       "      <td>0.7125</td>\n",
       "    </tr>\n",
       "    <tr>\n",
       "      <th>...</th>\n",
       "      <td>...</td>\n",
       "      <td>...</td>\n",
       "      <td>...</td>\n",
       "      <td>...</td>\n",
       "      <td>...</td>\n",
       "      <td>...</td>\n",
       "      <td>...</td>\n",
       "      <td>...</td>\n",
       "      <td>...</td>\n",
       "      <td>...</td>\n",
       "      <td>...</td>\n",
       "      <td>...</td>\n",
       "      <td>...</td>\n",
       "      <td>...</td>\n",
       "      <td>...</td>\n",
       "      <td>...</td>\n",
       "      <td>...</td>\n",
       "      <td>...</td>\n",
       "      <td>...</td>\n",
       "      <td>...</td>\n",
       "      <td>...</td>\n",
       "    </tr>\n",
       "    <tr>\n",
       "      <th>23809</th>\n",
       "      <td>id_fffb1ceed</td>\n",
       "      <td>com_droga</td>\n",
       "      <td>24</td>\n",
       "      <td>D2</td>\n",
       "      <td>df1d0a5a1</td>\n",
       "      <td>0.1394</td>\n",
       "      <td>-0.0636</td>\n",
       "      <td>-0.1112</td>\n",
       "      <td>-0.5080</td>\n",
       "      <td>-0.4713</td>\n",
       "      <td>...</td>\n",
       "      <td>0.1969</td>\n",
       "      <td>0.0262</td>\n",
       "      <td>-0.8121</td>\n",
       "      <td>0.3434</td>\n",
       "      <td>0.5372</td>\n",
       "      <td>-0.3246</td>\n",
       "      <td>0.0631</td>\n",
       "      <td>0.9171</td>\n",
       "      <td>0.5258</td>\n",
       "      <td>0.4680</td>\n",
       "    </tr>\n",
       "    <tr>\n",
       "      <th>23810</th>\n",
       "      <td>id_fffb70c0c</td>\n",
       "      <td>com_droga</td>\n",
       "      <td>24</td>\n",
       "      <td>D2</td>\n",
       "      <td>ecf3b6b74</td>\n",
       "      <td>-1.3260</td>\n",
       "      <td>0.3478</td>\n",
       "      <td>-0.3743</td>\n",
       "      <td>0.9905</td>\n",
       "      <td>-0.7178</td>\n",
       "      <td>...</td>\n",
       "      <td>0.4286</td>\n",
       "      <td>0.4426</td>\n",
       "      <td>0.0423</td>\n",
       "      <td>-0.3195</td>\n",
       "      <td>-0.8086</td>\n",
       "      <td>-0.9798</td>\n",
       "      <td>-0.2084</td>\n",
       "      <td>-0.1224</td>\n",
       "      <td>-0.2715</td>\n",
       "      <td>0.3689</td>\n",
       "    </tr>\n",
       "    <tr>\n",
       "      <th>23811</th>\n",
       "      <td>id_fffc1c3f4</td>\n",
       "      <td>com_controle</td>\n",
       "      <td>48</td>\n",
       "      <td>D2</td>\n",
       "      <td>cacb2b860</td>\n",
       "      <td>0.3942</td>\n",
       "      <td>0.3756</td>\n",
       "      <td>0.3109</td>\n",
       "      <td>-0.7389</td>\n",
       "      <td>0.5505</td>\n",
       "      <td>...</td>\n",
       "      <td>0.5409</td>\n",
       "      <td>0.3755</td>\n",
       "      <td>0.7343</td>\n",
       "      <td>0.2807</td>\n",
       "      <td>0.4116</td>\n",
       "      <td>0.6422</td>\n",
       "      <td>0.2256</td>\n",
       "      <td>0.7592</td>\n",
       "      <td>0.6656</td>\n",
       "      <td>0.3808</td>\n",
       "    </tr>\n",
       "    <tr>\n",
       "      <th>23812</th>\n",
       "      <td>id_fffcb9e7c</td>\n",
       "      <td>com_droga</td>\n",
       "      <td>24</td>\n",
       "      <td>D1</td>\n",
       "      <td>8b87a7a83</td>\n",
       "      <td>0.6660</td>\n",
       "      <td>0.2324</td>\n",
       "      <td>0.4392</td>\n",
       "      <td>0.2044</td>\n",
       "      <td>0.8531</td>\n",
       "      <td>...</td>\n",
       "      <td>-0.1105</td>\n",
       "      <td>0.4258</td>\n",
       "      <td>-0.2012</td>\n",
       "      <td>0.1506</td>\n",
       "      <td>1.5230</td>\n",
       "      <td>0.7101</td>\n",
       "      <td>0.1732</td>\n",
       "      <td>0.7015</td>\n",
       "      <td>-0.6290</td>\n",
       "      <td>0.0740</td>\n",
       "    </tr>\n",
       "    <tr>\n",
       "      <th>23813</th>\n",
       "      <td>id_ffffdd77b</td>\n",
       "      <td>com_droga</td>\n",
       "      <td>72</td>\n",
       "      <td>D1</td>\n",
       "      <td>972f41291</td>\n",
       "      <td>-0.8598</td>\n",
       "      <td>1.0240</td>\n",
       "      <td>-0.1361</td>\n",
       "      <td>0.7952</td>\n",
       "      <td>-0.3611</td>\n",
       "      <td>...</td>\n",
       "      <td>-3.3890</td>\n",
       "      <td>-1.7450</td>\n",
       "      <td>-6.6300</td>\n",
       "      <td>-4.0950</td>\n",
       "      <td>-7.3860</td>\n",
       "      <td>-1.4160</td>\n",
       "      <td>-3.5770</td>\n",
       "      <td>-0.4775</td>\n",
       "      <td>-2.1500</td>\n",
       "      <td>-4.2520</td>\n",
       "    </tr>\n",
       "  </tbody>\n",
       "</table>\n",
       "<p>23814 rows × 877 columns</p>\n",
       "</div>"
      ],
      "text/plain": [
       "                 id    tratamento  tempo dose      droga     g-0     g-1  \\\n",
       "0      id_000644bb2     com_droga     24   D1  b68db1d53  1.0620  0.5577   \n",
       "1      id_000779bfc     com_droga     72   D1  df89a8e5a  0.0743  0.4087   \n",
       "2      id_000a6266a     com_droga     48   D1  18bb41b2c  0.6280  0.5817   \n",
       "3      id_0015fd391     com_droga     48   D1  8c7f86626 -0.5138 -0.2491   \n",
       "4      id_001626bd3     com_droga     72   D2  7cbed3131 -0.3254 -0.4009   \n",
       "...             ...           ...    ...  ...        ...     ...     ...   \n",
       "23809  id_fffb1ceed     com_droga     24   D2  df1d0a5a1  0.1394 -0.0636   \n",
       "23810  id_fffb70c0c     com_droga     24   D2  ecf3b6b74 -1.3260  0.3478   \n",
       "23811  id_fffc1c3f4  com_controle     48   D2  cacb2b860  0.3942  0.3756   \n",
       "23812  id_fffcb9e7c     com_droga     24   D1  8b87a7a83  0.6660  0.2324   \n",
       "23813  id_ffffdd77b     com_droga     72   D1  972f41291 -0.8598  1.0240   \n",
       "\n",
       "          g-2     g-3     g-4  ...    c-90    c-91    c-92    c-93    c-94  \\\n",
       "0     -0.2479 -0.6208 -0.1944  ...  0.2862  0.2584  0.8076  0.5523 -0.1912   \n",
       "1      0.2991  0.0604  1.0190  ... -0.4265  0.7543  0.4708  0.0230  0.2957   \n",
       "2      1.5540 -0.0764 -0.0323  ... -0.7250 -0.6297  0.6103  0.0223 -1.3240   \n",
       "3     -0.2656  0.5288  4.0620  ... -2.0990 -0.6441 -5.6300 -1.3780 -0.8632   \n",
       "4      0.9700  0.6919  1.4180  ...  0.0042  0.0048  0.6670  1.0690  0.5523   \n",
       "...       ...     ...     ...  ...     ...     ...     ...     ...     ...   \n",
       "23809 -0.1112 -0.5080 -0.4713  ...  0.1969  0.0262 -0.8121  0.3434  0.5372   \n",
       "23810 -0.3743  0.9905 -0.7178  ...  0.4286  0.4426  0.0423 -0.3195 -0.8086   \n",
       "23811  0.3109 -0.7389  0.5505  ...  0.5409  0.3755  0.7343  0.2807  0.4116   \n",
       "23812  0.4392  0.2044  0.8531  ... -0.1105  0.4258 -0.2012  0.1506  1.5230   \n",
       "23813 -0.1361  0.7952 -0.3611  ... -3.3890 -1.7450 -6.6300 -4.0950 -7.3860   \n",
       "\n",
       "         c-95    c-96    c-97    c-98    c-99  \n",
       "0      0.6584 -0.3981  0.2139  0.3801  0.4176  \n",
       "1      0.4899  0.1522  0.1241  0.6077  0.7371  \n",
       "2     -0.3174 -0.6417 -0.2187 -1.4080  0.6931  \n",
       "3     -1.2880 -1.6210 -0.8784 -0.3876 -0.8154  \n",
       "4     -0.3031  0.1094  0.2885 -0.3786  0.7125  \n",
       "...       ...     ...     ...     ...     ...  \n",
       "23809 -0.3246  0.0631  0.9171  0.5258  0.4680  \n",
       "23810 -0.9798 -0.2084 -0.1224 -0.2715  0.3689  \n",
       "23811  0.6422  0.2256  0.7592  0.6656  0.3808  \n",
       "23812  0.7101  0.1732  0.7015 -0.6290  0.0740  \n",
       "23813 -1.4160 -3.5770 -0.4775 -2.1500 -4.2520  \n",
       "\n",
       "[23814 rows x 877 columns]"
      ]
     },
     "execution_count": 21,
     "metadata": {},
     "output_type": "execute_result"
    }
   ],
   "source": [
    "import pandas as pd\n",
    "\n",
    "url_dados = 'https://github.com/alura-cursos/imersaodados3/blob/main/dados/dados_experimentos.zip?raw=true'\n",
    "\n",
    "dados = pd.read_csv(url_dados, compression = 'zip')\n",
    "dados"
   ]
  },
  {
   "cell_type": "code",
   "execution_count": 22,
   "metadata": {
    "colab": {
     "base_uri": "https://localhost:8080/",
     "height": 247
    },
    "id": "ongQ8MkFsnWY",
    "outputId": "efcfb771-9ad7-4c10-8d07-5aaf2b0e745b"
   },
   "outputs": [
    {
     "data": {
      "text/html": [
       "<div>\n",
       "<style scoped>\n",
       "    .dataframe tbody tr th:only-of-type {\n",
       "        vertical-align: middle;\n",
       "    }\n",
       "\n",
       "    .dataframe tbody tr th {\n",
       "        vertical-align: top;\n",
       "    }\n",
       "\n",
       "    .dataframe thead th {\n",
       "        text-align: right;\n",
       "    }\n",
       "</style>\n",
       "<table border=\"1\" class=\"dataframe\">\n",
       "  <thead>\n",
       "    <tr style=\"text-align: right;\">\n",
       "      <th></th>\n",
       "      <th>id</th>\n",
       "      <th>tratamento</th>\n",
       "      <th>tempo</th>\n",
       "      <th>dose</th>\n",
       "      <th>droga</th>\n",
       "      <th>g-0</th>\n",
       "      <th>g-1</th>\n",
       "      <th>g-2</th>\n",
       "      <th>g-3</th>\n",
       "      <th>g-4</th>\n",
       "      <th>...</th>\n",
       "      <th>c-90</th>\n",
       "      <th>c-91</th>\n",
       "      <th>c-92</th>\n",
       "      <th>c-93</th>\n",
       "      <th>c-94</th>\n",
       "      <th>c-95</th>\n",
       "      <th>c-96</th>\n",
       "      <th>c-97</th>\n",
       "      <th>c-98</th>\n",
       "      <th>c-99</th>\n",
       "    </tr>\n",
       "  </thead>\n",
       "  <tbody>\n",
       "    <tr>\n",
       "      <th>0</th>\n",
       "      <td>id_000644bb2</td>\n",
       "      <td>com_droga</td>\n",
       "      <td>24</td>\n",
       "      <td>D1</td>\n",
       "      <td>b68db1d53</td>\n",
       "      <td>1.0620</td>\n",
       "      <td>0.5577</td>\n",
       "      <td>-0.2479</td>\n",
       "      <td>-0.6208</td>\n",
       "      <td>-0.1944</td>\n",
       "      <td>...</td>\n",
       "      <td>0.2862</td>\n",
       "      <td>0.2584</td>\n",
       "      <td>0.8076</td>\n",
       "      <td>0.5523</td>\n",
       "      <td>-0.1912</td>\n",
       "      <td>0.6584</td>\n",
       "      <td>-0.3981</td>\n",
       "      <td>0.2139</td>\n",
       "      <td>0.3801</td>\n",
       "      <td>0.4176</td>\n",
       "    </tr>\n",
       "    <tr>\n",
       "      <th>1</th>\n",
       "      <td>id_000779bfc</td>\n",
       "      <td>com_droga</td>\n",
       "      <td>72</td>\n",
       "      <td>D1</td>\n",
       "      <td>df89a8e5a</td>\n",
       "      <td>0.0743</td>\n",
       "      <td>0.4087</td>\n",
       "      <td>0.2991</td>\n",
       "      <td>0.0604</td>\n",
       "      <td>1.0190</td>\n",
       "      <td>...</td>\n",
       "      <td>-0.4265</td>\n",
       "      <td>0.7543</td>\n",
       "      <td>0.4708</td>\n",
       "      <td>0.0230</td>\n",
       "      <td>0.2957</td>\n",
       "      <td>0.4899</td>\n",
       "      <td>0.1522</td>\n",
       "      <td>0.1241</td>\n",
       "      <td>0.6077</td>\n",
       "      <td>0.7371</td>\n",
       "    </tr>\n",
       "    <tr>\n",
       "      <th>2</th>\n",
       "      <td>id_000a6266a</td>\n",
       "      <td>com_droga</td>\n",
       "      <td>48</td>\n",
       "      <td>D1</td>\n",
       "      <td>18bb41b2c</td>\n",
       "      <td>0.6280</td>\n",
       "      <td>0.5817</td>\n",
       "      <td>1.5540</td>\n",
       "      <td>-0.0764</td>\n",
       "      <td>-0.0323</td>\n",
       "      <td>...</td>\n",
       "      <td>-0.7250</td>\n",
       "      <td>-0.6297</td>\n",
       "      <td>0.6103</td>\n",
       "      <td>0.0223</td>\n",
       "      <td>-1.3240</td>\n",
       "      <td>-0.3174</td>\n",
       "      <td>-0.6417</td>\n",
       "      <td>-0.2187</td>\n",
       "      <td>-1.4080</td>\n",
       "      <td>0.6931</td>\n",
       "    </tr>\n",
       "    <tr>\n",
       "      <th>3</th>\n",
       "      <td>id_0015fd391</td>\n",
       "      <td>com_droga</td>\n",
       "      <td>48</td>\n",
       "      <td>D1</td>\n",
       "      <td>8c7f86626</td>\n",
       "      <td>-0.5138</td>\n",
       "      <td>-0.2491</td>\n",
       "      <td>-0.2656</td>\n",
       "      <td>0.5288</td>\n",
       "      <td>4.0620</td>\n",
       "      <td>...</td>\n",
       "      <td>-2.0990</td>\n",
       "      <td>-0.6441</td>\n",
       "      <td>-5.6300</td>\n",
       "      <td>-1.3780</td>\n",
       "      <td>-0.8632</td>\n",
       "      <td>-1.2880</td>\n",
       "      <td>-1.6210</td>\n",
       "      <td>-0.8784</td>\n",
       "      <td>-0.3876</td>\n",
       "      <td>-0.8154</td>\n",
       "    </tr>\n",
       "    <tr>\n",
       "      <th>4</th>\n",
       "      <td>id_001626bd3</td>\n",
       "      <td>com_droga</td>\n",
       "      <td>72</td>\n",
       "      <td>D2</td>\n",
       "      <td>7cbed3131</td>\n",
       "      <td>-0.3254</td>\n",
       "      <td>-0.4009</td>\n",
       "      <td>0.9700</td>\n",
       "      <td>0.6919</td>\n",
       "      <td>1.4180</td>\n",
       "      <td>...</td>\n",
       "      <td>0.0042</td>\n",
       "      <td>0.0048</td>\n",
       "      <td>0.6670</td>\n",
       "      <td>1.0690</td>\n",
       "      <td>0.5523</td>\n",
       "      <td>-0.3031</td>\n",
       "      <td>0.1094</td>\n",
       "      <td>0.2885</td>\n",
       "      <td>-0.3786</td>\n",
       "      <td>0.7125</td>\n",
       "    </tr>\n",
       "  </tbody>\n",
       "</table>\n",
       "<p>5 rows × 877 columns</p>\n",
       "</div>"
      ],
      "text/plain": [
       "             id tratamento  tempo dose      droga     g-0     g-1     g-2  \\\n",
       "0  id_000644bb2  com_droga     24   D1  b68db1d53  1.0620  0.5577 -0.2479   \n",
       "1  id_000779bfc  com_droga     72   D1  df89a8e5a  0.0743  0.4087  0.2991   \n",
       "2  id_000a6266a  com_droga     48   D1  18bb41b2c  0.6280  0.5817  1.5540   \n",
       "3  id_0015fd391  com_droga     48   D1  8c7f86626 -0.5138 -0.2491 -0.2656   \n",
       "4  id_001626bd3  com_droga     72   D2  7cbed3131 -0.3254 -0.4009  0.9700   \n",
       "\n",
       "      g-3     g-4  ...    c-90    c-91    c-92    c-93    c-94    c-95  \\\n",
       "0 -0.6208 -0.1944  ...  0.2862  0.2584  0.8076  0.5523 -0.1912  0.6584   \n",
       "1  0.0604  1.0190  ... -0.4265  0.7543  0.4708  0.0230  0.2957  0.4899   \n",
       "2 -0.0764 -0.0323  ... -0.7250 -0.6297  0.6103  0.0223 -1.3240 -0.3174   \n",
       "3  0.5288  4.0620  ... -2.0990 -0.6441 -5.6300 -1.3780 -0.8632 -1.2880   \n",
       "4  0.6919  1.4180  ...  0.0042  0.0048  0.6670  1.0690  0.5523 -0.3031   \n",
       "\n",
       "     c-96    c-97    c-98    c-99  \n",
       "0 -0.3981  0.2139  0.3801  0.4176  \n",
       "1  0.1522  0.1241  0.6077  0.7371  \n",
       "2 -0.6417 -0.2187 -1.4080  0.6931  \n",
       "3 -1.6210 -0.8784 -0.3876 -0.8154  \n",
       "4  0.1094  0.2885 -0.3786  0.7125  \n",
       "\n",
       "[5 rows x 877 columns]"
      ]
     },
     "execution_count": 22,
     "metadata": {},
     "output_type": "execute_result"
    }
   ],
   "source": [
    "dados.head()"
   ]
  },
  {
   "cell_type": "code",
   "execution_count": 23,
   "metadata": {
    "colab": {
     "base_uri": "https://localhost:8080/"
    },
    "id": "Q_5RP0HKs1Sy",
    "outputId": "fcd5af55-a5c6-4ffa-d3a8-db896be4306f"
   },
   "outputs": [
    {
     "data": {
      "text/plain": [
       "(23814, 877)"
      ]
     },
     "execution_count": 23,
     "metadata": {},
     "output_type": "execute_result"
    }
   ],
   "source": [
    "dados.shape"
   ]
  },
  {
   "cell_type": "code",
   "execution_count": 24,
   "metadata": {
    "colab": {
     "base_uri": "https://localhost:8080/"
    },
    "id": "a8Og_8PIwdAS",
    "outputId": "1dc29c07-3e1c-49d8-805c-9f984322b14a"
   },
   "outputs": [
    {
     "data": {
      "text/plain": [
       "0           com_droga\n",
       "1           com_droga\n",
       "2           com_droga\n",
       "3           com_droga\n",
       "4           com_droga\n",
       "             ...     \n",
       "23809       com_droga\n",
       "23810       com_droga\n",
       "23811    com_controle\n",
       "23812       com_droga\n",
       "23813       com_droga\n",
       "Name: tratamento, Length: 23814, dtype: object"
      ]
     },
     "execution_count": 24,
     "metadata": {},
     "output_type": "execute_result"
    }
   ],
   "source": [
    "dados['tratamento']"
   ]
  },
  {
   "cell_type": "code",
   "execution_count": 25,
   "metadata": {
    "colab": {
     "base_uri": "https://localhost:8080/"
    },
    "id": "_RkLWqqrwtJG",
    "outputId": "939aceef-d600-45f1-b469-376b699a3433"
   },
   "outputs": [
    {
     "data": {
      "text/plain": [
       "array(['com_droga', 'com_controle'], dtype=object)"
      ]
     },
     "execution_count": 25,
     "metadata": {},
     "output_type": "execute_result"
    }
   ],
   "source": [
    "dados['tratamento'].unique()"
   ]
  },
  {
   "cell_type": "code",
   "execution_count": 26,
   "metadata": {
    "colab": {
     "base_uri": "https://localhost:8080/"
    },
    "id": "IOPFkJW5w5i-",
    "outputId": "90e6c32c-a544-4f56-bc31-8cb43bd10fcd"
   },
   "outputs": [
    {
     "data": {
      "text/plain": [
       "array([24, 72, 48], dtype=int64)"
      ]
     },
     "execution_count": 26,
     "metadata": {},
     "output_type": "execute_result"
    }
   ],
   "source": [
    "dados['tempo'].unique()"
   ]
  },
  {
   "cell_type": "code",
   "execution_count": 27,
   "metadata": {
    "colab": {
     "base_uri": "https://localhost:8080/"
    },
    "id": "2UWEVupCx9M7",
    "outputId": "82954db3-fb8b-4cfb-bfd2-ba814edca44e"
   },
   "outputs": [
    {
     "data": {
      "text/plain": [
       "array(['D1', 'D2'], dtype=object)"
      ]
     },
     "execution_count": 27,
     "metadata": {},
     "output_type": "execute_result"
    }
   ],
   "source": [
    "dados['dose'].unique()"
   ]
  },
  {
   "cell_type": "code",
   "execution_count": 28,
   "metadata": {
    "colab": {
     "base_uri": "https://localhost:8080/"
    },
    "id": "p1NaXGzCySfP",
    "outputId": "66984fca-9761-45d3-c63a-a563b886fc7e"
   },
   "outputs": [
    {
     "data": {
      "text/plain": [
       "array(['b68db1d53', 'df89a8e5a', '18bb41b2c', ..., '573c787a2',\n",
       "       'b2fe3eca7', 'dd4a96d16'], dtype=object)"
      ]
     },
     "execution_count": 28,
     "metadata": {},
     "output_type": "execute_result"
    }
   ],
   "source": [
    "dados['droga'].unique()"
   ]
  },
  {
   "cell_type": "code",
   "execution_count": 29,
   "metadata": {
    "colab": {
     "base_uri": "https://localhost:8080/"
    },
    "id": "CgHdbkO9ye6g",
    "outputId": "bd4cfe08-037e-4626-cfda-9e04a6a4f54d"
   },
   "outputs": [
    {
     "data": {
      "text/plain": [
       "array([ 1.062 ,  0.0743,  0.628 , ...,  0.3942,  0.666 , -0.8598])"
      ]
     },
     "execution_count": 29,
     "metadata": {},
     "output_type": "execute_result"
    }
   ],
   "source": [
    "dados['g-0'].unique()"
   ]
  },
  {
   "cell_type": "code",
   "execution_count": 30,
   "metadata": {
    "colab": {
     "base_uri": "https://localhost:8080/"
    },
    "id": "pvSIUn9_zTWH",
    "outputId": "7be09bad-5390-4313-fa30-9e47d2afbbad"
   },
   "outputs": [
    {
     "data": {
      "text/plain": [
       "com_droga       21948\n",
       "com_controle     1866\n",
       "Name: tratamento, dtype: int64"
      ]
     },
     "execution_count": 30,
     "metadata": {},
     "output_type": "execute_result"
    }
   ],
   "source": [
    "dados['tratamento'].value_counts()"
   ]
  },
  {
   "cell_type": "code",
   "execution_count": 31,
   "metadata": {
    "colab": {
     "base_uri": "https://localhost:8080/"
    },
    "id": "8F1qPq6h2WBl",
    "outputId": "44b3bdd4-6c37-4a7d-f250-d7b5d4ce86cc"
   },
   "outputs": [
    {
     "data": {
      "text/plain": [
       "D1    12147\n",
       "D2    11667\n",
       "Name: dose, dtype: int64"
      ]
     },
     "execution_count": 31,
     "metadata": {},
     "output_type": "execute_result"
    }
   ],
   "source": [
    "dados['dose'].value_counts()"
   ]
  },
  {
   "cell_type": "code",
   "execution_count": 32,
   "metadata": {
    "colab": {
     "base_uri": "https://localhost:8080/"
    },
    "id": "1sX66gG249OZ",
    "outputId": "9e23e7f0-e477-4ebd-efaa-531f724034d1"
   },
   "outputs": [
    {
     "data": {
      "text/plain": [
       "com_droga       0.921643\n",
       "com_controle    0.078357\n",
       "Name: tratamento, dtype: float64"
      ]
     },
     "execution_count": 32,
     "metadata": {},
     "output_type": "execute_result"
    }
   ],
   "source": [
    "dados['tratamento'].value_counts(normalize = True)"
   ]
  },
  {
   "cell_type": "code",
   "execution_count": 33,
   "metadata": {
    "colab": {
     "base_uri": "https://localhost:8080/"
    },
    "id": "wrLfRXx65NPP",
    "outputId": "595deb17-168b-4e51-af95-89f900d563de"
   },
   "outputs": [
    {
     "data": {
      "text/plain": [
       "D1    0.510078\n",
       "D2    0.489922\n",
       "Name: dose, dtype: float64"
      ]
     },
     "execution_count": 33,
     "metadata": {},
     "output_type": "execute_result"
    }
   ],
   "source": [
    "dados['dose'].value_counts(normalize = True)"
   ]
  },
  {
   "cell_type": "code",
   "execution_count": 34,
   "metadata": {
    "colab": {
     "base_uri": "https://localhost:8080/",
     "height": 266
    },
    "id": "LYiMo76m5bnS",
    "outputId": "e3aabd69-600b-44b1-bcc7-e1d2a595de5f"
   },
   "outputs": [
    {
     "data": {
      "text/plain": [
       "<AxesSubplot:ylabel='tratamento'>"
      ]
     },
     "execution_count": 34,
     "metadata": {},
     "output_type": "execute_result"
    },
    {
     "data": {
      "image/png": "[encoded data removed]",
      "text/plain": [
       "<Figure size 432x288 with 1 Axes>"
      ]
     },
     "metadata": {},
     "output_type": "display_data"
    }
   ],
   "source": [
    "dados['tratamento'].value_counts().plot.pie()"
   ]
  },
  {
   "cell_type": "code",
   "execution_count": 35,
   "metadata": {
    "colab": {
     "base_uri": "https://localhost:8080/",
     "height": 266
    },
    "id": "qmBQF9kx5uIc",
    "outputId": "dab21dc0-2dde-4445-be1f-c9e4d5171199"
   },
   "outputs": [
    {
     "data": {
      "text/plain": [
       "<AxesSubplot:ylabel='tempo'>"
      ]
     },
     "execution_count": 35,
     "metadata": {},
     "output_type": "execute_result"
    },
    {
     "data": {
      "image/png": "[encoded data removed]",
      "text/plain": [
       "<Figure size 432x288 with 1 Axes>"
      ]
     },
     "metadata": {},
     "output_type": "display_data"
    }
   ],
   "source": [
    "dados['tempo'].value_counts().plot.pie()"
   ]
  },
  {
   "cell_type": "code",
   "execution_count": 36,
   "metadata": {
    "colab": {
     "base_uri": "https://localhost:8080/",
     "height": 286
    },
    "id": "TJ0MjBYZ6LOI",
    "outputId": "b06d7ee1-7c0f-4ca7-a20f-18e552859897"
   },
   "outputs": [
    {
     "data": {
      "text/plain": [
       "<AxesSubplot:>"
      ]
     },
     "execution_count": 36,
     "metadata": {},
     "output_type": "execute_result"
    },
    {
     "data": {
      "image/png": "[encoded data removed]",
      "text/plain": [
       "<Figure size 432x288 with 1 Axes>"
      ]
     },
     "metadata": {
      "needs_background": "light"
     },
     "output_type": "display_data"
    }
   ],
   "source": [
    "dados['tempo'].value_counts().plot.bar()"
   ]
  },
  {
   "cell_type": "code",
   "execution_count": 37,
   "metadata": {
    "colab": {
     "base_uri": "https://localhost:8080/",
     "height": 247
    },
    "id": "_igXHK3A8wQr",
    "outputId": "51bf9973-1542-4c29-ae7d-b6df372e47a0"
   },
   "outputs": [
    {
     "data": {
      "text/html": [
       "<div>\n",
       "<style scoped>\n",
       "    .dataframe tbody tr th:only-of-type {\n",
       "        vertical-align: middle;\n",
       "    }\n",
       "\n",
       "    .dataframe tbody tr th {\n",
       "        vertical-align: top;\n",
       "    }\n",
       "\n",
       "    .dataframe thead th {\n",
       "        text-align: right;\n",
       "    }\n",
       "</style>\n",
       "<table border=\"1\" class=\"dataframe\">\n",
       "  <thead>\n",
       "    <tr style=\"text-align: right;\">\n",
       "      <th></th>\n",
       "      <th>id</th>\n",
       "      <th>tratamento</th>\n",
       "      <th>tempo</th>\n",
       "      <th>dose</th>\n",
       "      <th>droga</th>\n",
       "      <th>g-0</th>\n",
       "      <th>g-1</th>\n",
       "      <th>g-2</th>\n",
       "      <th>g-3</th>\n",
       "      <th>g-4</th>\n",
       "      <th>...</th>\n",
       "      <th>c-90</th>\n",
       "      <th>c-91</th>\n",
       "      <th>c-92</th>\n",
       "      <th>c-93</th>\n",
       "      <th>c-94</th>\n",
       "      <th>c-95</th>\n",
       "      <th>c-96</th>\n",
       "      <th>c-97</th>\n",
       "      <th>c-98</th>\n",
       "      <th>c-99</th>\n",
       "    </tr>\n",
       "  </thead>\n",
       "  <tbody>\n",
       "    <tr>\n",
       "      <th>0</th>\n",
       "      <td>id_000644bb2</td>\n",
       "      <td>com_droga</td>\n",
       "      <td>24</td>\n",
       "      <td>D1</td>\n",
       "      <td>b68db1d53</td>\n",
       "      <td>1.0620</td>\n",
       "      <td>0.5577</td>\n",
       "      <td>-0.2479</td>\n",
       "      <td>-0.6208</td>\n",
       "      <td>-0.1944</td>\n",
       "      <td>...</td>\n",
       "      <td>0.2862</td>\n",
       "      <td>0.2584</td>\n",
       "      <td>0.8076</td>\n",
       "      <td>0.5523</td>\n",
       "      <td>-0.1912</td>\n",
       "      <td>0.6584</td>\n",
       "      <td>-0.3981</td>\n",
       "      <td>0.2139</td>\n",
       "      <td>0.3801</td>\n",
       "      <td>0.4176</td>\n",
       "    </tr>\n",
       "    <tr>\n",
       "      <th>1</th>\n",
       "      <td>id_000779bfc</td>\n",
       "      <td>com_droga</td>\n",
       "      <td>72</td>\n",
       "      <td>D1</td>\n",
       "      <td>df89a8e5a</td>\n",
       "      <td>0.0743</td>\n",
       "      <td>0.4087</td>\n",
       "      <td>0.2991</td>\n",
       "      <td>0.0604</td>\n",
       "      <td>1.0190</td>\n",
       "      <td>...</td>\n",
       "      <td>-0.4265</td>\n",
       "      <td>0.7543</td>\n",
       "      <td>0.4708</td>\n",
       "      <td>0.0230</td>\n",
       "      <td>0.2957</td>\n",
       "      <td>0.4899</td>\n",
       "      <td>0.1522</td>\n",
       "      <td>0.1241</td>\n",
       "      <td>0.6077</td>\n",
       "      <td>0.7371</td>\n",
       "    </tr>\n",
       "    <tr>\n",
       "      <th>2</th>\n",
       "      <td>id_000a6266a</td>\n",
       "      <td>com_droga</td>\n",
       "      <td>48</td>\n",
       "      <td>D1</td>\n",
       "      <td>18bb41b2c</td>\n",
       "      <td>0.6280</td>\n",
       "      <td>0.5817</td>\n",
       "      <td>1.5540</td>\n",
       "      <td>-0.0764</td>\n",
       "      <td>-0.0323</td>\n",
       "      <td>...</td>\n",
       "      <td>-0.7250</td>\n",
       "      <td>-0.6297</td>\n",
       "      <td>0.6103</td>\n",
       "      <td>0.0223</td>\n",
       "      <td>-1.3240</td>\n",
       "      <td>-0.3174</td>\n",
       "      <td>-0.6417</td>\n",
       "      <td>-0.2187</td>\n",
       "      <td>-1.4080</td>\n",
       "      <td>0.6931</td>\n",
       "    </tr>\n",
       "    <tr>\n",
       "      <th>6</th>\n",
       "      <td>id_001bd861f</td>\n",
       "      <td>com_droga</td>\n",
       "      <td>24</td>\n",
       "      <td>D2</td>\n",
       "      <td>746ca1f5a</td>\n",
       "      <td>2.0440</td>\n",
       "      <td>1.7000</td>\n",
       "      <td>-1.5390</td>\n",
       "      <td>5.9440</td>\n",
       "      <td>-2.1670</td>\n",
       "      <td>...</td>\n",
       "      <td>0.1855</td>\n",
       "      <td>1.1720</td>\n",
       "      <td>0.8325</td>\n",
       "      <td>0.6486</td>\n",
       "      <td>0.8090</td>\n",
       "      <td>1.5880</td>\n",
       "      <td>2.4670</td>\n",
       "      <td>0.0357</td>\n",
       "      <td>0.1351</td>\n",
       "      <td>-0.3179</td>\n",
       "    </tr>\n",
       "    <tr>\n",
       "      <th>7</th>\n",
       "      <td>id_0020d0484</td>\n",
       "      <td>com_droga</td>\n",
       "      <td>48</td>\n",
       "      <td>D1</td>\n",
       "      <td>8b87a7a83</td>\n",
       "      <td>0.2711</td>\n",
       "      <td>0.5133</td>\n",
       "      <td>-0.1327</td>\n",
       "      <td>2.5950</td>\n",
       "      <td>0.6980</td>\n",
       "      <td>...</td>\n",
       "      <td>0.3230</td>\n",
       "      <td>-0.4140</td>\n",
       "      <td>0.2532</td>\n",
       "      <td>0.0513</td>\n",
       "      <td>0.8600</td>\n",
       "      <td>1.4250</td>\n",
       "      <td>0.6633</td>\n",
       "      <td>0.4562</td>\n",
       "      <td>-0.9622</td>\n",
       "      <td>0.0260</td>\n",
       "    </tr>\n",
       "  </tbody>\n",
       "</table>\n",
       "<p>5 rows × 877 columns</p>\n",
       "</div>"
      ],
      "text/plain": [
       "             id tratamento  tempo dose      droga     g-0     g-1     g-2  \\\n",
       "0  id_000644bb2  com_droga     24   D1  b68db1d53  1.0620  0.5577 -0.2479   \n",
       "1  id_000779bfc  com_droga     72   D1  df89a8e5a  0.0743  0.4087  0.2991   \n",
       "2  id_000a6266a  com_droga     48   D1  18bb41b2c  0.6280  0.5817  1.5540   \n",
       "6  id_001bd861f  com_droga     24   D2  746ca1f5a  2.0440  1.7000 -1.5390   \n",
       "7  id_0020d0484  com_droga     48   D1  8b87a7a83  0.2711  0.5133 -0.1327   \n",
       "\n",
       "      g-3     g-4  ...    c-90    c-91    c-92    c-93    c-94    c-95  \\\n",
       "0 -0.6208 -0.1944  ...  0.2862  0.2584  0.8076  0.5523 -0.1912  0.6584   \n",
       "1  0.0604  1.0190  ... -0.4265  0.7543  0.4708  0.0230  0.2957  0.4899   \n",
       "2 -0.0764 -0.0323  ... -0.7250 -0.6297  0.6103  0.0223 -1.3240 -0.3174   \n",
       "6  5.9440 -2.1670  ...  0.1855  1.1720  0.8325  0.6486  0.8090  1.5880   \n",
       "7  2.5950  0.6980  ...  0.3230 -0.4140  0.2532  0.0513  0.8600  1.4250   \n",
       "\n",
       "     c-96    c-97    c-98    c-99  \n",
       "0 -0.3981  0.2139  0.3801  0.4176  \n",
       "1  0.1522  0.1241  0.6077  0.7371  \n",
       "2 -0.6417 -0.2187 -1.4080  0.6931  \n",
       "6  2.4670  0.0357  0.1351 -0.3179  \n",
       "7  0.6633  0.4562 -0.9622  0.0260  \n",
       "\n",
       "[5 rows x 877 columns]"
      ]
     },
     "execution_count": 37,
     "metadata": {},
     "output_type": "execute_result"
    }
   ],
   "source": [
    "dados_filtrados = dados[dados['g-0'] > 0]\n",
    "dados_filtrados.head()"
   ]
  },
  {
   "cell_type": "markdown",
   "metadata": {
    "id": "o-setqAJm2cD"
   },
   "source": [
    "# Aula 02"
   ]
  },
  {
   "cell_type": "code",
   "execution_count": 38,
   "metadata": {
    "colab": {
     "base_uri": "https://localhost:8080/",
     "height": 427
    },
    "id": "hB3O-zZW9ZYw",
    "outputId": "104fce59-3a0c-49e9-fad9-10428bd2a493"
   },
   "outputs": [
    {
     "data": {
      "text/html": [
       "<div>\n",
       "<style scoped>\n",
       "    .dataframe tbody tr th:only-of-type {\n",
       "        vertical-align: middle;\n",
       "    }\n",
       "\n",
       "    .dataframe tbody tr th {\n",
       "        vertical-align: top;\n",
       "    }\n",
       "\n",
       "    .dataframe thead th {\n",
       "        text-align: right;\n",
       "    }\n",
       "</style>\n",
       "<table border=\"1\" class=\"dataframe\">\n",
       "  <thead>\n",
       "    <tr style=\"text-align: right;\">\n",
       "      <th></th>\n",
       "      <th>id</th>\n",
       "      <th>tratamento</th>\n",
       "      <th>tempo</th>\n",
       "      <th>dose</th>\n",
       "      <th>droga</th>\n",
       "      <th>g-0</th>\n",
       "      <th>g-1</th>\n",
       "      <th>g-2</th>\n",
       "      <th>g-3</th>\n",
       "      <th>g-4</th>\n",
       "      <th>...</th>\n",
       "      <th>c-90</th>\n",
       "      <th>c-91</th>\n",
       "      <th>c-92</th>\n",
       "      <th>c-93</th>\n",
       "      <th>c-94</th>\n",
       "      <th>c-95</th>\n",
       "      <th>c-96</th>\n",
       "      <th>c-97</th>\n",
       "      <th>c-98</th>\n",
       "      <th>c-99</th>\n",
       "    </tr>\n",
       "  </thead>\n",
       "  <tbody>\n",
       "    <tr>\n",
       "      <th>0</th>\n",
       "      <td>id_000644bb2</td>\n",
       "      <td>com_droga</td>\n",
       "      <td>24</td>\n",
       "      <td>D1</td>\n",
       "      <td>b68db1d53</td>\n",
       "      <td>1.0620</td>\n",
       "      <td>0.5577</td>\n",
       "      <td>-0.2479</td>\n",
       "      <td>-0.6208</td>\n",
       "      <td>-0.1944</td>\n",
       "      <td>...</td>\n",
       "      <td>0.2862</td>\n",
       "      <td>0.2584</td>\n",
       "      <td>0.8076</td>\n",
       "      <td>0.5523</td>\n",
       "      <td>-0.1912</td>\n",
       "      <td>0.6584</td>\n",
       "      <td>-0.3981</td>\n",
       "      <td>0.2139</td>\n",
       "      <td>0.3801</td>\n",
       "      <td>0.4176</td>\n",
       "    </tr>\n",
       "    <tr>\n",
       "      <th>1</th>\n",
       "      <td>id_000779bfc</td>\n",
       "      <td>com_droga</td>\n",
       "      <td>72</td>\n",
       "      <td>D1</td>\n",
       "      <td>df89a8e5a</td>\n",
       "      <td>0.0743</td>\n",
       "      <td>0.4087</td>\n",
       "      <td>0.2991</td>\n",
       "      <td>0.0604</td>\n",
       "      <td>1.0190</td>\n",
       "      <td>...</td>\n",
       "      <td>-0.4265</td>\n",
       "      <td>0.7543</td>\n",
       "      <td>0.4708</td>\n",
       "      <td>0.0230</td>\n",
       "      <td>0.2957</td>\n",
       "      <td>0.4899</td>\n",
       "      <td>0.1522</td>\n",
       "      <td>0.1241</td>\n",
       "      <td>0.6077</td>\n",
       "      <td>0.7371</td>\n",
       "    </tr>\n",
       "    <tr>\n",
       "      <th>2</th>\n",
       "      <td>id_000a6266a</td>\n",
       "      <td>com_droga</td>\n",
       "      <td>48</td>\n",
       "      <td>D1</td>\n",
       "      <td>18bb41b2c</td>\n",
       "      <td>0.6280</td>\n",
       "      <td>0.5817</td>\n",
       "      <td>1.5540</td>\n",
       "      <td>-0.0764</td>\n",
       "      <td>-0.0323</td>\n",
       "      <td>...</td>\n",
       "      <td>-0.7250</td>\n",
       "      <td>-0.6297</td>\n",
       "      <td>0.6103</td>\n",
       "      <td>0.0223</td>\n",
       "      <td>-1.3240</td>\n",
       "      <td>-0.3174</td>\n",
       "      <td>-0.6417</td>\n",
       "      <td>-0.2187</td>\n",
       "      <td>-1.4080</td>\n",
       "      <td>0.6931</td>\n",
       "    </tr>\n",
       "    <tr>\n",
       "      <th>3</th>\n",
       "      <td>id_0015fd391</td>\n",
       "      <td>com_droga</td>\n",
       "      <td>48</td>\n",
       "      <td>D1</td>\n",
       "      <td>8c7f86626</td>\n",
       "      <td>-0.5138</td>\n",
       "      <td>-0.2491</td>\n",
       "      <td>-0.2656</td>\n",
       "      <td>0.5288</td>\n",
       "      <td>4.0620</td>\n",
       "      <td>...</td>\n",
       "      <td>-2.0990</td>\n",
       "      <td>-0.6441</td>\n",
       "      <td>-5.6300</td>\n",
       "      <td>-1.3780</td>\n",
       "      <td>-0.8632</td>\n",
       "      <td>-1.2880</td>\n",
       "      <td>-1.6210</td>\n",
       "      <td>-0.8784</td>\n",
       "      <td>-0.3876</td>\n",
       "      <td>-0.8154</td>\n",
       "    </tr>\n",
       "    <tr>\n",
       "      <th>4</th>\n",
       "      <td>id_001626bd3</td>\n",
       "      <td>com_droga</td>\n",
       "      <td>72</td>\n",
       "      <td>D2</td>\n",
       "      <td>7cbed3131</td>\n",
       "      <td>-0.3254</td>\n",
       "      <td>-0.4009</td>\n",
       "      <td>0.9700</td>\n",
       "      <td>0.6919</td>\n",
       "      <td>1.4180</td>\n",
       "      <td>...</td>\n",
       "      <td>0.0042</td>\n",
       "      <td>0.0048</td>\n",
       "      <td>0.6670</td>\n",
       "      <td>1.0690</td>\n",
       "      <td>0.5523</td>\n",
       "      <td>-0.3031</td>\n",
       "      <td>0.1094</td>\n",
       "      <td>0.2885</td>\n",
       "      <td>-0.3786</td>\n",
       "      <td>0.7125</td>\n",
       "    </tr>\n",
       "    <tr>\n",
       "      <th>...</th>\n",
       "      <td>...</td>\n",
       "      <td>...</td>\n",
       "      <td>...</td>\n",
       "      <td>...</td>\n",
       "      <td>...</td>\n",
       "      <td>...</td>\n",
       "      <td>...</td>\n",
       "      <td>...</td>\n",
       "      <td>...</td>\n",
       "      <td>...</td>\n",
       "      <td>...</td>\n",
       "      <td>...</td>\n",
       "      <td>...</td>\n",
       "      <td>...</td>\n",
       "      <td>...</td>\n",
       "      <td>...</td>\n",
       "      <td>...</td>\n",
       "      <td>...</td>\n",
       "      <td>...</td>\n",
       "      <td>...</td>\n",
       "      <td>...</td>\n",
       "    </tr>\n",
       "    <tr>\n",
       "      <th>23809</th>\n",
       "      <td>id_fffb1ceed</td>\n",
       "      <td>com_droga</td>\n",
       "      <td>24</td>\n",
       "      <td>D2</td>\n",
       "      <td>df1d0a5a1</td>\n",
       "      <td>0.1394</td>\n",
       "      <td>-0.0636</td>\n",
       "      <td>-0.1112</td>\n",
       "      <td>-0.5080</td>\n",
       "      <td>-0.4713</td>\n",
       "      <td>...</td>\n",
       "      <td>0.1969</td>\n",
       "      <td>0.0262</td>\n",
       "      <td>-0.8121</td>\n",
       "      <td>0.3434</td>\n",
       "      <td>0.5372</td>\n",
       "      <td>-0.3246</td>\n",
       "      <td>0.0631</td>\n",
       "      <td>0.9171</td>\n",
       "      <td>0.5258</td>\n",
       "      <td>0.4680</td>\n",
       "    </tr>\n",
       "    <tr>\n",
       "      <th>23810</th>\n",
       "      <td>id_fffb70c0c</td>\n",
       "      <td>com_droga</td>\n",
       "      <td>24</td>\n",
       "      <td>D2</td>\n",
       "      <td>ecf3b6b74</td>\n",
       "      <td>-1.3260</td>\n",
       "      <td>0.3478</td>\n",
       "      <td>-0.3743</td>\n",
       "      <td>0.9905</td>\n",
       "      <td>-0.7178</td>\n",
       "      <td>...</td>\n",
       "      <td>0.4286</td>\n",
       "      <td>0.4426</td>\n",
       "      <td>0.0423</td>\n",
       "      <td>-0.3195</td>\n",
       "      <td>-0.8086</td>\n",
       "      <td>-0.9798</td>\n",
       "      <td>-0.2084</td>\n",
       "      <td>-0.1224</td>\n",
       "      <td>-0.2715</td>\n",
       "      <td>0.3689</td>\n",
       "    </tr>\n",
       "    <tr>\n",
       "      <th>23811</th>\n",
       "      <td>id_fffc1c3f4</td>\n",
       "      <td>com_controle</td>\n",
       "      <td>48</td>\n",
       "      <td>D2</td>\n",
       "      <td>cacb2b860</td>\n",
       "      <td>0.3942</td>\n",
       "      <td>0.3756</td>\n",
       "      <td>0.3109</td>\n",
       "      <td>-0.7389</td>\n",
       "      <td>0.5505</td>\n",
       "      <td>...</td>\n",
       "      <td>0.5409</td>\n",
       "      <td>0.3755</td>\n",
       "      <td>0.7343</td>\n",
       "      <td>0.2807</td>\n",
       "      <td>0.4116</td>\n",
       "      <td>0.6422</td>\n",
       "      <td>0.2256</td>\n",
       "      <td>0.7592</td>\n",
       "      <td>0.6656</td>\n",
       "      <td>0.3808</td>\n",
       "    </tr>\n",
       "    <tr>\n",
       "      <th>23812</th>\n",
       "      <td>id_fffcb9e7c</td>\n",
       "      <td>com_droga</td>\n",
       "      <td>24</td>\n",
       "      <td>D1</td>\n",
       "      <td>8b87a7a83</td>\n",
       "      <td>0.6660</td>\n",
       "      <td>0.2324</td>\n",
       "      <td>0.4392</td>\n",
       "      <td>0.2044</td>\n",
       "      <td>0.8531</td>\n",
       "      <td>...</td>\n",
       "      <td>-0.1105</td>\n",
       "      <td>0.4258</td>\n",
       "      <td>-0.2012</td>\n",
       "      <td>0.1506</td>\n",
       "      <td>1.5230</td>\n",
       "      <td>0.7101</td>\n",
       "      <td>0.1732</td>\n",
       "      <td>0.7015</td>\n",
       "      <td>-0.6290</td>\n",
       "      <td>0.0740</td>\n",
       "    </tr>\n",
       "    <tr>\n",
       "      <th>23813</th>\n",
       "      <td>id_ffffdd77b</td>\n",
       "      <td>com_droga</td>\n",
       "      <td>72</td>\n",
       "      <td>D1</td>\n",
       "      <td>972f41291</td>\n",
       "      <td>-0.8598</td>\n",
       "      <td>1.0240</td>\n",
       "      <td>-0.1361</td>\n",
       "      <td>0.7952</td>\n",
       "      <td>-0.3611</td>\n",
       "      <td>...</td>\n",
       "      <td>-3.3890</td>\n",
       "      <td>-1.7450</td>\n",
       "      <td>-6.6300</td>\n",
       "      <td>-4.0950</td>\n",
       "      <td>-7.3860</td>\n",
       "      <td>-1.4160</td>\n",
       "      <td>-3.5770</td>\n",
       "      <td>-0.4775</td>\n",
       "      <td>-2.1500</td>\n",
       "      <td>-4.2520</td>\n",
       "    </tr>\n",
       "  </tbody>\n",
       "</table>\n",
       "<p>23814 rows × 877 columns</p>\n",
       "</div>"
      ],
      "text/plain": [
       "                 id    tratamento  tempo dose      droga     g-0     g-1  \\\n",
       "0      id_000644bb2     com_droga     24   D1  b68db1d53  1.0620  0.5577   \n",
       "1      id_000779bfc     com_droga     72   D1  df89a8e5a  0.0743  0.4087   \n",
       "2      id_000a6266a     com_droga     48   D1  18bb41b2c  0.6280  0.5817   \n",
       "3      id_0015fd391     com_droga     48   D1  8c7f86626 -0.5138 -0.2491   \n",
       "4      id_001626bd3     com_droga     72   D2  7cbed3131 -0.3254 -0.4009   \n",
       "...             ...           ...    ...  ...        ...     ...     ...   \n",
       "23809  id_fffb1ceed     com_droga     24   D2  df1d0a5a1  0.1394 -0.0636   \n",
       "23810  id_fffb70c0c     com_droga     24   D2  ecf3b6b74 -1.3260  0.3478   \n",
       "23811  id_fffc1c3f4  com_controle     48   D2  cacb2b860  0.3942  0.3756   \n",
       "23812  id_fffcb9e7c     com_droga     24   D1  8b87a7a83  0.6660  0.2324   \n",
       "23813  id_ffffdd77b     com_droga     72   D1  972f41291 -0.8598  1.0240   \n",
       "\n",
       "          g-2     g-3     g-4  ...    c-90    c-91    c-92    c-93    c-94  \\\n",
       "0     -0.2479 -0.6208 -0.1944  ...  0.2862  0.2584  0.8076  0.5523 -0.1912   \n",
       "1      0.2991  0.0604  1.0190  ... -0.4265  0.7543  0.4708  0.0230  0.2957   \n",
       "2      1.5540 -0.0764 -0.0323  ... -0.7250 -0.6297  0.6103  0.0223 -1.3240   \n",
       "3     -0.2656  0.5288  4.0620  ... -2.0990 -0.6441 -5.6300 -1.3780 -0.8632   \n",
       "4      0.9700  0.6919  1.4180  ...  0.0042  0.0048  0.6670  1.0690  0.5523   \n",
       "...       ...     ...     ...  ...     ...     ...     ...     ...     ...   \n",
       "23809 -0.1112 -0.5080 -0.4713  ...  0.1969  0.0262 -0.8121  0.3434  0.5372   \n",
       "23810 -0.3743  0.9905 -0.7178  ...  0.4286  0.4426  0.0423 -0.3195 -0.8086   \n",
       "23811  0.3109 -0.7389  0.5505  ...  0.5409  0.3755  0.7343  0.2807  0.4116   \n",
       "23812  0.4392  0.2044  0.8531  ... -0.1105  0.4258 -0.2012  0.1506  1.5230   \n",
       "23813 -0.1361  0.7952 -0.3611  ... -3.3890 -1.7450 -6.6300 -4.0950 -7.3860   \n",
       "\n",
       "         c-95    c-96    c-97    c-98    c-99  \n",
       "0      0.6584 -0.3981  0.2139  0.3801  0.4176  \n",
       "1      0.4899  0.1522  0.1241  0.6077  0.7371  \n",
       "2     -0.3174 -0.6417 -0.2187 -1.4080  0.6931  \n",
       "3     -1.2880 -1.6210 -0.8784 -0.3876 -0.8154  \n",
       "4     -0.3031  0.1094  0.2885 -0.3786  0.7125  \n",
       "...       ...     ...     ...     ...     ...  \n",
       "23809 -0.3246  0.0631  0.9171  0.5258  0.4680  \n",
       "23810 -0.9798 -0.2084 -0.1224 -0.2715  0.3689  \n",
       "23811  0.6422  0.2256  0.7592  0.6656  0.3808  \n",
       "23812  0.7101  0.1732  0.7015 -0.6290  0.0740  \n",
       "23813 -1.4160 -3.5770 -0.4775 -2.1500 -4.2520  \n",
       "\n",
       "[23814 rows x 877 columns]"
      ]
     },
     "execution_count": 38,
     "metadata": {},
     "output_type": "execute_result"
    }
   ],
   "source": [
    "dados"
   ]
  },
  {
   "cell_type": "code",
   "execution_count": 39,
   "metadata": {
    "id": "CFse2h0Vcrp4"
   },
   "outputs": [],
   "source": [
    "mapa = {'droga': 'composto'}\n",
    "dados.rename(columns=mapa, inplace=True)"
   ]
  },
  {
   "cell_type": "code",
   "execution_count": 40,
   "metadata": {
    "colab": {
     "base_uri": "https://localhost:8080/",
     "height": 247
    },
    "id": "VX73K_tLcoQg",
    "outputId": "fd3d067d-acb6-48b8-d3d0-e3306063512d"
   },
   "outputs": [
    {
     "data": {
      "text/html": [
       "<div>\n",
       "<style scoped>\n",
       "    .dataframe tbody tr th:only-of-type {\n",
       "        vertical-align: middle;\n",
       "    }\n",
       "\n",
       "    .dataframe tbody tr th {\n",
       "        vertical-align: top;\n",
       "    }\n",
       "\n",
       "    .dataframe thead th {\n",
       "        text-align: right;\n",
       "    }\n",
       "</style>\n",
       "<table border=\"1\" class=\"dataframe\">\n",
       "  <thead>\n",
       "    <tr style=\"text-align: right;\">\n",
       "      <th></th>\n",
       "      <th>id</th>\n",
       "      <th>tratamento</th>\n",
       "      <th>tempo</th>\n",
       "      <th>dose</th>\n",
       "      <th>composto</th>\n",
       "      <th>g-0</th>\n",
       "      <th>g-1</th>\n",
       "      <th>g-2</th>\n",
       "      <th>g-3</th>\n",
       "      <th>g-4</th>\n",
       "      <th>...</th>\n",
       "      <th>c-90</th>\n",
       "      <th>c-91</th>\n",
       "      <th>c-92</th>\n",
       "      <th>c-93</th>\n",
       "      <th>c-94</th>\n",
       "      <th>c-95</th>\n",
       "      <th>c-96</th>\n",
       "      <th>c-97</th>\n",
       "      <th>c-98</th>\n",
       "      <th>c-99</th>\n",
       "    </tr>\n",
       "  </thead>\n",
       "  <tbody>\n",
       "    <tr>\n",
       "      <th>0</th>\n",
       "      <td>id_000644bb2</td>\n",
       "      <td>com_droga</td>\n",
       "      <td>24</td>\n",
       "      <td>D1</td>\n",
       "      <td>b68db1d53</td>\n",
       "      <td>1.0620</td>\n",
       "      <td>0.5577</td>\n",
       "      <td>-0.2479</td>\n",
       "      <td>-0.6208</td>\n",
       "      <td>-0.1944</td>\n",
       "      <td>...</td>\n",
       "      <td>0.2862</td>\n",
       "      <td>0.2584</td>\n",
       "      <td>0.8076</td>\n",
       "      <td>0.5523</td>\n",
       "      <td>-0.1912</td>\n",
       "      <td>0.6584</td>\n",
       "      <td>-0.3981</td>\n",
       "      <td>0.2139</td>\n",
       "      <td>0.3801</td>\n",
       "      <td>0.4176</td>\n",
       "    </tr>\n",
       "    <tr>\n",
       "      <th>1</th>\n",
       "      <td>id_000779bfc</td>\n",
       "      <td>com_droga</td>\n",
       "      <td>72</td>\n",
       "      <td>D1</td>\n",
       "      <td>df89a8e5a</td>\n",
       "      <td>0.0743</td>\n",
       "      <td>0.4087</td>\n",
       "      <td>0.2991</td>\n",
       "      <td>0.0604</td>\n",
       "      <td>1.0190</td>\n",
       "      <td>...</td>\n",
       "      <td>-0.4265</td>\n",
       "      <td>0.7543</td>\n",
       "      <td>0.4708</td>\n",
       "      <td>0.0230</td>\n",
       "      <td>0.2957</td>\n",
       "      <td>0.4899</td>\n",
       "      <td>0.1522</td>\n",
       "      <td>0.1241</td>\n",
       "      <td>0.6077</td>\n",
       "      <td>0.7371</td>\n",
       "    </tr>\n",
       "    <tr>\n",
       "      <th>2</th>\n",
       "      <td>id_000a6266a</td>\n",
       "      <td>com_droga</td>\n",
       "      <td>48</td>\n",
       "      <td>D1</td>\n",
       "      <td>18bb41b2c</td>\n",
       "      <td>0.6280</td>\n",
       "      <td>0.5817</td>\n",
       "      <td>1.5540</td>\n",
       "      <td>-0.0764</td>\n",
       "      <td>-0.0323</td>\n",
       "      <td>...</td>\n",
       "      <td>-0.7250</td>\n",
       "      <td>-0.6297</td>\n",
       "      <td>0.6103</td>\n",
       "      <td>0.0223</td>\n",
       "      <td>-1.3240</td>\n",
       "      <td>-0.3174</td>\n",
       "      <td>-0.6417</td>\n",
       "      <td>-0.2187</td>\n",
       "      <td>-1.4080</td>\n",
       "      <td>0.6931</td>\n",
       "    </tr>\n",
       "    <tr>\n",
       "      <th>3</th>\n",
       "      <td>id_0015fd391</td>\n",
       "      <td>com_droga</td>\n",
       "      <td>48</td>\n",
       "      <td>D1</td>\n",
       "      <td>8c7f86626</td>\n",
       "      <td>-0.5138</td>\n",
       "      <td>-0.2491</td>\n",
       "      <td>-0.2656</td>\n",
       "      <td>0.5288</td>\n",
       "      <td>4.0620</td>\n",
       "      <td>...</td>\n",
       "      <td>-2.0990</td>\n",
       "      <td>-0.6441</td>\n",
       "      <td>-5.6300</td>\n",
       "      <td>-1.3780</td>\n",
       "      <td>-0.8632</td>\n",
       "      <td>-1.2880</td>\n",
       "      <td>-1.6210</td>\n",
       "      <td>-0.8784</td>\n",
       "      <td>-0.3876</td>\n",
       "      <td>-0.8154</td>\n",
       "    </tr>\n",
       "    <tr>\n",
       "      <th>4</th>\n",
       "      <td>id_001626bd3</td>\n",
       "      <td>com_droga</td>\n",
       "      <td>72</td>\n",
       "      <td>D2</td>\n",
       "      <td>7cbed3131</td>\n",
       "      <td>-0.3254</td>\n",
       "      <td>-0.4009</td>\n",
       "      <td>0.9700</td>\n",
       "      <td>0.6919</td>\n",
       "      <td>1.4180</td>\n",
       "      <td>...</td>\n",
       "      <td>0.0042</td>\n",
       "      <td>0.0048</td>\n",
       "      <td>0.6670</td>\n",
       "      <td>1.0690</td>\n",
       "      <td>0.5523</td>\n",
       "      <td>-0.3031</td>\n",
       "      <td>0.1094</td>\n",
       "      <td>0.2885</td>\n",
       "      <td>-0.3786</td>\n",
       "      <td>0.7125</td>\n",
       "    </tr>\n",
       "  </tbody>\n",
       "</table>\n",
       "<p>5 rows × 877 columns</p>\n",
       "</div>"
      ],
      "text/plain": [
       "             id tratamento  tempo dose   composto     g-0     g-1     g-2  \\\n",
       "0  id_000644bb2  com_droga     24   D1  b68db1d53  1.0620  0.5577 -0.2479   \n",
       "1  id_000779bfc  com_droga     72   D1  df89a8e5a  0.0743  0.4087  0.2991   \n",
       "2  id_000a6266a  com_droga     48   D1  18bb41b2c  0.6280  0.5817  1.5540   \n",
       "3  id_0015fd391  com_droga     48   D1  8c7f86626 -0.5138 -0.2491 -0.2656   \n",
       "4  id_001626bd3  com_droga     72   D2  7cbed3131 -0.3254 -0.4009  0.9700   \n",
       "\n",
       "      g-3     g-4  ...    c-90    c-91    c-92    c-93    c-94    c-95  \\\n",
       "0 -0.6208 -0.1944  ...  0.2862  0.2584  0.8076  0.5523 -0.1912  0.6584   \n",
       "1  0.0604  1.0190  ... -0.4265  0.7543  0.4708  0.0230  0.2957  0.4899   \n",
       "2 -0.0764 -0.0323  ... -0.7250 -0.6297  0.6103  0.0223 -1.3240 -0.3174   \n",
       "3  0.5288  4.0620  ... -2.0990 -0.6441 -5.6300 -1.3780 -0.8632 -1.2880   \n",
       "4  0.6919  1.4180  ...  0.0042  0.0048  0.6670  1.0690  0.5523 -0.3031   \n",
       "\n",
       "     c-96    c-97    c-98    c-99  \n",
       "0 -0.3981  0.2139  0.3801  0.4176  \n",
       "1  0.1522  0.1241  0.6077  0.7371  \n",
       "2 -0.6417 -0.2187 -1.4080  0.6931  \n",
       "3 -1.6210 -0.8784 -0.3876 -0.8154  \n",
       "4  0.1094  0.2885 -0.3786  0.7125  \n",
       "\n",
       "[5 rows x 877 columns]"
      ]
     },
     "execution_count": 40,
     "metadata": {},
     "output_type": "execute_result"
    }
   ],
   "source": [
    "dados.head()"
   ]
  },
  {
   "cell_type": "code",
   "execution_count": 41,
   "metadata": {
    "id": "D5hK5mcVej_G"
   },
   "outputs": [],
   "source": [
    "cod_compostos = dados['composto'].value_counts().index[0:5]"
   ]
  },
  {
   "cell_type": "code",
   "execution_count": 42,
   "metadata": {
    "colab": {
     "base_uri": "https://localhost:8080/"
    },
    "id": "LgrRw3eSfLYu",
    "outputId": "fc47b35a-3606-4b54-8bb4-f475e3b34673"
   },
   "outputs": [
    {
     "data": {
      "text/plain": [
       "Index(['cacb2b860', '87d714366', '9f80f3f77', '8b87a7a83', '5628cb3ee'], dtype='object')"
      ]
     },
     "execution_count": 42,
     "metadata": {},
     "output_type": "execute_result"
    }
   ],
   "source": [
    "cod_compostos"
   ]
  },
  {
   "cell_type": "code",
   "execution_count": 43,
   "metadata": {
    "colab": {
     "base_uri": "https://localhost:8080/",
     "height": 427
    },
    "id": "_GlSwTMGfpFs",
    "outputId": "cf1d175f-ad52-427e-c213-dbe35f5a9467"
   },
   "outputs": [
    {
     "data": {
      "text/html": [
       "<div>\n",
       "<style scoped>\n",
       "    .dataframe tbody tr th:only-of-type {\n",
       "        vertical-align: middle;\n",
       "    }\n",
       "\n",
       "    .dataframe tbody tr th {\n",
       "        vertical-align: top;\n",
       "    }\n",
       "\n",
       "    .dataframe thead th {\n",
       "        text-align: right;\n",
       "    }\n",
       "</style>\n",
       "<table border=\"1\" class=\"dataframe\">\n",
       "  <thead>\n",
       "    <tr style=\"text-align: right;\">\n",
       "      <th></th>\n",
       "      <th>id</th>\n",
       "      <th>tratamento</th>\n",
       "      <th>tempo</th>\n",
       "      <th>dose</th>\n",
       "      <th>composto</th>\n",
       "      <th>g-0</th>\n",
       "      <th>g-1</th>\n",
       "      <th>g-2</th>\n",
       "      <th>g-3</th>\n",
       "      <th>g-4</th>\n",
       "      <th>...</th>\n",
       "      <th>c-90</th>\n",
       "      <th>c-91</th>\n",
       "      <th>c-92</th>\n",
       "      <th>c-93</th>\n",
       "      <th>c-94</th>\n",
       "      <th>c-95</th>\n",
       "      <th>c-96</th>\n",
       "      <th>c-97</th>\n",
       "      <th>c-98</th>\n",
       "      <th>c-99</th>\n",
       "    </tr>\n",
       "  </thead>\n",
       "  <tbody>\n",
       "    <tr>\n",
       "      <th>7</th>\n",
       "      <td>id_0020d0484</td>\n",
       "      <td>com_droga</td>\n",
       "      <td>48</td>\n",
       "      <td>D1</td>\n",
       "      <td>8b87a7a83</td>\n",
       "      <td>0.2711</td>\n",
       "      <td>0.5133</td>\n",
       "      <td>-0.1327</td>\n",
       "      <td>2.5950</td>\n",
       "      <td>0.6980</td>\n",
       "      <td>...</td>\n",
       "      <td>0.3230</td>\n",
       "      <td>-0.4140</td>\n",
       "      <td>0.2532</td>\n",
       "      <td>0.0513</td>\n",
       "      <td>0.8600</td>\n",
       "      <td>1.4250</td>\n",
       "      <td>0.6633</td>\n",
       "      <td>0.4562</td>\n",
       "      <td>-0.9622</td>\n",
       "      <td>0.0260</td>\n",
       "    </tr>\n",
       "    <tr>\n",
       "      <th>16</th>\n",
       "      <td>id_002fb9c19</td>\n",
       "      <td>com_droga</td>\n",
       "      <td>48</td>\n",
       "      <td>D1</td>\n",
       "      <td>87d714366</td>\n",
       "      <td>8.7380</td>\n",
       "      <td>0.1914</td>\n",
       "      <td>2.4380</td>\n",
       "      <td>-0.2930</td>\n",
       "      <td>3.2010</td>\n",
       "      <td>...</td>\n",
       "      <td>-9.9840</td>\n",
       "      <td>-9.9840</td>\n",
       "      <td>-9.9840</td>\n",
       "      <td>-9.9840</td>\n",
       "      <td>-9.9840</td>\n",
       "      <td>-9.9840</td>\n",
       "      <td>-9.9840</td>\n",
       "      <td>-9.9840</td>\n",
       "      <td>-9.9840</td>\n",
       "      <td>-6.7840</td>\n",
       "    </tr>\n",
       "    <tr>\n",
       "      <th>25</th>\n",
       "      <td>id_0054388ec</td>\n",
       "      <td>com_controle</td>\n",
       "      <td>48</td>\n",
       "      <td>D1</td>\n",
       "      <td>cacb2b860</td>\n",
       "      <td>-0.6696</td>\n",
       "      <td>-0.2718</td>\n",
       "      <td>-1.2230</td>\n",
       "      <td>-0.6226</td>\n",
       "      <td>-0.7220</td>\n",
       "      <td>...</td>\n",
       "      <td>0.6171</td>\n",
       "      <td>0.6405</td>\n",
       "      <td>0.5429</td>\n",
       "      <td>0.3562</td>\n",
       "      <td>1.3290</td>\n",
       "      <td>0.5573</td>\n",
       "      <td>0.8837</td>\n",
       "      <td>0.5534</td>\n",
       "      <td>0.8976</td>\n",
       "      <td>1.0050</td>\n",
       "    </tr>\n",
       "    <tr>\n",
       "      <th>38</th>\n",
       "      <td>id_0079af0fb</td>\n",
       "      <td>com_controle</td>\n",
       "      <td>24</td>\n",
       "      <td>D1</td>\n",
       "      <td>cacb2b860</td>\n",
       "      <td>-0.1636</td>\n",
       "      <td>-1.8230</td>\n",
       "      <td>-0.5211</td>\n",
       "      <td>0.3054</td>\n",
       "      <td>-1.1280</td>\n",
       "      <td>...</td>\n",
       "      <td>-0.3880</td>\n",
       "      <td>-0.6828</td>\n",
       "      <td>-0.6594</td>\n",
       "      <td>-0.2043</td>\n",
       "      <td>0.3571</td>\n",
       "      <td>-0.1319</td>\n",
       "      <td>0.2187</td>\n",
       "      <td>0.0737</td>\n",
       "      <td>0.6498</td>\n",
       "      <td>-1.4820</td>\n",
       "    </tr>\n",
       "    <tr>\n",
       "      <th>40</th>\n",
       "      <td>id_007bfbb91</td>\n",
       "      <td>com_controle</td>\n",
       "      <td>24</td>\n",
       "      <td>D2</td>\n",
       "      <td>cacb2b860</td>\n",
       "      <td>-1.3200</td>\n",
       "      <td>-1.7340</td>\n",
       "      <td>-0.0741</td>\n",
       "      <td>1.5440</td>\n",
       "      <td>-1.8290</td>\n",
       "      <td>...</td>\n",
       "      <td>0.7412</td>\n",
       "      <td>1.0340</td>\n",
       "      <td>0.7393</td>\n",
       "      <td>1.1020</td>\n",
       "      <td>0.3786</td>\n",
       "      <td>0.2636</td>\n",
       "      <td>-0.5751</td>\n",
       "      <td>0.3362</td>\n",
       "      <td>0.8543</td>\n",
       "      <td>0.9180</td>\n",
       "    </tr>\n",
       "    <tr>\n",
       "      <th>...</th>\n",
       "      <td>...</td>\n",
       "      <td>...</td>\n",
       "      <td>...</td>\n",
       "      <td>...</td>\n",
       "      <td>...</td>\n",
       "      <td>...</td>\n",
       "      <td>...</td>\n",
       "      <td>...</td>\n",
       "      <td>...</td>\n",
       "      <td>...</td>\n",
       "      <td>...</td>\n",
       "      <td>...</td>\n",
       "      <td>...</td>\n",
       "      <td>...</td>\n",
       "      <td>...</td>\n",
       "      <td>...</td>\n",
       "      <td>...</td>\n",
       "      <td>...</td>\n",
       "      <td>...</td>\n",
       "      <td>...</td>\n",
       "      <td>...</td>\n",
       "    </tr>\n",
       "    <tr>\n",
       "      <th>23793</th>\n",
       "      <td>id_ffd26f361</td>\n",
       "      <td>com_controle</td>\n",
       "      <td>48</td>\n",
       "      <td>D2</td>\n",
       "      <td>cacb2b860</td>\n",
       "      <td>0.6008</td>\n",
       "      <td>0.2781</td>\n",
       "      <td>-0.3319</td>\n",
       "      <td>-0.8782</td>\n",
       "      <td>0.9281</td>\n",
       "      <td>...</td>\n",
       "      <td>1.2470</td>\n",
       "      <td>0.9569</td>\n",
       "      <td>-0.2065</td>\n",
       "      <td>-0.4918</td>\n",
       "      <td>0.7863</td>\n",
       "      <td>0.0504</td>\n",
       "      <td>0.8813</td>\n",
       "      <td>0.7757</td>\n",
       "      <td>-0.5272</td>\n",
       "      <td>0.7082</td>\n",
       "    </tr>\n",
       "    <tr>\n",
       "      <th>23802</th>\n",
       "      <td>id_fff3976bd</td>\n",
       "      <td>com_droga</td>\n",
       "      <td>24</td>\n",
       "      <td>D1</td>\n",
       "      <td>87d714366</td>\n",
       "      <td>3.2890</td>\n",
       "      <td>2.1270</td>\n",
       "      <td>0.9770</td>\n",
       "      <td>2.0490</td>\n",
       "      <td>2.3170</td>\n",
       "      <td>...</td>\n",
       "      <td>-8.6300</td>\n",
       "      <td>-8.1490</td>\n",
       "      <td>-6.2900</td>\n",
       "      <td>-8.0970</td>\n",
       "      <td>-8.7330</td>\n",
       "      <td>-2.3780</td>\n",
       "      <td>-8.4480</td>\n",
       "      <td>-4.4550</td>\n",
       "      <td>-5.7930</td>\n",
       "      <td>-3.7000</td>\n",
       "    </tr>\n",
       "    <tr>\n",
       "      <th>23805</th>\n",
       "      <td>id_fff6df1c5</td>\n",
       "      <td>com_droga</td>\n",
       "      <td>48</td>\n",
       "      <td>D2</td>\n",
       "      <td>5628cb3ee</td>\n",
       "      <td>1.7380</td>\n",
       "      <td>-1.2900</td>\n",
       "      <td>-0.4533</td>\n",
       "      <td>-1.1640</td>\n",
       "      <td>-0.4841</td>\n",
       "      <td>...</td>\n",
       "      <td>0.2865</td>\n",
       "      <td>0.5974</td>\n",
       "      <td>-0.2727</td>\n",
       "      <td>0.1188</td>\n",
       "      <td>1.0770</td>\n",
       "      <td>-1.0250</td>\n",
       "      <td>0.1516</td>\n",
       "      <td>0.4503</td>\n",
       "      <td>-0.6312</td>\n",
       "      <td>-0.8302</td>\n",
       "    </tr>\n",
       "    <tr>\n",
       "      <th>23811</th>\n",
       "      <td>id_fffc1c3f4</td>\n",
       "      <td>com_controle</td>\n",
       "      <td>48</td>\n",
       "      <td>D2</td>\n",
       "      <td>cacb2b860</td>\n",
       "      <td>0.3942</td>\n",
       "      <td>0.3756</td>\n",
       "      <td>0.3109</td>\n",
       "      <td>-0.7389</td>\n",
       "      <td>0.5505</td>\n",
       "      <td>...</td>\n",
       "      <td>0.5409</td>\n",
       "      <td>0.3755</td>\n",
       "      <td>0.7343</td>\n",
       "      <td>0.2807</td>\n",
       "      <td>0.4116</td>\n",
       "      <td>0.6422</td>\n",
       "      <td>0.2256</td>\n",
       "      <td>0.7592</td>\n",
       "      <td>0.6656</td>\n",
       "      <td>0.3808</td>\n",
       "    </tr>\n",
       "    <tr>\n",
       "      <th>23812</th>\n",
       "      <td>id_fffcb9e7c</td>\n",
       "      <td>com_droga</td>\n",
       "      <td>24</td>\n",
       "      <td>D1</td>\n",
       "      <td>8b87a7a83</td>\n",
       "      <td>0.6660</td>\n",
       "      <td>0.2324</td>\n",
       "      <td>0.4392</td>\n",
       "      <td>0.2044</td>\n",
       "      <td>0.8531</td>\n",
       "      <td>...</td>\n",
       "      <td>-0.1105</td>\n",
       "      <td>0.4258</td>\n",
       "      <td>-0.2012</td>\n",
       "      <td>0.1506</td>\n",
       "      <td>1.5230</td>\n",
       "      <td>0.7101</td>\n",
       "      <td>0.1732</td>\n",
       "      <td>0.7015</td>\n",
       "      <td>-0.6290</td>\n",
       "      <td>0.0740</td>\n",
       "    </tr>\n",
       "  </tbody>\n",
       "</table>\n",
       "<p>3235 rows × 877 columns</p>\n",
       "</div>"
      ],
      "text/plain": [
       "                 id    tratamento  tempo dose   composto     g-0     g-1  \\\n",
       "7      id_0020d0484     com_droga     48   D1  8b87a7a83  0.2711  0.5133   \n",
       "16     id_002fb9c19     com_droga     48   D1  87d714366  8.7380  0.1914   \n",
       "25     id_0054388ec  com_controle     48   D1  cacb2b860 -0.6696 -0.2718   \n",
       "38     id_0079af0fb  com_controle     24   D1  cacb2b860 -0.1636 -1.8230   \n",
       "40     id_007bfbb91  com_controle     24   D2  cacb2b860 -1.3200 -1.7340   \n",
       "...             ...           ...    ...  ...        ...     ...     ...   \n",
       "23793  id_ffd26f361  com_controle     48   D2  cacb2b860  0.6008  0.2781   \n",
       "23802  id_fff3976bd     com_droga     24   D1  87d714366  3.2890  2.1270   \n",
       "23805  id_fff6df1c5     com_droga     48   D2  5628cb3ee  1.7380 -1.2900   \n",
       "23811  id_fffc1c3f4  com_controle     48   D2  cacb2b860  0.3942  0.3756   \n",
       "23812  id_fffcb9e7c     com_droga     24   D1  8b87a7a83  0.6660  0.2324   \n",
       "\n",
       "          g-2     g-3     g-4  ...    c-90    c-91    c-92    c-93    c-94  \\\n",
       "7     -0.1327  2.5950  0.6980  ...  0.3230 -0.4140  0.2532  0.0513  0.8600   \n",
       "16     2.4380 -0.2930  3.2010  ... -9.9840 -9.9840 -9.9840 -9.9840 -9.9840   \n",
       "25    -1.2230 -0.6226 -0.7220  ...  0.6171  0.6405  0.5429  0.3562  1.3290   \n",
       "38    -0.5211  0.3054 -1.1280  ... -0.3880 -0.6828 -0.6594 -0.2043  0.3571   \n",
       "40    -0.0741  1.5440 -1.8290  ...  0.7412  1.0340  0.7393  1.1020  0.3786   \n",
       "...       ...     ...     ...  ...     ...     ...     ...     ...     ...   \n",
       "23793 -0.3319 -0.8782  0.9281  ...  1.2470  0.9569 -0.2065 -0.4918  0.7863   \n",
       "23802  0.9770  2.0490  2.3170  ... -8.6300 -8.1490 -6.2900 -8.0970 -8.7330   \n",
       "23805 -0.4533 -1.1640 -0.4841  ...  0.2865  0.5974 -0.2727  0.1188  1.0770   \n",
       "23811  0.3109 -0.7389  0.5505  ...  0.5409  0.3755  0.7343  0.2807  0.4116   \n",
       "23812  0.4392  0.2044  0.8531  ... -0.1105  0.4258 -0.2012  0.1506  1.5230   \n",
       "\n",
       "         c-95    c-96    c-97    c-98    c-99  \n",
       "7      1.4250  0.6633  0.4562 -0.9622  0.0260  \n",
       "16    -9.9840 -9.9840 -9.9840 -9.9840 -6.7840  \n",
       "25     0.5573  0.8837  0.5534  0.8976  1.0050  \n",
       "38    -0.1319  0.2187  0.0737  0.6498 -1.4820  \n",
       "40     0.2636 -0.5751  0.3362  0.8543  0.9180  \n",
       "...       ...     ...     ...     ...     ...  \n",
       "23793  0.0504  0.8813  0.7757 -0.5272  0.7082  \n",
       "23802 -2.3780 -8.4480 -4.4550 -5.7930 -3.7000  \n",
       "23805 -1.0250  0.1516  0.4503 -0.6312 -0.8302  \n",
       "23811  0.6422  0.2256  0.7592  0.6656  0.3808  \n",
       "23812  0.7101  0.1732  0.7015 -0.6290  0.0740  \n",
       "\n",
       "[3235 rows x 877 columns]"
      ]
     },
     "execution_count": 43,
     "metadata": {},
     "output_type": "execute_result"
    }
   ],
   "source": [
    "dados.query('composto in @cod_compostos')"
   ]
  },
  {
   "cell_type": "code",
   "execution_count": 58,
   "metadata": {
    "colab": {
     "base_uri": "https://localhost:8080/",
     "height": 410
    },
    "id": "IePUr98kdgED",
    "outputId": "7aa4e981-fcea-475e-c32a-9639c90a1e56"
   },
   "outputs": [
    {
     "data": {
      "image/png": "[encoded data removed]",
      "text/plain": [
       "<Figure size 576x432 with 1 Axes>"
      ]
     },
     "metadata": {},
     "output_type": "display_data"
    }
   ],
   "source": [
    "import seaborn as sns\n",
    "import matplotlib.pyplot as plt\n",
    "sns.set()\n",
    "plt.figure(figsize=(8, 6))\n",
    "ax = sns.countplot(x = 'composto', data=dados.query('composto in @cod_compostos'), order=cod_compostos)\n",
    "ax.set_title('Top 5 compostos')\n",
    "plt.show()"
   ]
  },
  {
   "cell_type": "code",
   "execution_count": 45,
   "metadata": {
    "colab": {
     "base_uri": "https://localhost:8080/"
    },
    "id": "DkQ2wH9Gj-w7",
    "outputId": "65957793-cf04-49d3-f168-aea890e44f6b"
   },
   "outputs": [
    {
     "data": {
      "text/plain": [
       "14367"
      ]
     },
     "execution_count": 45,
     "metadata": {},
     "output_type": "execute_result"
    }
   ],
   "source": [
    "len(dados['g-0'].unique())"
   ]
  },
  {
   "cell_type": "code",
   "execution_count": 46,
   "metadata": {
    "colab": {
     "base_uri": "https://localhost:8080/"
    },
    "id": "mCC5DpK1kmiX",
    "outputId": "cca8ba06-5946-443b-be1b-5ec4b30fea3d"
   },
   "outputs": [
    {
     "data": {
      "text/plain": [
       "-5.513"
      ]
     },
     "execution_count": 46,
     "metadata": {},
     "output_type": "execute_result"
    }
   ],
   "source": [
    "dados['g-0'].min()"
   ]
  },
  {
   "cell_type": "code",
   "execution_count": 47,
   "metadata": {
    "colab": {
     "base_uri": "https://localhost:8080/"
    },
    "id": "qzH4Jl0OksuL",
    "outputId": "c4c39b6c-7215-4321-c166-6b41c9fb5505"
   },
   "outputs": [
    {
     "data": {
      "text/plain": [
       "10.0"
      ]
     },
     "execution_count": 47,
     "metadata": {},
     "output_type": "execute_result"
    }
   ],
   "source": [
    "dados['g-0'].max()"
   ]
  },
  {
   "cell_type": "code",
   "execution_count": 48,
   "metadata": {
    "colab": {
     "base_uri": "https://localhost:8080/",
     "height": 286
    },
    "id": "RnjRPpubk1z0",
    "outputId": "cb1cc4ec-c6cc-4c4f-af60-9f06c127c3d5"
   },
   "outputs": [
    {
     "data": {
      "text/plain": [
       "<AxesSubplot:>"
      ]
     },
     "execution_count": 48,
     "metadata": {},
     "output_type": "execute_result"
    },
    {
     "data": {
      "image/png": "[encoded data removed]",
      "text/plain": [
       "<Figure size 432x288 with 1 Axes>"
      ]
     },
     "metadata": {},
     "output_type": "display_data"
    }
   ],
   "source": [
    "dados['g-0'].hist(bins = 100)"
   ]
  },
  {
   "cell_type": "code",
   "execution_count": 49,
   "metadata": {
    "colab": {
     "base_uri": "https://localhost:8080/",
     "height": 286
    },
    "id": "1_aedkvToYlB",
    "outputId": "585ea62a-58b2-4cc8-bf68-43af899f5928"
   },
   "outputs": [
    {
     "data": {
      "text/plain": [
       "<AxesSubplot:>"
      ]
     },
     "execution_count": 49,
     "metadata": {},
     "output_type": "execute_result"
    },
    {
     "data": {
      "image/png": "[encoded data removed]",
      "text/plain": [
       "<Figure size 432x288 with 1 Axes>"
      ]
     },
     "metadata": {},
     "output_type": "display_data"
    }
   ],
   "source": [
    "dados['g-19'].hist(bins = 100)"
   ]
  },
  {
   "cell_type": "code",
   "execution_count": 50,
   "metadata": {
    "colab": {
     "base_uri": "https://localhost:8080/",
     "height": 337
    },
    "id": "Kv-2zPLBprgD",
    "outputId": "db25e161-b894-44e8-8cb5-335128e3a47b"
   },
   "outputs": [
    {
     "data": {
      "text/html": [
       "<div>\n",
       "<style scoped>\n",
       "    .dataframe tbody tr th:only-of-type {\n",
       "        vertical-align: middle;\n",
       "    }\n",
       "\n",
       "    .dataframe tbody tr th {\n",
       "        vertical-align: top;\n",
       "    }\n",
       "\n",
       "    .dataframe thead th {\n",
       "        text-align: right;\n",
       "    }\n",
       "</style>\n",
       "<table border=\"1\" class=\"dataframe\">\n",
       "  <thead>\n",
       "    <tr style=\"text-align: right;\">\n",
       "      <th></th>\n",
       "      <th>tempo</th>\n",
       "      <th>g-0</th>\n",
       "      <th>g-1</th>\n",
       "      <th>g-2</th>\n",
       "      <th>g-3</th>\n",
       "      <th>g-4</th>\n",
       "      <th>g-5</th>\n",
       "      <th>g-6</th>\n",
       "      <th>g-7</th>\n",
       "      <th>g-8</th>\n",
       "      <th>...</th>\n",
       "      <th>c-90</th>\n",
       "      <th>c-91</th>\n",
       "      <th>c-92</th>\n",
       "      <th>c-93</th>\n",
       "      <th>c-94</th>\n",
       "      <th>c-95</th>\n",
       "      <th>c-96</th>\n",
       "      <th>c-97</th>\n",
       "      <th>c-98</th>\n",
       "      <th>c-99</th>\n",
       "    </tr>\n",
       "  </thead>\n",
       "  <tbody>\n",
       "    <tr>\n",
       "      <th>count</th>\n",
       "      <td>23814.000000</td>\n",
       "      <td>23814.000000</td>\n",
       "      <td>23814.000000</td>\n",
       "      <td>23814.000000</td>\n",
       "      <td>23814.000000</td>\n",
       "      <td>23814.000000</td>\n",
       "      <td>23814.000000</td>\n",
       "      <td>23814.000000</td>\n",
       "      <td>23814.000000</td>\n",
       "      <td>23814.000000</td>\n",
       "      <td>...</td>\n",
       "      <td>23814.000000</td>\n",
       "      <td>23814.000000</td>\n",
       "      <td>23814.000000</td>\n",
       "      <td>23814.000000</td>\n",
       "      <td>23814.000000</td>\n",
       "      <td>23814.000000</td>\n",
       "      <td>23814.000000</td>\n",
       "      <td>23814.000000</td>\n",
       "      <td>23814.000000</td>\n",
       "      <td>23814.000000</td>\n",
       "    </tr>\n",
       "    <tr>\n",
       "      <th>mean</th>\n",
       "      <td>48.020156</td>\n",
       "      <td>0.248366</td>\n",
       "      <td>-0.095684</td>\n",
       "      <td>0.152253</td>\n",
       "      <td>0.081971</td>\n",
       "      <td>0.057347</td>\n",
       "      <td>-0.138836</td>\n",
       "      <td>0.035961</td>\n",
       "      <td>-0.202651</td>\n",
       "      <td>-0.190083</td>\n",
       "      <td>...</td>\n",
       "      <td>-0.469244</td>\n",
       "      <td>-0.461411</td>\n",
       "      <td>-0.513256</td>\n",
       "      <td>-0.500142</td>\n",
       "      <td>-0.507093</td>\n",
       "      <td>-0.353726</td>\n",
       "      <td>-0.463485</td>\n",
       "      <td>-0.378241</td>\n",
       "      <td>-0.470252</td>\n",
       "      <td>-0.301505</td>\n",
       "    </tr>\n",
       "    <tr>\n",
       "      <th>std</th>\n",
       "      <td>19.402807</td>\n",
       "      <td>1.393399</td>\n",
       "      <td>0.812363</td>\n",
       "      <td>1.035731</td>\n",
       "      <td>0.950012</td>\n",
       "      <td>1.032091</td>\n",
       "      <td>1.179388</td>\n",
       "      <td>0.882395</td>\n",
       "      <td>1.125494</td>\n",
       "      <td>1.749885</td>\n",
       "      <td>...</td>\n",
       "      <td>2.000488</td>\n",
       "      <td>2.042475</td>\n",
       "      <td>2.001714</td>\n",
       "      <td>2.107105</td>\n",
       "      <td>2.159589</td>\n",
       "      <td>1.629291</td>\n",
       "      <td>2.059725</td>\n",
       "      <td>1.703615</td>\n",
       "      <td>1.834828</td>\n",
       "      <td>1.407918</td>\n",
       "    </tr>\n",
       "    <tr>\n",
       "      <th>min</th>\n",
       "      <td>24.000000</td>\n",
       "      <td>-5.513000</td>\n",
       "      <td>-5.737000</td>\n",
       "      <td>-9.104000</td>\n",
       "      <td>-5.998000</td>\n",
       "      <td>-6.369000</td>\n",
       "      <td>-10.000000</td>\n",
       "      <td>-10.000000</td>\n",
       "      <td>-10.000000</td>\n",
       "      <td>-10.000000</td>\n",
       "      <td>...</td>\n",
       "      <td>-10.000000</td>\n",
       "      <td>-10.000000</td>\n",
       "      <td>-10.000000</td>\n",
       "      <td>-10.000000</td>\n",
       "      <td>-10.000000</td>\n",
       "      <td>-10.000000</td>\n",
       "      <td>-10.000000</td>\n",
       "      <td>-10.000000</td>\n",
       "      <td>-10.000000</td>\n",
       "      <td>-10.000000</td>\n",
       "    </tr>\n",
       "    <tr>\n",
       "      <th>25%</th>\n",
       "      <td>24.000000</td>\n",
       "      <td>-0.473075</td>\n",
       "      <td>-0.562200</td>\n",
       "      <td>-0.437750</td>\n",
       "      <td>-0.429575</td>\n",
       "      <td>-0.470925</td>\n",
       "      <td>-0.602225</td>\n",
       "      <td>-0.493900</td>\n",
       "      <td>-0.525175</td>\n",
       "      <td>-0.511675</td>\n",
       "      <td>...</td>\n",
       "      <td>-0.566175</td>\n",
       "      <td>-0.565975</td>\n",
       "      <td>-0.589975</td>\n",
       "      <td>-0.568700</td>\n",
       "      <td>-0.563775</td>\n",
       "      <td>-0.567975</td>\n",
       "      <td>-0.552575</td>\n",
       "      <td>-0.561000</td>\n",
       "      <td>-0.592600</td>\n",
       "      <td>-0.562900</td>\n",
       "    </tr>\n",
       "    <tr>\n",
       "      <th>50%</th>\n",
       "      <td>48.000000</td>\n",
       "      <td>-0.008850</td>\n",
       "      <td>-0.046600</td>\n",
       "      <td>0.075200</td>\n",
       "      <td>0.008050</td>\n",
       "      <td>-0.026900</td>\n",
       "      <td>-0.015650</td>\n",
       "      <td>-0.000650</td>\n",
       "      <td>-0.017900</td>\n",
       "      <td>0.010000</td>\n",
       "      <td>...</td>\n",
       "      <td>-0.009900</td>\n",
       "      <td>0.003250</td>\n",
       "      <td>-0.009100</td>\n",
       "      <td>-0.013750</td>\n",
       "      <td>-0.003300</td>\n",
       "      <td>-0.010250</td>\n",
       "      <td>-0.001250</td>\n",
       "      <td>-0.006800</td>\n",
       "      <td>0.014000</td>\n",
       "      <td>-0.019500</td>\n",
       "    </tr>\n",
       "    <tr>\n",
       "      <th>75%</th>\n",
       "      <td>72.000000</td>\n",
       "      <td>0.525700</td>\n",
       "      <td>0.403075</td>\n",
       "      <td>0.663925</td>\n",
       "      <td>0.463400</td>\n",
       "      <td>0.465375</td>\n",
       "      <td>0.510425</td>\n",
       "      <td>0.528725</td>\n",
       "      <td>0.411900</td>\n",
       "      <td>0.549225</td>\n",
       "      <td>...</td>\n",
       "      <td>0.457750</td>\n",
       "      <td>0.461500</td>\n",
       "      <td>0.445675</td>\n",
       "      <td>0.452900</td>\n",
       "      <td>0.470900</td>\n",
       "      <td>0.444750</td>\n",
       "      <td>0.465225</td>\n",
       "      <td>0.446400</td>\n",
       "      <td>0.461275</td>\n",
       "      <td>0.438650</td>\n",
       "    </tr>\n",
       "    <tr>\n",
       "      <th>max</th>\n",
       "      <td>72.000000</td>\n",
       "      <td>10.000000</td>\n",
       "      <td>5.039000</td>\n",
       "      <td>8.257000</td>\n",
       "      <td>10.000000</td>\n",
       "      <td>10.000000</td>\n",
       "      <td>7.282000</td>\n",
       "      <td>7.333000</td>\n",
       "      <td>5.473000</td>\n",
       "      <td>8.887000</td>\n",
       "      <td>...</td>\n",
       "      <td>4.069000</td>\n",
       "      <td>3.960000</td>\n",
       "      <td>3.927000</td>\n",
       "      <td>3.596000</td>\n",
       "      <td>3.747000</td>\n",
       "      <td>2.814000</td>\n",
       "      <td>3.505000</td>\n",
       "      <td>2.924000</td>\n",
       "      <td>3.111000</td>\n",
       "      <td>3.805000</td>\n",
       "    </tr>\n",
       "  </tbody>\n",
       "</table>\n",
       "<p>8 rows × 873 columns</p>\n",
       "</div>"
      ],
      "text/plain": [
       "              tempo           g-0           g-1           g-2           g-3  \\\n",
       "count  23814.000000  23814.000000  23814.000000  23814.000000  23814.000000   \n",
       "mean      48.020156      0.248366     -0.095684      0.152253      0.081971   \n",
       "std       19.402807      1.393399      0.812363      1.035731      0.950012   \n",
       "min       24.000000     -5.513000     -5.737000     -9.104000     -5.998000   \n",
       "25%       24.000000     -0.473075     -0.562200     -0.437750     -0.429575   \n",
       "50%       48.000000     -0.008850     -0.046600      0.075200      0.008050   \n",
       "75%       72.000000      0.525700      0.403075      0.663925      0.463400   \n",
       "max       72.000000     10.000000      5.039000      8.257000     10.000000   \n",
       "\n",
       "                g-4           g-5           g-6           g-7           g-8  \\\n",
       "count  23814.000000  23814.000000  23814.000000  23814.000000  23814.000000   \n",
       "mean       0.057347     -0.138836      0.035961     -0.202651     -0.190083   \n",
       "std        1.032091      1.179388      0.882395      1.125494      1.749885   \n",
       "min       -6.369000    -10.000000    -10.000000    -10.000000    -10.000000   \n",
       "25%       -0.470925     -0.602225     -0.493900     -0.525175     -0.511675   \n",
       "50%       -0.026900     -0.015650     -0.000650     -0.017900      0.010000   \n",
       "75%        0.465375      0.510425      0.528725      0.411900      0.549225   \n",
       "max       10.000000      7.282000      7.333000      5.473000      8.887000   \n",
       "\n",
       "       ...          c-90          c-91          c-92          c-93  \\\n",
       "count  ...  23814.000000  23814.000000  23814.000000  23814.000000   \n",
       "mean   ...     -0.469244     -0.461411     -0.513256     -0.500142   \n",
       "std    ...      2.000488      2.042475      2.001714      2.107105   \n",
       "min    ...    -10.000000    -10.000000    -10.000000    -10.000000   \n",
       "25%    ...     -0.566175     -0.565975     -0.589975     -0.568700   \n",
       "50%    ...     -0.009900      0.003250     -0.009100     -0.013750   \n",
       "75%    ...      0.457750      0.461500      0.445675      0.452900   \n",
       "max    ...      4.069000      3.960000      3.927000      3.596000   \n",
       "\n",
       "               c-94          c-95          c-96          c-97          c-98  \\\n",
       "count  23814.000000  23814.000000  23814.000000  23814.000000  23814.000000   \n",
       "mean      -0.507093     -0.353726     -0.463485     -0.378241     -0.470252   \n",
       "std        2.159589      1.629291      2.059725      1.703615      1.834828   \n",
       "min      -10.000000    -10.000000    -10.000000    -10.000000    -10.000000   \n",
       "25%       -0.563775     -0.567975     -0.552575     -0.561000     -0.592600   \n",
       "50%       -0.003300     -0.010250     -0.001250     -0.006800      0.014000   \n",
       "75%        0.470900      0.444750      0.465225      0.446400      0.461275   \n",
       "max        3.747000      2.814000      3.505000      2.924000      3.111000   \n",
       "\n",
       "               c-99  \n",
       "count  23814.000000  \n",
       "mean      -0.301505  \n",
       "std        1.407918  \n",
       "min      -10.000000  \n",
       "25%       -0.562900  \n",
       "50%       -0.019500  \n",
       "75%        0.438650  \n",
       "max        3.805000  \n",
       "\n",
       "[8 rows x 873 columns]"
      ]
     },
     "execution_count": 50,
     "metadata": {},
     "output_type": "execute_result"
    }
   ],
   "source": [
    "dados.describe()"
   ]
  },
  {
   "cell_type": "code",
   "execution_count": 51,
   "metadata": {
    "colab": {
     "base_uri": "https://localhost:8080/",
     "height": 407
    },
    "id": "OAkjbZdkqPlR",
    "outputId": "c62b3429-4847-45e2-bacc-d221c8847c5e"
   },
   "outputs": [
    {
     "data": {
      "text/html": [
       "<div>\n",
       "<style scoped>\n",
       "    .dataframe tbody tr th:only-of-type {\n",
       "        vertical-align: middle;\n",
       "    }\n",
       "\n",
       "    .dataframe tbody tr th {\n",
       "        vertical-align: top;\n",
       "    }\n",
       "\n",
       "    .dataframe thead th {\n",
       "        text-align: right;\n",
       "    }\n",
       "</style>\n",
       "<table border=\"1\" class=\"dataframe\">\n",
       "  <thead>\n",
       "    <tr style=\"text-align: right;\">\n",
       "      <th></th>\n",
       "      <th>g-0</th>\n",
       "      <th>g-1</th>\n",
       "    </tr>\n",
       "  </thead>\n",
       "  <tbody>\n",
       "    <tr>\n",
       "      <th>0</th>\n",
       "      <td>1.0620</td>\n",
       "      <td>0.5577</td>\n",
       "    </tr>\n",
       "    <tr>\n",
       "      <th>1</th>\n",
       "      <td>0.0743</td>\n",
       "      <td>0.4087</td>\n",
       "    </tr>\n",
       "    <tr>\n",
       "      <th>2</th>\n",
       "      <td>0.6280</td>\n",
       "      <td>0.5817</td>\n",
       "    </tr>\n",
       "    <tr>\n",
       "      <th>3</th>\n",
       "      <td>-0.5138</td>\n",
       "      <td>-0.2491</td>\n",
       "    </tr>\n",
       "    <tr>\n",
       "      <th>4</th>\n",
       "      <td>-0.3254</td>\n",
       "      <td>-0.4009</td>\n",
       "    </tr>\n",
       "    <tr>\n",
       "      <th>...</th>\n",
       "      <td>...</td>\n",
       "      <td>...</td>\n",
       "    </tr>\n",
       "    <tr>\n",
       "      <th>23809</th>\n",
       "      <td>0.1394</td>\n",
       "      <td>-0.0636</td>\n",
       "    </tr>\n",
       "    <tr>\n",
       "      <th>23810</th>\n",
       "      <td>-1.3260</td>\n",
       "      <td>0.3478</td>\n",
       "    </tr>\n",
       "    <tr>\n",
       "      <th>23811</th>\n",
       "      <td>0.3942</td>\n",
       "      <td>0.3756</td>\n",
       "    </tr>\n",
       "    <tr>\n",
       "      <th>23812</th>\n",
       "      <td>0.6660</td>\n",
       "      <td>0.2324</td>\n",
       "    </tr>\n",
       "    <tr>\n",
       "      <th>23813</th>\n",
       "      <td>-0.8598</td>\n",
       "      <td>1.0240</td>\n",
       "    </tr>\n",
       "  </tbody>\n",
       "</table>\n",
       "<p>23814 rows × 2 columns</p>\n",
       "</div>"
      ],
      "text/plain": [
       "          g-0     g-1\n",
       "0      1.0620  0.5577\n",
       "1      0.0743  0.4087\n",
       "2      0.6280  0.5817\n",
       "3     -0.5138 -0.2491\n",
       "4     -0.3254 -0.4009\n",
       "...       ...     ...\n",
       "23809  0.1394 -0.0636\n",
       "23810 -1.3260  0.3478\n",
       "23811  0.3942  0.3756\n",
       "23812  0.6660  0.2324\n",
       "23813 -0.8598  1.0240\n",
       "\n",
       "[23814 rows x 2 columns]"
      ]
     },
     "execution_count": 51,
     "metadata": {},
     "output_type": "execute_result"
    }
   ],
   "source": [
    "dados[['g-0', 'g-1']]"
   ]
  },
  {
   "cell_type": "code",
   "execution_count": 52,
   "metadata": {
    "colab": {
     "base_uri": "https://localhost:8080/",
     "height": 337
    },
    "id": "dQX0KOhUqm66",
    "outputId": "4c5c9943-b715-4a2c-d04e-aba544087113"
   },
   "outputs": [
    {
     "data": {
      "text/html": [
       "<div>\n",
       "<style scoped>\n",
       "    .dataframe tbody tr th:only-of-type {\n",
       "        vertical-align: middle;\n",
       "    }\n",
       "\n",
       "    .dataframe tbody tr th {\n",
       "        vertical-align: top;\n",
       "    }\n",
       "\n",
       "    .dataframe thead th {\n",
       "        text-align: right;\n",
       "    }\n",
       "</style>\n",
       "<table border=\"1\" class=\"dataframe\">\n",
       "  <thead>\n",
       "    <tr style=\"text-align: right;\">\n",
       "      <th></th>\n",
       "      <th>g-0</th>\n",
       "      <th>g-1</th>\n",
       "      <th>g-2</th>\n",
       "      <th>g-3</th>\n",
       "      <th>g-4</th>\n",
       "      <th>g-5</th>\n",
       "      <th>g-6</th>\n",
       "      <th>g-7</th>\n",
       "      <th>g-8</th>\n",
       "      <th>g-9</th>\n",
       "      <th>...</th>\n",
       "      <th>g-762</th>\n",
       "      <th>g-763</th>\n",
       "      <th>g-764</th>\n",
       "      <th>g-765</th>\n",
       "      <th>g-766</th>\n",
       "      <th>g-767</th>\n",
       "      <th>g-768</th>\n",
       "      <th>g-769</th>\n",
       "      <th>g-770</th>\n",
       "      <th>g-771</th>\n",
       "    </tr>\n",
       "  </thead>\n",
       "  <tbody>\n",
       "    <tr>\n",
       "      <th>count</th>\n",
       "      <td>23814.000000</td>\n",
       "      <td>23814.000000</td>\n",
       "      <td>23814.000000</td>\n",
       "      <td>23814.000000</td>\n",
       "      <td>23814.000000</td>\n",
       "      <td>23814.000000</td>\n",
       "      <td>23814.000000</td>\n",
       "      <td>23814.000000</td>\n",
       "      <td>23814.000000</td>\n",
       "      <td>23814.000000</td>\n",
       "      <td>...</td>\n",
       "      <td>23814.000000</td>\n",
       "      <td>23814.000000</td>\n",
       "      <td>23814.000000</td>\n",
       "      <td>23814.000000</td>\n",
       "      <td>23814.000000</td>\n",
       "      <td>23814.000000</td>\n",
       "      <td>23814.000000</td>\n",
       "      <td>23814.000000</td>\n",
       "      <td>23814.000000</td>\n",
       "      <td>23814.000000</td>\n",
       "    </tr>\n",
       "    <tr>\n",
       "      <th>mean</th>\n",
       "      <td>0.248366</td>\n",
       "      <td>-0.095684</td>\n",
       "      <td>0.152253</td>\n",
       "      <td>0.081971</td>\n",
       "      <td>0.057347</td>\n",
       "      <td>-0.138836</td>\n",
       "      <td>0.035961</td>\n",
       "      <td>-0.202651</td>\n",
       "      <td>-0.190083</td>\n",
       "      <td>0.119905</td>\n",
       "      <td>...</td>\n",
       "      <td>0.207299</td>\n",
       "      <td>0.009161</td>\n",
       "      <td>0.171027</td>\n",
       "      <td>0.002316</td>\n",
       "      <td>-0.209799</td>\n",
       "      <td>-0.076251</td>\n",
       "      <td>0.134162</td>\n",
       "      <td>-0.128018</td>\n",
       "      <td>-0.219210</td>\n",
       "      <td>0.101524</td>\n",
       "    </tr>\n",
       "    <tr>\n",
       "      <th>std</th>\n",
       "      <td>1.393399</td>\n",
       "      <td>0.812363</td>\n",
       "      <td>1.035731</td>\n",
       "      <td>0.950012</td>\n",
       "      <td>1.032091</td>\n",
       "      <td>1.179388</td>\n",
       "      <td>0.882395</td>\n",
       "      <td>1.125494</td>\n",
       "      <td>1.749885</td>\n",
       "      <td>1.087180</td>\n",
       "      <td>...</td>\n",
       "      <td>1.096488</td>\n",
       "      <td>1.200395</td>\n",
       "      <td>1.357701</td>\n",
       "      <td>1.052771</td>\n",
       "      <td>1.201918</td>\n",
       "      <td>1.115477</td>\n",
       "      <td>0.951264</td>\n",
       "      <td>1.230636</td>\n",
       "      <td>1.326193</td>\n",
       "      <td>1.417674</td>\n",
       "    </tr>\n",
       "    <tr>\n",
       "      <th>min</th>\n",
       "      <td>-5.513000</td>\n",
       "      <td>-5.737000</td>\n",
       "      <td>-9.104000</td>\n",
       "      <td>-5.998000</td>\n",
       "      <td>-6.369000</td>\n",
       "      <td>-10.000000</td>\n",
       "      <td>-10.000000</td>\n",
       "      <td>-10.000000</td>\n",
       "      <td>-10.000000</td>\n",
       "      <td>-8.337000</td>\n",
       "      <td>...</td>\n",
       "      <td>-8.193000</td>\n",
       "      <td>-10.000000</td>\n",
       "      <td>-9.795000</td>\n",
       "      <td>-8.180000</td>\n",
       "      <td>-10.000000</td>\n",
       "      <td>-10.000000</td>\n",
       "      <td>-4.269000</td>\n",
       "      <td>-10.000000</td>\n",
       "      <td>-10.000000</td>\n",
       "      <td>-10.000000</td>\n",
       "    </tr>\n",
       "    <tr>\n",
       "      <th>25%</th>\n",
       "      <td>-0.473075</td>\n",
       "      <td>-0.562200</td>\n",
       "      <td>-0.437750</td>\n",
       "      <td>-0.429575</td>\n",
       "      <td>-0.470925</td>\n",
       "      <td>-0.602225</td>\n",
       "      <td>-0.493900</td>\n",
       "      <td>-0.525175</td>\n",
       "      <td>-0.511675</td>\n",
       "      <td>-0.360200</td>\n",
       "      <td>...</td>\n",
       "      <td>-0.433875</td>\n",
       "      <td>-0.502250</td>\n",
       "      <td>-0.537075</td>\n",
       "      <td>-0.508775</td>\n",
       "      <td>-0.606175</td>\n",
       "      <td>-0.506200</td>\n",
       "      <td>-0.353100</td>\n",
       "      <td>-0.544600</td>\n",
       "      <td>-0.554400</td>\n",
       "      <td>-0.523800</td>\n",
       "    </tr>\n",
       "    <tr>\n",
       "      <th>50%</th>\n",
       "      <td>-0.008850</td>\n",
       "      <td>-0.046600</td>\n",
       "      <td>0.075200</td>\n",
       "      <td>0.008050</td>\n",
       "      <td>-0.026900</td>\n",
       "      <td>-0.015650</td>\n",
       "      <td>-0.000650</td>\n",
       "      <td>-0.017900</td>\n",
       "      <td>0.010000</td>\n",
       "      <td>0.160450</td>\n",
       "      <td>...</td>\n",
       "      <td>0.059600</td>\n",
       "      <td>-0.005900</td>\n",
       "      <td>-0.013600</td>\n",
       "      <td>-0.027700</td>\n",
       "      <td>-0.011850</td>\n",
       "      <td>0.009900</td>\n",
       "      <td>0.005400</td>\n",
       "      <td>0.000600</td>\n",
       "      <td>0.028700</td>\n",
       "      <td>-0.006500</td>\n",
       "    </tr>\n",
       "    <tr>\n",
       "      <th>75%</th>\n",
       "      <td>0.525700</td>\n",
       "      <td>0.403075</td>\n",
       "      <td>0.663925</td>\n",
       "      <td>0.463400</td>\n",
       "      <td>0.465375</td>\n",
       "      <td>0.510425</td>\n",
       "      <td>0.528725</td>\n",
       "      <td>0.411900</td>\n",
       "      <td>0.549225</td>\n",
       "      <td>0.697775</td>\n",
       "      <td>...</td>\n",
       "      <td>0.648500</td>\n",
       "      <td>0.492150</td>\n",
       "      <td>0.522500</td>\n",
       "      <td>0.457000</td>\n",
       "      <td>0.483000</td>\n",
       "      <td>0.511175</td>\n",
       "      <td>0.409075</td>\n",
       "      <td>0.498500</td>\n",
       "      <td>0.496400</td>\n",
       "      <td>0.536950</td>\n",
       "    </tr>\n",
       "    <tr>\n",
       "      <th>max</th>\n",
       "      <td>10.000000</td>\n",
       "      <td>5.039000</td>\n",
       "      <td>8.257000</td>\n",
       "      <td>10.000000</td>\n",
       "      <td>10.000000</td>\n",
       "      <td>7.282000</td>\n",
       "      <td>7.333000</td>\n",
       "      <td>5.473000</td>\n",
       "      <td>8.887000</td>\n",
       "      <td>6.433000</td>\n",
       "      <td>...</td>\n",
       "      <td>10.000000</td>\n",
       "      <td>9.552000</td>\n",
       "      <td>10.000000</td>\n",
       "      <td>8.346000</td>\n",
       "      <td>5.444000</td>\n",
       "      <td>6.317000</td>\n",
       "      <td>10.000000</td>\n",
       "      <td>5.911000</td>\n",
       "      <td>10.000000</td>\n",
       "      <td>10.000000</td>\n",
       "    </tr>\n",
       "  </tbody>\n",
       "</table>\n",
       "<p>8 rows × 772 columns</p>\n",
       "</div>"
      ],
      "text/plain": [
       "                g-0           g-1           g-2           g-3           g-4  \\\n",
       "count  23814.000000  23814.000000  23814.000000  23814.000000  23814.000000   \n",
       "mean       0.248366     -0.095684      0.152253      0.081971      0.057347   \n",
       "std        1.393399      0.812363      1.035731      0.950012      1.032091   \n",
       "min       -5.513000     -5.737000     -9.104000     -5.998000     -6.369000   \n",
       "25%       -0.473075     -0.562200     -0.437750     -0.429575     -0.470925   \n",
       "50%       -0.008850     -0.046600      0.075200      0.008050     -0.026900   \n",
       "75%        0.525700      0.403075      0.663925      0.463400      0.465375   \n",
       "max       10.000000      5.039000      8.257000     10.000000     10.000000   \n",
       "\n",
       "                g-5           g-6           g-7           g-8           g-9  \\\n",
       "count  23814.000000  23814.000000  23814.000000  23814.000000  23814.000000   \n",
       "mean      -0.138836      0.035961     -0.202651     -0.190083      0.119905   \n",
       "std        1.179388      0.882395      1.125494      1.749885      1.087180   \n",
       "min      -10.000000    -10.000000    -10.000000    -10.000000     -8.337000   \n",
       "25%       -0.602225     -0.493900     -0.525175     -0.511675     -0.360200   \n",
       "50%       -0.015650     -0.000650     -0.017900      0.010000      0.160450   \n",
       "75%        0.510425      0.528725      0.411900      0.549225      0.697775   \n",
       "max        7.282000      7.333000      5.473000      8.887000      6.433000   \n",
       "\n",
       "       ...         g-762         g-763         g-764         g-765  \\\n",
       "count  ...  23814.000000  23814.000000  23814.000000  23814.000000   \n",
       "mean   ...      0.207299      0.009161      0.171027      0.002316   \n",
       "std    ...      1.096488      1.200395      1.357701      1.052771   \n",
       "min    ...     -8.193000    -10.000000     -9.795000     -8.180000   \n",
       "25%    ...     -0.433875     -0.502250     -0.537075     -0.508775   \n",
       "50%    ...      0.059600     -0.005900     -0.013600     -0.027700   \n",
       "75%    ...      0.648500      0.492150      0.522500      0.457000   \n",
       "max    ...     10.000000      9.552000     10.000000      8.346000   \n",
       "\n",
       "              g-766         g-767         g-768         g-769         g-770  \\\n",
       "count  23814.000000  23814.000000  23814.000000  23814.000000  23814.000000   \n",
       "mean      -0.209799     -0.076251      0.134162     -0.128018     -0.219210   \n",
       "std        1.201918      1.115477      0.951264      1.230636      1.326193   \n",
       "min      -10.000000    -10.000000     -4.269000    -10.000000    -10.000000   \n",
       "25%       -0.606175     -0.506200     -0.353100     -0.544600     -0.554400   \n",
       "50%       -0.011850      0.009900      0.005400      0.000600      0.028700   \n",
       "75%        0.483000      0.511175      0.409075      0.498500      0.496400   \n",
       "max        5.444000      6.317000     10.000000      5.911000     10.000000   \n",
       "\n",
       "              g-771  \n",
       "count  23814.000000  \n",
       "mean       0.101524  \n",
       "std        1.417674  \n",
       "min      -10.000000  \n",
       "25%       -0.523800  \n",
       "50%       -0.006500  \n",
       "75%        0.536950  \n",
       "max       10.000000  \n",
       "\n",
       "[8 rows x 772 columns]"
      ]
     },
     "execution_count": 52,
     "metadata": {},
     "output_type": "execute_result"
    }
   ],
   "source": [
    "dados.loc[:,'g-0':'g-771'].describe()"
   ]
  },
  {
   "cell_type": "code",
   "execution_count": 53,
   "metadata": {
    "colab": {
     "base_uri": "https://localhost:8080/",
     "height": 286
    },
    "id": "ij9QVxGArZsd",
    "outputId": "8b21e3f8-630c-4027-ddaf-b111bc1efbc6"
   },
   "outputs": [
    {
     "data": {
      "text/plain": [
       "<AxesSubplot:>"
      ]
     },
     "execution_count": 53,
     "metadata": {},
     "output_type": "execute_result"
    },
    {
     "data": {
      "image/png": "[encoded data removed]",
      "text/plain": [
       "<Figure size 432x288 with 1 Axes>"
      ]
     },
     "metadata": {},
     "output_type": "display_data"
    }
   ],
   "source": [
    "dados.loc[:,'g-0':'g-771'].describe().T['mean'].hist(bins=30)"
   ]
  },
  {
   "cell_type": "code",
   "execution_count": 54,
   "metadata": {
    "colab": {
     "base_uri": "https://localhost:8080/",
     "height": 286
    },
    "id": "u31uRxYWr2PG",
    "outputId": "86199e23-ccbb-42cb-ffee-31b9b14a3767"
   },
   "outputs": [
    {
     "data": {
      "text/plain": [
       "<AxesSubplot:>"
      ]
     },
     "execution_count": 54,
     "metadata": {},
     "output_type": "execute_result"
    },
    {
     "data": {
      "image/png": "[encoded data removed]",
      "text/plain": [
       "<Figure size 432x288 with 1 Axes>"
      ]
     },
     "metadata": {},
     "output_type": "display_data"
    }
   ],
   "source": [
    "dados.loc[:,'g-0':'g-771'].describe().T['min'].hist(bins=30)"
   ]
  },
  {
   "cell_type": "code",
   "execution_count": 55,
   "metadata": {
    "colab": {
     "base_uri": "https://localhost:8080/",
     "height": 286
    },
    "id": "bYnsG81Sr8mc",
    "outputId": "95f3e1fb-4a12-43e7-98e0-dfccaf2ac0ce"
   },
   "outputs": [
    {
     "data": {
      "text/plain": [
       "<AxesSubplot:>"
      ]
     },
     "execution_count": 55,
     "metadata": {},
     "output_type": "execute_result"
    },
    {
     "data": {
      "image/png": "[encoded data removed]",
      "text/plain": [
       "<Figure size 432x288 with 1 Axes>"
      ]
     },
     "metadata": {},
     "output_type": "display_data"
    }
   ],
   "source": [
    "dados.loc[:,'g-0':'g-771'].describe().T['max'].hist(bins=30)"
   ]
  },
  {
   "cell_type": "code",
   "execution_count": 56,
   "metadata": {
    "colab": {
     "base_uri": "https://localhost:8080/",
     "height": 286
    },
    "id": "hu2jZ2snuJ09",
    "outputId": "efb4415d-5723-4d8c-a95b-d65876744d6f"
   },
   "outputs": [
    {
     "data": {
      "text/plain": [
       "<AxesSubplot:>"
      ]
     },
     "execution_count": 56,
     "metadata": {},
     "output_type": "execute_result"
    },
    {
     "data": {
      "image/png": "[encoded data removed]",
      "text/plain": [
       "<Figure size 432x288 with 1 Axes>"
      ]
     },
     "metadata": {},
     "output_type": "display_data"
    }
   ],
   "source": [
    "dados.loc[:,'c-0':'c-99'].describe().T['mean'].hist(bins=50)"
   ]
  },
  {
   "cell_type": "code",
   "execution_count": 57,
   "metadata": {
    "colab": {
     "base_uri": "https://localhost:8080/",
     "height": 303
    },
    "id": "R9LHaY0yv29K",
    "outputId": "aa58bfd0-4031-4dd0-de1d-8e865f709feb"
   },
   "outputs": [
    {
     "data": {
      "text/plain": [
       "<AxesSubplot:xlabel='g-0'>"
      ]
     },
     "execution_count": 57,
     "metadata": {},
     "output_type": "execute_result"
    },
    {
     "data": {
      "image/png": "[encoded data removed]",
      "text/plain": [
       "<Figure size 432x288 with 1 Axes>"
      ]
     },
     "metadata": {},
     "output_type": "display_data"
    }
   ],
   "source": [
    "sns.boxplot(x='g-0' , data=dados)"
   ]
  },
  {
   "cell_type": "code",
   "execution_count": 59,
   "metadata": {
    "colab": {
     "base_uri": "https://localhost:8080/",
     "height": 520
    },
    "id": "h87JI4a_yNa1",
    "outputId": "20c80f8e-7573-46e6-b36d-933c06c9ee51",
    "scrolled": false
   },
   "outputs": [
    {
     "data": {
      "text/plain": [
       "<AxesSubplot:xlabel='tratamento', ylabel='g-0'>"
      ]
     },
     "execution_count": 59,
     "metadata": {},
     "output_type": "execute_result"
    },
    {
     "data": {
      "image/png": "[encoded data removed]",
      "text/plain": [
       "<Figure size 720x576 with 1 Axes>"
      ]
     },
     "metadata": {},
     "output_type": "display_data"
    }
   ],
   "source": [
    "plt.figure(figsize=(10,8))\n",
    "sns.boxplot(y='g-0', x='tratamento' , data=dados)"
   ]
  },
  {
   "cell_type": "markdown",
   "metadata": {
    "id": "jamZqqM1m9ce"
   },
   "source": [
    "# Aula 03"
   ]
  },
  {
   "cell_type": "markdown",
   "metadata": {
    "id": "xwzPjWpCnRCu"
   },
   "source": [
    "Olá Cientista! \n",
    "\n",
    "Seja bem vindo e bem vinda à aula 03!\n",
    "\n",
    "Na aula anterior, pudemos entender a importância da construção de gráficos na visualização dos dados. \n",
    "Discutimos principalmente os histogramas e boxplots e, além disso, também falamos sobre a função ```describe``` do Pandas. \n",
    "\n",
    "Você conseguiu fazer todos os desafios? Então vamos mergulhar juntos na aula 03!\n",
    "\n",
    "Hoje, nosso foco é nos aprofundar ainda mais na base de dados e entender mais sobre a relação entre as nossas variáveis.\n",
    "\n",
    "Olhando para o nosso conjunto de dados, percebemos que temos dados de tratamento, tempo, dosagem, composto químico usado e os dados genéticos.\n",
    "E os primeiros dados que vamos relacionar são aqueles ligados ao tratamento e, como já vimos anteriormente, estes são dados categóricos.\n",
    "\n",
    "Um dos vieses de análise está relacionado às proporções destas categorias e, como aprendemos na aula anterior, um gráfico de frequências pode ser muito útil nesse aspecto."
   ]
  },
  {
   "cell_type": "code",
   "execution_count": 60,
   "metadata": {
    "colab": {
     "base_uri": "https://localhost:8080/",
     "height": 244
    },
    "id": "enTo-CIfo1iH",
    "outputId": "b68048bc-aa20-4da9-a9ab-ab4219fdb1d1",
    "scrolled": false
   },
   "outputs": [
    {
     "data": {
      "text/html": [
       "<div>\n",
       "<style scoped>\n",
       "    .dataframe tbody tr th:only-of-type {\n",
       "        vertical-align: middle;\n",
       "    }\n",
       "\n",
       "    .dataframe tbody tr th {\n",
       "        vertical-align: top;\n",
       "    }\n",
       "\n",
       "    .dataframe thead th {\n",
       "        text-align: right;\n",
       "    }\n",
       "</style>\n",
       "<table border=\"1\" class=\"dataframe\">\n",
       "  <thead>\n",
       "    <tr style=\"text-align: right;\">\n",
       "      <th></th>\n",
       "      <th>id</th>\n",
       "      <th>tratamento</th>\n",
       "      <th>tempo</th>\n",
       "      <th>dose</th>\n",
       "      <th>composto</th>\n",
       "      <th>g-0</th>\n",
       "      <th>g-1</th>\n",
       "      <th>g-2</th>\n",
       "      <th>g-3</th>\n",
       "      <th>g-4</th>\n",
       "      <th>...</th>\n",
       "      <th>c-90</th>\n",
       "      <th>c-91</th>\n",
       "      <th>c-92</th>\n",
       "      <th>c-93</th>\n",
       "      <th>c-94</th>\n",
       "      <th>c-95</th>\n",
       "      <th>c-96</th>\n",
       "      <th>c-97</th>\n",
       "      <th>c-98</th>\n",
       "      <th>c-99</th>\n",
       "    </tr>\n",
       "  </thead>\n",
       "  <tbody>\n",
       "    <tr>\n",
       "      <th>0</th>\n",
       "      <td>id_000644bb2</td>\n",
       "      <td>com_droga</td>\n",
       "      <td>24</td>\n",
       "      <td>D1</td>\n",
       "      <td>b68db1d53</td>\n",
       "      <td>1.0620</td>\n",
       "      <td>0.5577</td>\n",
       "      <td>-0.2479</td>\n",
       "      <td>-0.6208</td>\n",
       "      <td>-0.1944</td>\n",
       "      <td>...</td>\n",
       "      <td>0.2862</td>\n",
       "      <td>0.2584</td>\n",
       "      <td>0.8076</td>\n",
       "      <td>0.5523</td>\n",
       "      <td>-0.1912</td>\n",
       "      <td>0.6584</td>\n",
       "      <td>-0.3981</td>\n",
       "      <td>0.2139</td>\n",
       "      <td>0.3801</td>\n",
       "      <td>0.4176</td>\n",
       "    </tr>\n",
       "    <tr>\n",
       "      <th>1</th>\n",
       "      <td>id_000779bfc</td>\n",
       "      <td>com_droga</td>\n",
       "      <td>72</td>\n",
       "      <td>D1</td>\n",
       "      <td>df89a8e5a</td>\n",
       "      <td>0.0743</td>\n",
       "      <td>0.4087</td>\n",
       "      <td>0.2991</td>\n",
       "      <td>0.0604</td>\n",
       "      <td>1.0190</td>\n",
       "      <td>...</td>\n",
       "      <td>-0.4265</td>\n",
       "      <td>0.7543</td>\n",
       "      <td>0.4708</td>\n",
       "      <td>0.0230</td>\n",
       "      <td>0.2957</td>\n",
       "      <td>0.4899</td>\n",
       "      <td>0.1522</td>\n",
       "      <td>0.1241</td>\n",
       "      <td>0.6077</td>\n",
       "      <td>0.7371</td>\n",
       "    </tr>\n",
       "    <tr>\n",
       "      <th>2</th>\n",
       "      <td>id_000a6266a</td>\n",
       "      <td>com_droga</td>\n",
       "      <td>48</td>\n",
       "      <td>D1</td>\n",
       "      <td>18bb41b2c</td>\n",
       "      <td>0.6280</td>\n",
       "      <td>0.5817</td>\n",
       "      <td>1.5540</td>\n",
       "      <td>-0.0764</td>\n",
       "      <td>-0.0323</td>\n",
       "      <td>...</td>\n",
       "      <td>-0.7250</td>\n",
       "      <td>-0.6297</td>\n",
       "      <td>0.6103</td>\n",
       "      <td>0.0223</td>\n",
       "      <td>-1.3240</td>\n",
       "      <td>-0.3174</td>\n",
       "      <td>-0.6417</td>\n",
       "      <td>-0.2187</td>\n",
       "      <td>-1.4080</td>\n",
       "      <td>0.6931</td>\n",
       "    </tr>\n",
       "    <tr>\n",
       "      <th>3</th>\n",
       "      <td>id_0015fd391</td>\n",
       "      <td>com_droga</td>\n",
       "      <td>48</td>\n",
       "      <td>D1</td>\n",
       "      <td>8c7f86626</td>\n",
       "      <td>-0.5138</td>\n",
       "      <td>-0.2491</td>\n",
       "      <td>-0.2656</td>\n",
       "      <td>0.5288</td>\n",
       "      <td>4.0620</td>\n",
       "      <td>...</td>\n",
       "      <td>-2.0990</td>\n",
       "      <td>-0.6441</td>\n",
       "      <td>-5.6300</td>\n",
       "      <td>-1.3780</td>\n",
       "      <td>-0.8632</td>\n",
       "      <td>-1.2880</td>\n",
       "      <td>-1.6210</td>\n",
       "      <td>-0.8784</td>\n",
       "      <td>-0.3876</td>\n",
       "      <td>-0.8154</td>\n",
       "    </tr>\n",
       "    <tr>\n",
       "      <th>4</th>\n",
       "      <td>id_001626bd3</td>\n",
       "      <td>com_droga</td>\n",
       "      <td>72</td>\n",
       "      <td>D2</td>\n",
       "      <td>7cbed3131</td>\n",
       "      <td>-0.3254</td>\n",
       "      <td>-0.4009</td>\n",
       "      <td>0.9700</td>\n",
       "      <td>0.6919</td>\n",
       "      <td>1.4180</td>\n",
       "      <td>...</td>\n",
       "      <td>0.0042</td>\n",
       "      <td>0.0048</td>\n",
       "      <td>0.6670</td>\n",
       "      <td>1.0690</td>\n",
       "      <td>0.5523</td>\n",
       "      <td>-0.3031</td>\n",
       "      <td>0.1094</td>\n",
       "      <td>0.2885</td>\n",
       "      <td>-0.3786</td>\n",
       "      <td>0.7125</td>\n",
       "    </tr>\n",
       "  </tbody>\n",
       "</table>\n",
       "<p>5 rows × 877 columns</p>\n",
       "</div>"
      ],
      "text/plain": [
       "             id tratamento  tempo dose   composto     g-0     g-1     g-2  \\\n",
       "0  id_000644bb2  com_droga     24   D1  b68db1d53  1.0620  0.5577 -0.2479   \n",
       "1  id_000779bfc  com_droga     72   D1  df89a8e5a  0.0743  0.4087  0.2991   \n",
       "2  id_000a6266a  com_droga     48   D1  18bb41b2c  0.6280  0.5817  1.5540   \n",
       "3  id_0015fd391  com_droga     48   D1  8c7f86626 -0.5138 -0.2491 -0.2656   \n",
       "4  id_001626bd3  com_droga     72   D2  7cbed3131 -0.3254 -0.4009  0.9700   \n",
       "\n",
       "      g-3     g-4  ...    c-90    c-91    c-92    c-93    c-94    c-95  \\\n",
       "0 -0.6208 -0.1944  ...  0.2862  0.2584  0.8076  0.5523 -0.1912  0.6584   \n",
       "1  0.0604  1.0190  ... -0.4265  0.7543  0.4708  0.0230  0.2957  0.4899   \n",
       "2 -0.0764 -0.0323  ... -0.7250 -0.6297  0.6103  0.0223 -1.3240 -0.3174   \n",
       "3  0.5288  4.0620  ... -2.0990 -0.6441 -5.6300 -1.3780 -0.8632 -1.2880   \n",
       "4  0.6919  1.4180  ...  0.0042  0.0048  0.6670  1.0690  0.5523 -0.3031   \n",
       "\n",
       "     c-96    c-97    c-98    c-99  \n",
       "0 -0.3981  0.2139  0.3801  0.4176  \n",
       "1  0.1522  0.1241  0.6077  0.7371  \n",
       "2 -0.6417 -0.2187 -1.4080  0.6931  \n",
       "3 -1.6210 -0.8784 -0.3876 -0.8154  \n",
       "4  0.1094  0.2885 -0.3786  0.7125  \n",
       "\n",
       "[5 rows x 877 columns]"
      ]
     },
     "execution_count": 60,
     "metadata": {},
     "output_type": "execute_result"
    }
   ],
   "source": [
    "dados.head()"
   ]
  },
  {
   "cell_type": "markdown",
   "metadata": {
    "id": "hd1NQ_W6qZUj"
   },
   "source": [
    "Conforme nossa busca na [documentação do Pandas](https://pandas.pydata.org), encontramos uma maneira para construir uma tabela de frequências, a função ```crosstab```. Esta função recebe como argumentos os dados que gostaríamos de correlacionar de uma maneira bem simples: ```crosstab(dataframe['coluna1'], dataframe['coluna2'])``` e então, como retorno, temos uma matriz que relaciona essas variáveis a partir da frequência.\n",
    "\n",
    "Podemos ver que as categorias da variável ```dose``` transformaram-se em linhas e as categorias da variável ```tempo``` são colunas."
   ]
  },
  {
   "cell_type": "code",
   "execution_count": 61,
   "metadata": {
    "colab": {
     "base_uri": "https://localhost:8080/",
     "height": 136
    },
    "id": "GxNcZgooqifp",
    "outputId": "c3b56832-7ffb-414a-b87f-5d84b169cf1e"
   },
   "outputs": [
    {
     "data": {
      "text/html": [
       "<div>\n",
       "<style scoped>\n",
       "    .dataframe tbody tr th:only-of-type {\n",
       "        vertical-align: middle;\n",
       "    }\n",
       "\n",
       "    .dataframe tbody tr th {\n",
       "        vertical-align: top;\n",
       "    }\n",
       "\n",
       "    .dataframe thead th {\n",
       "        text-align: right;\n",
       "    }\n",
       "</style>\n",
       "<table border=\"1\" class=\"dataframe\">\n",
       "  <thead>\n",
       "    <tr style=\"text-align: right;\">\n",
       "      <th>tempo</th>\n",
       "      <th>24</th>\n",
       "      <th>48</th>\n",
       "      <th>72</th>\n",
       "    </tr>\n",
       "    <tr>\n",
       "      <th>dose</th>\n",
       "      <th></th>\n",
       "      <th></th>\n",
       "      <th></th>\n",
       "    </tr>\n",
       "  </thead>\n",
       "  <tbody>\n",
       "    <tr>\n",
       "      <th>D1</th>\n",
       "      <td>3886</td>\n",
       "      <td>4354</td>\n",
       "      <td>3907</td>\n",
       "    </tr>\n",
       "    <tr>\n",
       "      <th>D2</th>\n",
       "      <td>3886</td>\n",
       "      <td>3896</td>\n",
       "      <td>3885</td>\n",
       "    </tr>\n",
       "  </tbody>\n",
       "</table>\n",
       "</div>"
      ],
      "text/plain": [
       "tempo    24    48    72\n",
       "dose                   \n",
       "D1     3886  4354  3907\n",
       "D2     3886  3896  3885"
      ]
     },
     "execution_count": 61,
     "metadata": {},
     "output_type": "execute_result"
    }
   ],
   "source": [
    "pd.crosstab(dados['dose'], dados['tempo'])"
   ]
  },
  {
   "cell_type": "markdown",
   "metadata": {
    "id": "z2m8T-gSh1ah"
   },
   "source": [
    "Entretanto, na matriz acima não estamos considerando o tratamento usado, apesar desta variável ser de suma importância, visto que, decide se há ou não presença de um composto no evento.\n",
    "Por isso, vamos construir uma nova tabela com o ```crosstab``` considerando essa nova variável.\n",
    "\n",
    "Para isso, usaremos a mesma sintaxe anterior, adicionando ```dados['tratamento']```ao final e, adicionalmente, deixamos as duas primeiras colunas declaradas entre colchetes, pois assim garantimos que suas informações estarão distribuídas nas linhas, ou seja, o código final para este comando será: ```crosstab(dataframe[['coluna1'], dataframe['coluna2']], dataframe['coluna3'])```.\n",
    "\n",
    "O resultado será uma tabela de frequências multi-index (mais de um índice) sendo que o index da esquerda se refere aos dados da variável ```dose``` e o index da direita são as informações de ```tempo```, respeitando a ordem na qual declaramos as respectivas variáveis."
   ]
  },
  {
   "cell_type": "code",
   "execution_count": 62,
   "metadata": {
    "colab": {
     "base_uri": "https://localhost:8080/",
     "height": 254
    },
    "id": "ZAlTjcmQrb_M",
    "outputId": "78ed3d9f-a1e4-4024-bab7-8f6ec3cbddca"
   },
   "outputs": [
    {
     "data": {
      "text/html": [
       "<div>\n",
       "<style scoped>\n",
       "    .dataframe tbody tr th:only-of-type {\n",
       "        vertical-align: middle;\n",
       "    }\n",
       "\n",
       "    .dataframe tbody tr th {\n",
       "        vertical-align: top;\n",
       "    }\n",
       "\n",
       "    .dataframe thead th {\n",
       "        text-align: right;\n",
       "    }\n",
       "</style>\n",
       "<table border=\"1\" class=\"dataframe\">\n",
       "  <thead>\n",
       "    <tr style=\"text-align: right;\">\n",
       "      <th></th>\n",
       "      <th>tratamento</th>\n",
       "      <th>com_controle</th>\n",
       "      <th>com_droga</th>\n",
       "    </tr>\n",
       "    <tr>\n",
       "      <th>dose</th>\n",
       "      <th>tempo</th>\n",
       "      <th></th>\n",
       "      <th></th>\n",
       "    </tr>\n",
       "  </thead>\n",
       "  <tbody>\n",
       "    <tr>\n",
       "      <th rowspan=\"3\" valign=\"top\">D1</th>\n",
       "      <th>24</th>\n",
       "      <td>301</td>\n",
       "      <td>3585</td>\n",
       "    </tr>\n",
       "    <tr>\n",
       "      <th>48</th>\n",
       "      <td>343</td>\n",
       "      <td>4011</td>\n",
       "    </tr>\n",
       "    <tr>\n",
       "      <th>72</th>\n",
       "      <td>307</td>\n",
       "      <td>3600</td>\n",
       "    </tr>\n",
       "    <tr>\n",
       "      <th rowspan=\"3\" valign=\"top\">D2</th>\n",
       "      <th>24</th>\n",
       "      <td>305</td>\n",
       "      <td>3581</td>\n",
       "    </tr>\n",
       "    <tr>\n",
       "      <th>48</th>\n",
       "      <td>305</td>\n",
       "      <td>3591</td>\n",
       "    </tr>\n",
       "    <tr>\n",
       "      <th>72</th>\n",
       "      <td>305</td>\n",
       "      <td>3580</td>\n",
       "    </tr>\n",
       "  </tbody>\n",
       "</table>\n",
       "</div>"
      ],
      "text/plain": [
       "tratamento  com_controle  com_droga\n",
       "dose tempo                         \n",
       "D1   24              301       3585\n",
       "     48              343       4011\n",
       "     72              307       3600\n",
       "D2   24              305       3581\n",
       "     48              305       3591\n",
       "     72              305       3580"
      ]
     },
     "execution_count": 62,
     "metadata": {},
     "output_type": "execute_result"
    }
   ],
   "source": [
    "pd.crosstab([dados['dose'], dados['tempo']],  dados['tratamento'])"
   ]
  },
  {
   "cell_type": "markdown",
   "metadata": {
    "id": "QDPC2fbHkqBO"
   },
   "source": [
    "Apesar de já termos construído uma tabela bem interessante através da frequência de algumas variáveis, podemos explorar a proporção destes dados entre si. \n",
    "\n",
    "Para fazer isso vamos, novamente, copiar o nosso comando acrescentando um novo parâmetro ao final, o ```normalize```. Então o código ficará: ```crosstab([dados['dose'], dados['tempo']],  dados['tratamento'], normalize='index')```. Esse parâmetro normaliza a nossa tabela e escolhemos que ela faça isso a partir do índice, ou seja, ela fará a comparação entre as categorias, isto é, a soma de cada linha será igual a 1.\n",
    "Fazer este tipo de análise possibilita que façamos algumas suposições acerca do balanceamento entre as categorias e, analisando a nossa matriz, podemos concluir que há proporcionalidade na nossa base de dados.\n"
   ]
  },
  {
   "cell_type": "code",
   "execution_count": 63,
   "metadata": {
    "colab": {
     "base_uri": "https://localhost:8080/",
     "height": 254
    },
    "id": "l11KiR6bsF-K",
    "outputId": "4462ef05-4463-4ed5-8969-0a218143f9aa"
   },
   "outputs": [
    {
     "data": {
      "text/html": [
       "<div>\n",
       "<style scoped>\n",
       "    .dataframe tbody tr th:only-of-type {\n",
       "        vertical-align: middle;\n",
       "    }\n",
       "\n",
       "    .dataframe tbody tr th {\n",
       "        vertical-align: top;\n",
       "    }\n",
       "\n",
       "    .dataframe thead th {\n",
       "        text-align: right;\n",
       "    }\n",
       "</style>\n",
       "<table border=\"1\" class=\"dataframe\">\n",
       "  <thead>\n",
       "    <tr style=\"text-align: right;\">\n",
       "      <th></th>\n",
       "      <th>tratamento</th>\n",
       "      <th>com_controle</th>\n",
       "      <th>com_droga</th>\n",
       "    </tr>\n",
       "    <tr>\n",
       "      <th>dose</th>\n",
       "      <th>tempo</th>\n",
       "      <th></th>\n",
       "      <th></th>\n",
       "    </tr>\n",
       "  </thead>\n",
       "  <tbody>\n",
       "    <tr>\n",
       "      <th rowspan=\"3\" valign=\"top\">D1</th>\n",
       "      <th>24</th>\n",
       "      <td>0.077458</td>\n",
       "      <td>0.922542</td>\n",
       "    </tr>\n",
       "    <tr>\n",
       "      <th>48</th>\n",
       "      <td>0.078778</td>\n",
       "      <td>0.921222</td>\n",
       "    </tr>\n",
       "    <tr>\n",
       "      <th>72</th>\n",
       "      <td>0.078577</td>\n",
       "      <td>0.921423</td>\n",
       "    </tr>\n",
       "    <tr>\n",
       "      <th rowspan=\"3\" valign=\"top\">D2</th>\n",
       "      <th>24</th>\n",
       "      <td>0.078487</td>\n",
       "      <td>0.921513</td>\n",
       "    </tr>\n",
       "    <tr>\n",
       "      <th>48</th>\n",
       "      <td>0.078285</td>\n",
       "      <td>0.921715</td>\n",
       "    </tr>\n",
       "    <tr>\n",
       "      <th>72</th>\n",
       "      <td>0.078507</td>\n",
       "      <td>0.921493</td>\n",
       "    </tr>\n",
       "  </tbody>\n",
       "</table>\n",
       "</div>"
      ],
      "text/plain": [
       "tratamento  com_controle  com_droga\n",
       "dose tempo                         \n",
       "D1   24         0.077458   0.922542\n",
       "     48         0.078778   0.921222\n",
       "     72         0.078577   0.921423\n",
       "D2   24         0.078487   0.921513\n",
       "     48         0.078285   0.921715\n",
       "     72         0.078507   0.921493"
      ]
     },
     "execution_count": 63,
     "metadata": {},
     "output_type": "execute_result"
    }
   ],
   "source": [
    "pd.crosstab([dados['dose'], dados['tempo']],  dados['tratamento'], normalize='index')"
   ]
  },
  {
   "cell_type": "markdown",
   "metadata": {
    "id": "Xd_O2idasyfh"
   },
   "source": [
    "Podemos também agregar à nossa matriz uma métrica estatística associada a uma coluna. \n",
    "Para que isso seja cumprido, adicionamos mais dois parâmetros à nossa função ```crosstab```: o primeiro é o ```values = dataframe['variavel']``` e o segundo é o ```aggfunc``` que recebe como parâmetro alguma métrica estatística, como a média. Logo, ```aggfunc = 'mean'```. Isso quer dizer que queremos comparar entre as diferentes categorias (```com_controle``` e ```com_droga```) a média de valores associados a variável ```g-0```.\n",
    "\n",
    "Aqui, podemos perceber algumas diferenças entre essas médias e podemos traçar algumas hipóteses a serem verificadas. Lembrando que a média de uma variável, é uma conta feita a partir dos valores que aquela amostra apresenta e não é o valor que ela assume, de fato. Por isso, não podemos concluir nada somente olhando a média, mas entender seu comportamento nos dá indícios por quais caminhos podemos seguir."
   ]
  },
  {
   "cell_type": "code",
   "execution_count": 64,
   "metadata": {
    "colab": {
     "base_uri": "https://localhost:8080/",
     "height": 254
    },
    "id": "2LT5TeiKtxX3",
    "outputId": "ef05304a-8594-490c-f343-94d33d15c3eb"
   },
   "outputs": [
    {
     "data": {
      "text/html": [
       "<div>\n",
       "<style scoped>\n",
       "    .dataframe tbody tr th:only-of-type {\n",
       "        vertical-align: middle;\n",
       "    }\n",
       "\n",
       "    .dataframe tbody tr th {\n",
       "        vertical-align: top;\n",
       "    }\n",
       "\n",
       "    .dataframe thead th {\n",
       "        text-align: right;\n",
       "    }\n",
       "</style>\n",
       "<table border=\"1\" class=\"dataframe\">\n",
       "  <thead>\n",
       "    <tr style=\"text-align: right;\">\n",
       "      <th></th>\n",
       "      <th>tratamento</th>\n",
       "      <th>com_controle</th>\n",
       "      <th>com_droga</th>\n",
       "    </tr>\n",
       "    <tr>\n",
       "      <th>dose</th>\n",
       "      <th>tempo</th>\n",
       "      <th></th>\n",
       "      <th></th>\n",
       "    </tr>\n",
       "  </thead>\n",
       "  <tbody>\n",
       "    <tr>\n",
       "      <th rowspan=\"3\" valign=\"top\">D1</th>\n",
       "      <th>24</th>\n",
       "      <td>-0.251760</td>\n",
       "      <td>0.367996</td>\n",
       "    </tr>\n",
       "    <tr>\n",
       "      <th>48</th>\n",
       "      <td>-0.122773</td>\n",
       "      <td>0.412469</td>\n",
       "    </tr>\n",
       "    <tr>\n",
       "      <th>72</th>\n",
       "      <td>-0.295271</td>\n",
       "      <td>0.286250</td>\n",
       "    </tr>\n",
       "    <tr>\n",
       "      <th rowspan=\"3\" valign=\"top\">D2</th>\n",
       "      <th>24</th>\n",
       "      <td>0.010754</td>\n",
       "      <td>0.115253</td>\n",
       "    </tr>\n",
       "    <tr>\n",
       "      <th>48</th>\n",
       "      <td>0.013174</td>\n",
       "      <td>0.214480</td>\n",
       "    </tr>\n",
       "    <tr>\n",
       "      <th>72</th>\n",
       "      <td>0.070250</td>\n",
       "      <td>0.253439</td>\n",
       "    </tr>\n",
       "  </tbody>\n",
       "</table>\n",
       "</div>"
      ],
      "text/plain": [
       "tratamento  com_controle  com_droga\n",
       "dose tempo                         \n",
       "D1   24        -0.251760   0.367996\n",
       "     48        -0.122773   0.412469\n",
       "     72        -0.295271   0.286250\n",
       "D2   24         0.010754   0.115253\n",
       "     48         0.013174   0.214480\n",
       "     72         0.070250   0.253439"
      ]
     },
     "execution_count": 64,
     "metadata": {},
     "output_type": "execute_result"
    }
   ],
   "source": [
    "pd.crosstab([dados['dose'], dados['tempo']],  dados['tratamento'], values=dados['g-0'], aggfunc='mean')"
   ]
  },
  {
   "cell_type": "markdown",
   "metadata": {
    "id": "cKSKuOe9xwJA"
   },
   "source": [
    "Para variáveis contínuas, fazer tabelas de frequências não é a melhor estratégia para analisá-las. \n",
    "Mas, construir um novo tipo de gráfico pode ser muito interessante para o nosso processo. \n",
    "\n",
    "Então, para fins de visualização, o primeiro passo é filtrar a nossa base de dados com as colunas que queremos investigar.\n",
    "No nosso caso, vamos analisar a relação entre as colunas ```g-0``` e ```g-3``` e, por isso, definimos uma lista de arrays com os nomes dessas colunas (```dataframe[['coluna1', 'coluna2']]```) e, como retorno, teremos nosso conjunto somente com as variáveis alvo."
   ]
  },
  {
   "cell_type": "code",
   "execution_count": 72,
   "metadata": {
    "colab": {
     "base_uri": "https://localhost:8080/",
     "height": 402
    },
    "id": "5NLk3hfzxaex",
    "outputId": "680b19c5-8310-4ba7-be68-0aa57ba739cb",
    "scrolled": false
   },
   "outputs": [
    {
     "data": {
      "text/html": [
       "<div>\n",
       "<style scoped>\n",
       "    .dataframe tbody tr th:only-of-type {\n",
       "        vertical-align: middle;\n",
       "    }\n",
       "\n",
       "    .dataframe tbody tr th {\n",
       "        vertical-align: top;\n",
       "    }\n",
       "\n",
       "    .dataframe thead th {\n",
       "        text-align: right;\n",
       "    }\n",
       "</style>\n",
       "<table border=\"1\" class=\"dataframe\">\n",
       "  <thead>\n",
       "    <tr style=\"text-align: right;\">\n",
       "      <th></th>\n",
       "      <th>g-0</th>\n",
       "      <th>g-3</th>\n",
       "    </tr>\n",
       "  </thead>\n",
       "  <tbody>\n",
       "    <tr>\n",
       "      <th>0</th>\n",
       "      <td>1.0620</td>\n",
       "      <td>-0.6208</td>\n",
       "    </tr>\n",
       "    <tr>\n",
       "      <th>1</th>\n",
       "      <td>0.0743</td>\n",
       "      <td>0.0604</td>\n",
       "    </tr>\n",
       "    <tr>\n",
       "      <th>2</th>\n",
       "      <td>0.6280</td>\n",
       "      <td>-0.0764</td>\n",
       "    </tr>\n",
       "    <tr>\n",
       "      <th>3</th>\n",
       "      <td>-0.5138</td>\n",
       "      <td>0.5288</td>\n",
       "    </tr>\n",
       "    <tr>\n",
       "      <th>4</th>\n",
       "      <td>-0.3254</td>\n",
       "      <td>0.6919</td>\n",
       "    </tr>\n",
       "    <tr>\n",
       "      <th>...</th>\n",
       "      <td>...</td>\n",
       "      <td>...</td>\n",
       "    </tr>\n",
       "    <tr>\n",
       "      <th>23809</th>\n",
       "      <td>0.1394</td>\n",
       "      <td>-0.5080</td>\n",
       "    </tr>\n",
       "    <tr>\n",
       "      <th>23810</th>\n",
       "      <td>-1.3260</td>\n",
       "      <td>0.9905</td>\n",
       "    </tr>\n",
       "    <tr>\n",
       "      <th>23811</th>\n",
       "      <td>0.3942</td>\n",
       "      <td>-0.7389</td>\n",
       "    </tr>\n",
       "    <tr>\n",
       "      <th>23812</th>\n",
       "      <td>0.6660</td>\n",
       "      <td>0.2044</td>\n",
       "    </tr>\n",
       "    <tr>\n",
       "      <th>23813</th>\n",
       "      <td>-0.8598</td>\n",
       "      <td>0.7952</td>\n",
       "    </tr>\n",
       "  </tbody>\n",
       "</table>\n",
       "<p>23814 rows × 2 columns</p>\n",
       "</div>"
      ],
      "text/plain": [
       "          g-0     g-3\n",
       "0      1.0620 -0.6208\n",
       "1      0.0743  0.0604\n",
       "2      0.6280 -0.0764\n",
       "3     -0.5138  0.5288\n",
       "4     -0.3254  0.6919\n",
       "...       ...     ...\n",
       "23809  0.1394 -0.5080\n",
       "23810 -1.3260  0.9905\n",
       "23811  0.3942 -0.7389\n",
       "23812  0.6660  0.2044\n",
       "23813 -0.8598  0.7952\n",
       "\n",
       "[23814 rows x 2 columns]"
      ]
     },
     "execution_count": 72,
     "metadata": {},
     "output_type": "execute_result"
    }
   ],
   "source": [
    "dados[['g-0', 'g-3']]"
   ]
  },
  {
   "cell_type": "markdown",
   "metadata": {
    "id": "v-pZDVyEzSze"
   },
   "source": [
    "O ```scatterplot``` é um tipo de gráfico pré programado da biblioteca Seaborn e recebe como parâmetros a variável que vai ser usada no eixo x, a variável do eixo y e, por fim, o conjunto de dados. \n",
    "\n",
    "O código ficará: \n",
    "\n",
    "```sns.scatterplot(x = 'variavel para o eixo x', y = 'variavel para o eixo y', data = base de dados)```\n",
    "\n",
    "E, como queremos investigar as variáveis ```g-0``` e ```g-3```, atribuímos cada uma delas a um eixo. \n",
    "\n",
    "O gráfico de dispersão utiliza os dados como uma coleção de pontos cartesianos e ele é usado para apurar se há relação de causa e efeito entre duas variáveis quantitativas. \n",
    "\n",
    "No nosso caso, cada linha será um par ordenado de acordo com o que declaramos no código, ou seja, o valor de ```g-0``` será a cordenada x e o valor de ```g-3``` será a coordenada y. \n",
    "\n",
    "Por exemplo: para a linha 0 da base de dados teremos (1,0620 , -0,6208) \n",
    "\n",
    "Mas, por outro lado, a partir do gráfico de dispersão, não podemos dizer que uma variável afeta a outra, podemos apenas definir se há relação entre elas e qual a intensidade disso."
   ]
  },
  {
   "cell_type": "code",
   "execution_count": 71,
   "metadata": {
    "colab": {
     "base_uri": "https://localhost:8080/",
     "height": 302
    },
    "id": "Tu6cDP2RwuxJ",
    "outputId": "320d44ec-53f7-4516-d077-d569a53c41da"
   },
   "outputs": [
    {
     "data": {
      "text/plain": [
       "<AxesSubplot:xlabel='g-0', ylabel='g-3'>"
      ]
     },
     "execution_count": 71,
     "metadata": {},
     "output_type": "execute_result"
    },
    {
     "data": {
      "image/png": "[encoded data removed]",
      "text/plain": [
       "<Figure size 432x288 with 1 Axes>"
      ]
     },
     "metadata": {},
     "output_type": "display_data"
    }
   ],
   "source": [
    "sns.scatterplot(x='g-0', y = 'g-3', data=dados)"
   ]
  },
  {
   "cell_type": "markdown",
   "metadata": {
    "id": "arC98j9T3H-N"
   },
   "source": [
    "Observando o gráfico que construímos acima, não parecemos encontrar nenhum padrão tão definido. Então, vamos confrontar mais duas colunas para verificar se encontramos algum padrão melhor definido.\n",
    "\n",
    "Aqui, vamos usar a variável ```g-0``` para o eixo x e a variável ```g-8``` para o eixo y para construir o nosso novo gráfico.\n",
    "\n",
    "Como retorno, recebemos um gráfico de dispersão onde a nuvem de pontos cartesianos parece desenhar melhor um padrão: conforme o ```g-0``` aumenta, o valor de ```g-8``` diminui. Aparentemente, a relação entre essas duas variáveis desenha uma curva com inclinação negativa."
   ]
  },
  {
   "cell_type": "code",
   "execution_count": 73,
   "metadata": {
    "colab": {
     "base_uri": "https://localhost:8080/",
     "height": 302
    },
    "id": "6pgpg0l2x_2w",
    "outputId": "55121e67-5ada-46de-af30-517ad3dc2f81"
   },
   "outputs": [
    {
     "data": {
      "text/plain": [
       "<AxesSubplot:xlabel='g-0', ylabel='g-8'>"
      ]
     },
     "execution_count": 73,
     "metadata": {},
     "output_type": "execute_result"
    },
    {
     "data": {
      "image/png": "[encoded data removed]",
      "text/plain": [
       "<Figure size 432x288 with 1 Axes>"
      ]
     },
     "metadata": {},
     "output_type": "display_data"
    }
   ],
   "source": [
    "sns.scatterplot(x='g-0', y = 'g-8', data=dados)"
   ]
  },
  {
   "cell_type": "markdown",
   "metadata": {
    "id": "L5U2qvqU4ikC"
   },
   "source": [
    "E, como parte do nosso trabalho é levantar hipóteses e confirmá-las (ou não), precisamos verificar se a nossa suspeita de que a relação entre as variáveis ```g-0``` e ```g-8```desenha uma curva com inclinação negativa. \n",
    "\n",
    "Para isso, vamos utilizar uma outra função do Seaborn, a ```lmplot```. A ```lmplot``` vai desenhar no nosso gráfico de dispersão uma linha de tendência e, assim, poderemos confirmar o padrão daquele conjunto de dados.\n",
    "\n",
    "Os parâmetros a serem recebidos, são muito parecidos com aqueles usados no ```scatterplot```. Então teremos \n",
    "\n",
    "```sns.lmplot(data=base de dados, x='variavel para o eixo x', y='variavel para o eixo y', line_kws={'color': 'cor da linha de tendencia'})```\n",
    "\n",
    "Utilizamos o parâmetro ```line_kws = {'color': 'red'}``` para criar um bom contraste entre os pontos do gráfico de dispersão e a linha de tendência.\n",
    "\n",
    "Observando o nosso gráfico, podemos concluir a nossa hipótese inicial, mas ele ainda não é suficiente para finalizarmos a nossa análise.\n",
    "\n"
   ]
  },
  {
   "cell_type": "code",
   "execution_count": 74,
   "metadata": {
    "colab": {
     "base_uri": "https://localhost:8080/",
     "height": 399
    },
    "id": "n50NzQRHyXmY",
    "outputId": "a3acca05-1ab0-403d-de27-8203c5570954"
   },
   "outputs": [
    {
     "data": {
      "text/plain": [
       "<seaborn.axisgrid.FacetGrid at 0x2b1d5efab20>"
      ]
     },
     "execution_count": 74,
     "metadata": {},
     "output_type": "execute_result"
    },
    {
     "data": {
      "image/png": "[encoded data removed]",
      "text/plain": [
       "<Figure size 360x360 with 1 Axes>"
      ]
     },
     "metadata": {},
     "output_type": "display_data"
    }
   ],
   "source": [
    "sns.lmplot(data=dados, x='g-0', y='g-8', line_kws={'color': 'red'})"
   ]
  },
  {
   "cell_type": "markdown",
   "metadata": {
    "id": "2hS8IyXv8kpV"
   },
   "source": [
    "Para uma análise mais real e completa, é interessante que separemos ainda mais o nosso conjunto de dados. Isso porque, na imagem acima, apesar de termos uma linha de tendência para a relação entre os dados ```g-0``` e ```g-8```, não há filtros para a dosagem, o tratamento e o tempo. E, pesando em drug discorevy, é extremamente importante que façamos a separação desses conjuntos.\n",
    "\n",
    "Então, vamos acrescentar mais alguns parâmetros para executar a separação. Acrescentamos o parâmetro ```col = tramento``` para que sejam plotados gráficos de acordo com as categorias da variável em questão nas colunas (```com_droga``` e ```com_controle```) e também incluímos o parâmetro ```row = 'tempo'``` para que mais uma subdivisão seja feita e, as linhas apresentem novos gráficos com as diferentes categorias (```24```,```48``` e ```72```).\n",
    "\n",
    "Assim, podemos perceber as nuances de cada gráfico e o comportamento de determinado subconjunto."
   ]
  },
  {
   "cell_type": "code",
   "execution_count": 75,
   "metadata": {
    "colab": {
     "base_uri": "https://localhost:8080/",
     "height": 1000
    },
    "id": "6im7H7kH0Cbf",
    "outputId": "463dcf86-46ef-457b-b9e2-141f55261826"
   },
   "outputs": [
    {
     "data": {
      "text/plain": [
       "<seaborn.axisgrid.FacetGrid at 0x2b1d8472550>"
      ]
     },
     "execution_count": 75,
     "metadata": {},
     "output_type": "execute_result"
    },
    {
     "data": {
      "image/png": "[encoded data removed]",
      "text/plain": [
       "<Figure size 720x1080 with 6 Axes>"
      ]
     },
     "metadata": {},
     "output_type": "display_data"
    }
   ],
   "source": [
    "sns.lmplot(data=dados, x='g-0', y='g-8', line_kws={'color': 'red'}, col='tratamento', row='tempo')"
   ]
  },
  {
   "cell_type": "markdown",
   "metadata": {
    "id": "9FVkdK0Gw4sL"
   },
   "source": [
    "Outra medida para analisar como as variáveis estão associadas é a correlação. \n",
    "\n",
    "Para isso, vamos usar uma função já conhecida do Pandas, o ```loc``` e, vamos agregar o ```.corr```. O ```loc``` serve para definirmos o intervalo em que a correlação vai ser calculada. Aqui, estamos calculando a correlação entre todos os genes. \n",
    "\n",
    "Como retorno, temos uma tabela bem grande que correlaciona a variável e apresenta valores entre 1 e -1.\n",
    "Por exemplo, o primeiro valor numérico apresentado na primeira linha é o resultado da correlação entre a variável que está nesta linha e nesta coluna, no nosso caso, o ```g-0``` em ambas as extremidades. No primeiro valor numérico apresentado na segunda linha, temos a correlação entre ```g-1``` e ```g-0``` e assim por diante. \n",
    "\n",
    "Mas, como interpretar esses valores? Bom, temos a seguinte divisão:\n",
    "    \n",
    "    - Valores muito próximos de 1 ou -1: variáveis altamente correlacionadas\n",
    "    - Valores muito próximos de 0: variáveis pouco ou não correlacionadas\n",
    "\n",
    "E, o que diferencia se essa correlação será proporcional ou inversamente proporcional, será o sinal. Quer dizer:\n",
    "\n",
    "    - Valores muito próximos de 1: variáveis proporcionalmente correlacionadas\n",
    "    - Valores muito próximos de -1: variáveis correlacionadas inversamente proporcionais\n",
    "\n",
    "Agora que já sabemos como analisar essa tabela, podemos voltar para o nosso gráfico de dispersão construído com ```g-0``` e ```g-8`` e perceber que a nossa tabela confirma que ambas as variáveis estão correlacionadas e são inversamente proporcionais, visto que o valor apresentado na tabela é de -0,604212."
   ]
  },
  {
   "cell_type": "code",
   "execution_count": 77,
   "metadata": {
    "colab": {
     "base_uri": "https://localhost:8080/",
     "height": 506
    },
    "id": "kmEuqfjM2BuM",
    "outputId": "16b6a078-71a7-4498-a1a7-7c82e71f6de7"
   },
   "outputs": [
    {
     "data": {
      "text/html": [
       "<div>\n",
       "<style scoped>\n",
       "    .dataframe tbody tr th:only-of-type {\n",
       "        vertical-align: middle;\n",
       "    }\n",
       "\n",
       "    .dataframe tbody tr th {\n",
       "        vertical-align: top;\n",
       "    }\n",
       "\n",
       "    .dataframe thead th {\n",
       "        text-align: right;\n",
       "    }\n",
       "</style>\n",
       "<table border=\"1\" class=\"dataframe\">\n",
       "  <thead>\n",
       "    <tr style=\"text-align: right;\">\n",
       "      <th></th>\n",
       "      <th>g-0</th>\n",
       "      <th>g-1</th>\n",
       "      <th>g-2</th>\n",
       "      <th>g-3</th>\n",
       "      <th>g-4</th>\n",
       "      <th>g-5</th>\n",
       "      <th>g-6</th>\n",
       "      <th>g-7</th>\n",
       "      <th>g-8</th>\n",
       "      <th>g-9</th>\n",
       "      <th>...</th>\n",
       "      <th>g-762</th>\n",
       "      <th>g-763</th>\n",
       "      <th>g-764</th>\n",
       "      <th>g-765</th>\n",
       "      <th>g-766</th>\n",
       "      <th>g-767</th>\n",
       "      <th>g-768</th>\n",
       "      <th>g-769</th>\n",
       "      <th>g-770</th>\n",
       "      <th>g-771</th>\n",
       "    </tr>\n",
       "  </thead>\n",
       "  <tbody>\n",
       "    <tr>\n",
       "      <th>g-0</th>\n",
       "      <td>1.000000</td>\n",
       "      <td>0.086032</td>\n",
       "      <td>0.176188</td>\n",
       "      <td>0.011266</td>\n",
       "      <td>0.403153</td>\n",
       "      <td>-0.165478</td>\n",
       "      <td>0.238348</td>\n",
       "      <td>-0.374451</td>\n",
       "      <td>-0.604212</td>\n",
       "      <td>-0.428779</td>\n",
       "      <td>...</td>\n",
       "      <td>0.005085</td>\n",
       "      <td>-0.239410</td>\n",
       "      <td>0.548401</td>\n",
       "      <td>0.425222</td>\n",
       "      <td>-0.308095</td>\n",
       "      <td>-0.052622</td>\n",
       "      <td>0.300241</td>\n",
       "      <td>-0.127375</td>\n",
       "      <td>-0.514201</td>\n",
       "      <td>0.405908</td>\n",
       "    </tr>\n",
       "    <tr>\n",
       "      <th>g-1</th>\n",
       "      <td>0.086032</td>\n",
       "      <td>1.000000</td>\n",
       "      <td>-0.054518</td>\n",
       "      <td>-0.027855</td>\n",
       "      <td>0.193647</td>\n",
       "      <td>-0.151590</td>\n",
       "      <td>-0.122541</td>\n",
       "      <td>0.144537</td>\n",
       "      <td>-0.009973</td>\n",
       "      <td>-0.047558</td>\n",
       "      <td>...</td>\n",
       "      <td>-0.205998</td>\n",
       "      <td>0.060051</td>\n",
       "      <td>0.115071</td>\n",
       "      <td>0.160140</td>\n",
       "      <td>0.015098</td>\n",
       "      <td>-0.003378</td>\n",
       "      <td>-0.030756</td>\n",
       "      <td>-0.006866</td>\n",
       "      <td>-0.095108</td>\n",
       "      <td>-0.032233</td>\n",
       "    </tr>\n",
       "    <tr>\n",
       "      <th>g-2</th>\n",
       "      <td>0.176188</td>\n",
       "      <td>-0.054518</td>\n",
       "      <td>1.000000</td>\n",
       "      <td>0.042633</td>\n",
       "      <td>0.013968</td>\n",
       "      <td>0.018516</td>\n",
       "      <td>0.015190</td>\n",
       "      <td>-0.144205</td>\n",
       "      <td>-0.128029</td>\n",
       "      <td>-0.081332</td>\n",
       "      <td>...</td>\n",
       "      <td>0.090115</td>\n",
       "      <td>-0.055655</td>\n",
       "      <td>0.138085</td>\n",
       "      <td>0.061574</td>\n",
       "      <td>-0.093631</td>\n",
       "      <td>-0.053149</td>\n",
       "      <td>0.115415</td>\n",
       "      <td>0.014489</td>\n",
       "      <td>-0.078661</td>\n",
       "      <td>0.103985</td>\n",
       "    </tr>\n",
       "    <tr>\n",
       "      <th>g-3</th>\n",
       "      <td>0.011266</td>\n",
       "      <td>-0.027855</td>\n",
       "      <td>0.042633</td>\n",
       "      <td>1.000000</td>\n",
       "      <td>-0.033039</td>\n",
       "      <td>0.042231</td>\n",
       "      <td>-0.043177</td>\n",
       "      <td>-0.175692</td>\n",
       "      <td>-0.086167</td>\n",
       "      <td>-0.014052</td>\n",
       "      <td>...</td>\n",
       "      <td>0.075982</td>\n",
       "      <td>0.178422</td>\n",
       "      <td>0.016467</td>\n",
       "      <td>-0.089317</td>\n",
       "      <td>-0.166426</td>\n",
       "      <td>-0.179370</td>\n",
       "      <td>0.028452</td>\n",
       "      <td>-0.206077</td>\n",
       "      <td>-0.002142</td>\n",
       "      <td>0.058219</td>\n",
       "    </tr>\n",
       "    <tr>\n",
       "      <th>g-4</th>\n",
       "      <td>0.403153</td>\n",
       "      <td>0.193647</td>\n",
       "      <td>0.013968</td>\n",
       "      <td>-0.033039</td>\n",
       "      <td>1.000000</td>\n",
       "      <td>-0.057449</td>\n",
       "      <td>0.206405</td>\n",
       "      <td>-0.032748</td>\n",
       "      <td>-0.474828</td>\n",
       "      <td>-0.274167</td>\n",
       "      <td>...</td>\n",
       "      <td>-0.023752</td>\n",
       "      <td>-0.164868</td>\n",
       "      <td>0.404440</td>\n",
       "      <td>0.317500</td>\n",
       "      <td>-0.225094</td>\n",
       "      <td>0.124425</td>\n",
       "      <td>0.115579</td>\n",
       "      <td>-0.172727</td>\n",
       "      <td>-0.363673</td>\n",
       "      <td>0.250713</td>\n",
       "    </tr>\n",
       "    <tr>\n",
       "      <th>...</th>\n",
       "      <td>...</td>\n",
       "      <td>...</td>\n",
       "      <td>...</td>\n",
       "      <td>...</td>\n",
       "      <td>...</td>\n",
       "      <td>...</td>\n",
       "      <td>...</td>\n",
       "      <td>...</td>\n",
       "      <td>...</td>\n",
       "      <td>...</td>\n",
       "      <td>...</td>\n",
       "      <td>...</td>\n",
       "      <td>...</td>\n",
       "      <td>...</td>\n",
       "      <td>...</td>\n",
       "      <td>...</td>\n",
       "      <td>...</td>\n",
       "      <td>...</td>\n",
       "      <td>...</td>\n",
       "      <td>...</td>\n",
       "      <td>...</td>\n",
       "    </tr>\n",
       "    <tr>\n",
       "      <th>g-767</th>\n",
       "      <td>-0.052622</td>\n",
       "      <td>-0.003378</td>\n",
       "      <td>-0.053149</td>\n",
       "      <td>-0.179370</td>\n",
       "      <td>0.124425</td>\n",
       "      <td>-0.081016</td>\n",
       "      <td>-0.000886</td>\n",
       "      <td>0.137336</td>\n",
       "      <td>-0.101191</td>\n",
       "      <td>-0.013157</td>\n",
       "      <td>...</td>\n",
       "      <td>-0.010391</td>\n",
       "      <td>-0.180252</td>\n",
       "      <td>0.003976</td>\n",
       "      <td>-0.027425</td>\n",
       "      <td>0.153722</td>\n",
       "      <td>1.000000</td>\n",
       "      <td>-0.048393</td>\n",
       "      <td>0.065450</td>\n",
       "      <td>0.008603</td>\n",
       "      <td>-0.001136</td>\n",
       "    </tr>\n",
       "    <tr>\n",
       "      <th>g-768</th>\n",
       "      <td>0.300241</td>\n",
       "      <td>-0.030756</td>\n",
       "      <td>0.115415</td>\n",
       "      <td>0.028452</td>\n",
       "      <td>0.115579</td>\n",
       "      <td>-0.139000</td>\n",
       "      <td>-0.005791</td>\n",
       "      <td>-0.419437</td>\n",
       "      <td>-0.209968</td>\n",
       "      <td>-0.291836</td>\n",
       "      <td>...</td>\n",
       "      <td>0.077292</td>\n",
       "      <td>0.000048</td>\n",
       "      <td>0.403211</td>\n",
       "      <td>0.241509</td>\n",
       "      <td>-0.250512</td>\n",
       "      <td>-0.048393</td>\n",
       "      <td>1.000000</td>\n",
       "      <td>0.079364</td>\n",
       "      <td>-0.382607</td>\n",
       "      <td>0.351651</td>\n",
       "    </tr>\n",
       "    <tr>\n",
       "      <th>g-769</th>\n",
       "      <td>-0.127375</td>\n",
       "      <td>-0.006866</td>\n",
       "      <td>0.014489</td>\n",
       "      <td>-0.206077</td>\n",
       "      <td>-0.172727</td>\n",
       "      <td>-0.068537</td>\n",
       "      <td>-0.278587</td>\n",
       "      <td>-0.082554</td>\n",
       "      <td>0.268571</td>\n",
       "      <td>0.037013</td>\n",
       "      <td>...</td>\n",
       "      <td>0.020662</td>\n",
       "      <td>0.071082</td>\n",
       "      <td>0.013235</td>\n",
       "      <td>0.021152</td>\n",
       "      <td>0.151940</td>\n",
       "      <td>0.065450</td>\n",
       "      <td>0.079364</td>\n",
       "      <td>1.000000</td>\n",
       "      <td>0.135853</td>\n",
       "      <td>-0.083713</td>\n",
       "    </tr>\n",
       "    <tr>\n",
       "      <th>g-770</th>\n",
       "      <td>-0.514201</td>\n",
       "      <td>-0.095108</td>\n",
       "      <td>-0.078661</td>\n",
       "      <td>-0.002142</td>\n",
       "      <td>-0.363673</td>\n",
       "      <td>0.144631</td>\n",
       "      <td>-0.143428</td>\n",
       "      <td>0.402451</td>\n",
       "      <td>0.441011</td>\n",
       "      <td>0.415967</td>\n",
       "      <td>...</td>\n",
       "      <td>0.014331</td>\n",
       "      <td>-0.010849</td>\n",
       "      <td>-0.498222</td>\n",
       "      <td>-0.489116</td>\n",
       "      <td>0.284882</td>\n",
       "      <td>0.008603</td>\n",
       "      <td>-0.382607</td>\n",
       "      <td>0.135853</td>\n",
       "      <td>1.000000</td>\n",
       "      <td>-0.425063</td>\n",
       "    </tr>\n",
       "    <tr>\n",
       "      <th>g-771</th>\n",
       "      <td>0.405908</td>\n",
       "      <td>-0.032233</td>\n",
       "      <td>0.103985</td>\n",
       "      <td>0.058219</td>\n",
       "      <td>0.250713</td>\n",
       "      <td>-0.093237</td>\n",
       "      <td>0.075019</td>\n",
       "      <td>-0.441309</td>\n",
       "      <td>-0.450561</td>\n",
       "      <td>-0.295420</td>\n",
       "      <td>...</td>\n",
       "      <td>0.076596</td>\n",
       "      <td>-0.085319</td>\n",
       "      <td>0.426342</td>\n",
       "      <td>0.337007</td>\n",
       "      <td>-0.249602</td>\n",
       "      <td>-0.001136</td>\n",
       "      <td>0.351651</td>\n",
       "      <td>-0.083713</td>\n",
       "      <td>-0.425063</td>\n",
       "      <td>1.000000</td>\n",
       "    </tr>\n",
       "  </tbody>\n",
       "</table>\n",
       "<p>772 rows × 772 columns</p>\n",
       "</div>"
      ],
      "text/plain": [
       "            g-0       g-1       g-2       g-3       g-4       g-5       g-6  \\\n",
       "g-0    1.000000  0.086032  0.176188  0.011266  0.403153 -0.165478  0.238348   \n",
       "g-1    0.086032  1.000000 -0.054518 -0.027855  0.193647 -0.151590 -0.122541   \n",
       "g-2    0.176188 -0.054518  1.000000  0.042633  0.013968  0.018516  0.015190   \n",
       "g-3    0.011266 -0.027855  0.042633  1.000000 -0.033039  0.042231 -0.043177   \n",
       "g-4    0.403153  0.193647  0.013968 -0.033039  1.000000 -0.057449  0.206405   \n",
       "...         ...       ...       ...       ...       ...       ...       ...   \n",
       "g-767 -0.052622 -0.003378 -0.053149 -0.179370  0.124425 -0.081016 -0.000886   \n",
       "g-768  0.300241 -0.030756  0.115415  0.028452  0.115579 -0.139000 -0.005791   \n",
       "g-769 -0.127375 -0.006866  0.014489 -0.206077 -0.172727 -0.068537 -0.278587   \n",
       "g-770 -0.514201 -0.095108 -0.078661 -0.002142 -0.363673  0.144631 -0.143428   \n",
       "g-771  0.405908 -0.032233  0.103985  0.058219  0.250713 -0.093237  0.075019   \n",
       "\n",
       "            g-7       g-8       g-9  ...     g-762     g-763     g-764  \\\n",
       "g-0   -0.374451 -0.604212 -0.428779  ...  0.005085 -0.239410  0.548401   \n",
       "g-1    0.144537 -0.009973 -0.047558  ... -0.205998  0.060051  0.115071   \n",
       "g-2   -0.144205 -0.128029 -0.081332  ...  0.090115 -0.055655  0.138085   \n",
       "g-3   -0.175692 -0.086167 -0.014052  ...  0.075982  0.178422  0.016467   \n",
       "g-4   -0.032748 -0.474828 -0.274167  ... -0.023752 -0.164868  0.404440   \n",
       "...         ...       ...       ...  ...       ...       ...       ...   \n",
       "g-767  0.137336 -0.101191 -0.013157  ... -0.010391 -0.180252  0.003976   \n",
       "g-768 -0.419437 -0.209968 -0.291836  ...  0.077292  0.000048  0.403211   \n",
       "g-769 -0.082554  0.268571  0.037013  ...  0.020662  0.071082  0.013235   \n",
       "g-770  0.402451  0.441011  0.415967  ...  0.014331 -0.010849 -0.498222   \n",
       "g-771 -0.441309 -0.450561 -0.295420  ...  0.076596 -0.085319  0.426342   \n",
       "\n",
       "          g-765     g-766     g-767     g-768     g-769     g-770     g-771  \n",
       "g-0    0.425222 -0.308095 -0.052622  0.300241 -0.127375 -0.514201  0.405908  \n",
       "g-1    0.160140  0.015098 -0.003378 -0.030756 -0.006866 -0.095108 -0.032233  \n",
       "g-2    0.061574 -0.093631 -0.053149  0.115415  0.014489 -0.078661  0.103985  \n",
       "g-3   -0.089317 -0.166426 -0.179370  0.028452 -0.206077 -0.002142  0.058219  \n",
       "g-4    0.317500 -0.225094  0.124425  0.115579 -0.172727 -0.363673  0.250713  \n",
       "...         ...       ...       ...       ...       ...       ...       ...  \n",
       "g-767 -0.027425  0.153722  1.000000 -0.048393  0.065450  0.008603 -0.001136  \n",
       "g-768  0.241509 -0.250512 -0.048393  1.000000  0.079364 -0.382607  0.351651  \n",
       "g-769  0.021152  0.151940  0.065450  0.079364  1.000000  0.135853 -0.083713  \n",
       "g-770 -0.489116  0.284882  0.008603 -0.382607  0.135853  1.000000 -0.425063  \n",
       "g-771  0.337007 -0.249602 -0.001136  0.351651 -0.083713 -0.425063  1.000000  \n",
       "\n",
       "[772 rows x 772 columns]"
      ]
     },
     "execution_count": 77,
     "metadata": {},
     "output_type": "execute_result"
    }
   ],
   "source": [
    "dados.loc[:,'g-0':'g-771'].corr()"
   ]
  },
  {
   "cell_type": "markdown",
   "metadata": {
    "id": "r6M7igPh11gp"
   },
   "source": [
    "Analisar essa grande tabela é um desafio bem grande. Então, como auxílio visual costumamos plotar um mapa de calor para que possamos identificar com maior facilidade a correlação entre as variáveis.\n",
    "\n",
    "E, como esse código já está construído na própria documentação do Seaborn, vamos copiar o [código](https://seaborn.pydata.org/examples/many_pairwise_correlations.html) de lá, fazendo apenas algumas pequenas alterações.\n",
    "\n",
    "Então, de ```corr = d.corr()``` mudamos para ```corr = dados.loc[:,'g-0':'g-50'].corr()``` pois ajustamos o ```d``` para a nossa base de dados (```dados```) e decidimos incluir um ```loc``` para fazer o mapa de calor apenas do ```g-0``` ao ```g-50```. \n",
    "Também retiramos o parâmetro ```vmax=.3``` da última parte do código pois este era um limitador da correlação que não nos interessa no momento.\n",
    "\n",
    "Adicionalmente, também fizemos a importação da biblioteca Numpy que é usada para gerar este mapa de calor (```import numpy as np```).\n",
    "\n",
    "\n",
    "\n"
   ]
  },
  {
   "cell_type": "code",
   "execution_count": 83,
   "metadata": {
    "id": "BCtRrze55Pl1"
   },
   "outputs": [],
   "source": [
    "corr = dados.loc[:,'g-0':'g-50'].corr()"
   ]
  },
  {
   "cell_type": "markdown",
   "metadata": {
    "id": "42c3Tarp36eB"
   },
   "source": [
    "O mapa de calor mostra uma escala de cores em sua lateral direita, a legenda e, para cada pontinho, podemos perceber a força da correlação sendo mostrada através de uma cor associada.\n",
    "\n",
    "Olhando para o nosso gráfico, percebemos que, em sua maioria, as expressões genicas não apresentam correlações tão altas entre si (podemos deduzir isso observando que o gráfico em grande parte é translúcido).\n",
    "\n",
    "É importante destacar que não podemos inferir causalidade a partir da correlação, como já descrevemos anteriormente no gráfico de dispersão. \n",
    "Exemplificando: vimos que ```g-0``` e ```g-8``` têm correlação inversamente proporcional entre si mas não podemos concluir que é o ```g-0``` que faz o ```g-8``` diminuir, ou seja, a causa.\n",
    "\n"
   ]
  },
  {
   "cell_type": "code",
   "execution_count": 84,
   "metadata": {
    "colab": {
     "base_uri": "https://localhost:8080/",
     "height": 572
    },
    "id": "abmZOjJc3H5I",
    "outputId": "0b6fa2b7-b2a0-446f-ee96-742ed04c27b3",
    "scrolled": false
   },
   "outputs": [
    {
     "data": {
      "text/plain": [
       "<AxesSubplot:>"
      ]
     },
     "execution_count": 84,
     "metadata": {},
     "output_type": "execute_result"
    },
    {
     "data": {
      "image/png": "[encoded data removed]",
      "text/plain": [
       "<Figure size 792x648 with 2 Axes>"
      ]
     },
     "metadata": {},
     "output_type": "display_data"
    }
   ],
   "source": [
    "import numpy as np\n",
    "\n",
    "# Generate a mask for the upper triangle\n",
    "mask = np.triu(np.ones_like(corr, dtype=bool))\n",
    "\n",
    "# Set up the matplotlib figure\n",
    "f, ax = plt.subplots(figsize=(11, 9))\n",
    "\n",
    "# Generate a custom diverging colormap\n",
    "cmap = sns.diverging_palette(230, 20, as_cmap=True)\n",
    "\n",
    "# Draw the heatmap with the mask and correct aspect ratio\n",
    "sns.heatmap(corr, mask=mask, cmap=cmap, center=0,\n",
    "            square=True, linewidths=.5, cbar_kws={\"shrink\": .5})"
   ]
  },
  {
   "cell_type": "markdown",
   "metadata": {
    "id": "7x4DPQQW8wfU"
   },
   "source": [
    "Agora, vamos repetir o processo de construção do mapa de calor para a a viabilidade celular (```c```).\n",
    "\n",
    "Definimos uma nova variável ```corr_celular``` e ajustamos os parâmetros de acordo com os nossos ```cs```.\n",
    "\n",
    "Observando o gráfico de saída, podemos perceber uma grande diferença entre os dois mapas de calor que construímos. A escala deste novo gráfico é bem diferente da escala anterior, temos valores apenas entre 0,65 e 0,90, correlações altamente proporcionais."
   ]
  },
  {
   "cell_type": "code",
   "execution_count": 85,
   "metadata": {
    "id": "CHh2r7OG7DC6"
   },
   "outputs": [],
   "source": [
    "corr_celular = dados.loc[:,'c-0':'c-50'].corr()"
   ]
  },
  {
   "cell_type": "code",
   "execution_count": 86,
   "metadata": {
    "colab": {
     "base_uri": "https://localhost:8080/",
     "height": 571
    },
    "id": "i0NRwzy56_e7",
    "outputId": "1f92c9d5-5faf-448f-b38c-64977fb5aa29"
   },
   "outputs": [
    {
     "data": {
      "text/plain": [
       "<AxesSubplot:>"
      ]
     },
     "execution_count": 86,
     "metadata": {},
     "output_type": "execute_result"
    },
    {
     "data": {
      "image/png": "[encoded data removed]",
      "text/plain": [
       "<Figure size 792x648 with 2 Axes>"
      ]
     },
     "metadata": {},
     "output_type": "display_data"
    }
   ],
   "source": [
    "\n",
    "# Generate a mask for the upper triangle\n",
    "mask = np.triu(np.ones_like(corr_celular, dtype=bool))\n",
    "\n",
    "# Set up the matplotlib figure\n",
    "f, ax = plt.subplots(figsize=(11, 9))\n",
    "\n",
    "# Generate a custom diverging colormap\n",
    "cmap = sns.diverging_palette(230, 20, as_cmap=True)\n",
    "\n",
    "# Draw the heatmap with the mask and correct aspect ratio\n",
    "sns.heatmap(corr_celular, mask=mask, cmap=cmap, center=0,\n",
    "            square=True, linewidths=.5, cbar_kws={\"shrink\": .5})"
   ]
  },
  {
   "cell_type": "markdown",
   "metadata": {},
   "source": [
    "Para dar um mergulho ainda mais profundo, explore o site Spurious correlations para vc ver como a correlação muitas vezes não tem relação alguma com a causalidade.\n",
    "https://www.tylervigen.com/spurious-correlations\n",
    "\n",
    "Caso não tenha lido, dê uma olhada nos artigos sobre histogramas, a função describe e boxplot.\n",
    "Histograma: https://www.alura.com.br/artigos/o-que-e-um-histograma?utm_source=gnarus&utm_medium=timeline\n",
    "Describe: https://www.alura.com.br/artigos/ampliando-a-analise-com-describe\n",
    "Boxplot: https://www.alura.com.br/artigos/melhorando-a-analise-com-o-boxplot\n",
    "p-Hacking: https://pt.wikipedia.org/wiki/P-hacking\n",
    "Modelo ML FLores: https://paulovasconcellos.com.br/como-criar-seu-primeiro-aplicativo-de-machine-learning-7b6af291ba11"
   ]
  },
  {
   "cell_type": "markdown",
   "metadata": {
    "id": "ReBAzcTnnFOo"
   },
   "source": [
    "#Desafios"
   ]
  },
  {
   "cell_type": "markdown",
   "metadata": {
    "id": "X_Lg2XTu20ND"
   },
   "source": [
    "###Desafio 01: Investigar por que a classe tratamento é tão desbalanceada?\n",
    "\n",
    "###DEsafio 02: Plotar as 5 últimas linhas da tabela\n",
    "\n",
    "###Desafio 03: Proporção das classes tratamento.\n",
    "\n",
    "###Desafio 04: Quantas tipos de drogas foram investigados.\n",
    "\n",
    "###Desafio 05: Procurar na documentação o método query(pandas). \n",
    "\n",
    "###Desafio 06: Renomear as colunas tirando o hífen. \n",
    "\n",
    "###Desafio 07: Deixar os gráficos bonitões. (Matplotlib.pyplot)\n",
    "\n",
    "###Desafio 08: Resumo do que você aprendeu com os dados\n",
    "\n",
    "\n",
    "##Aula2\n",
    "\n",
    "###Desafio 01: Ordenar o gráfico countplot\n",
    "\n",
    "###Desafio 02: Melhorar a visualização alterando tamanho da fonte...\n",
    "\n",
    "###Desafio 03: Plotar os histogramas com seaborn\n",
    "\n",
    "###Desafio 04: Estudar sobre as estatíticas retornadas no .describe()\n",
    "\n",
    "###Desafio 05: Refletir sobre a manipulação do tamanho das visualizações. \n",
    "\n",
    "###Desafio 06: Fazer outras análises com o boxplot e até com o histograma. \n",
    "\n",
    "###Desafio 07: Resumo do que você aprendeu com os dados\n",
    "\n",
    "##Aula 03\n",
    "\n",
    "###Desafio 01: Criar tabelas de frequência com pandas.groupby()\n",
    "\n",
    "###Desafio 02: Normalizar o crosstab pela coluna.\n",
    "\n",
    "###Desafio 03: Explorar outros agregadores.\n",
    "\n",
    "###Desafio 04: Explorar o melt.\n",
    "\n",
    "###Desafio 05: Calcular e analisar a correlação entre G e C. Refletir sobre os efeitos biológicos. \n",
    "\n",
    "###Desafio 06: Estudar o código que plota a matriz de correlação (heatmap)\n",
    "\n",
    "###Desafio 07: Resumo do que você aprendeu com os dados"
   ]
  },
  {
   "cell_type": "markdown",
   "metadata": {},
   "source": [
    "### Desafio 01: Criar tabelas de frequência com pandas.groupby()"
   ]
  },
  {
   "cell_type": "code",
   "execution_count": 89,
   "metadata": {},
   "outputs": [
    {
     "data": {
      "text/html": [
       "<div>\n",
       "<style scoped>\n",
       "    .dataframe tbody tr th:only-of-type {\n",
       "        vertical-align: middle;\n",
       "    }\n",
       "\n",
       "    .dataframe tbody tr th {\n",
       "        vertical-align: top;\n",
       "    }\n",
       "\n",
       "    .dataframe thead th {\n",
       "        text-align: right;\n",
       "    }\n",
       "</style>\n",
       "<table border=\"1\" class=\"dataframe\">\n",
       "  <thead>\n",
       "    <tr style=\"text-align: right;\">\n",
       "      <th></th>\n",
       "      <th>tempo</th>\n",
       "      <th>g-0</th>\n",
       "      <th>g-1</th>\n",
       "      <th>g-2</th>\n",
       "      <th>g-3</th>\n",
       "      <th>g-4</th>\n",
       "      <th>g-5</th>\n",
       "      <th>g-6</th>\n",
       "      <th>g-7</th>\n",
       "      <th>g-8</th>\n",
       "      <th>...</th>\n",
       "      <th>c-90</th>\n",
       "      <th>c-91</th>\n",
       "      <th>c-92</th>\n",
       "      <th>c-93</th>\n",
       "      <th>c-94</th>\n",
       "      <th>c-95</th>\n",
       "      <th>c-96</th>\n",
       "      <th>c-97</th>\n",
       "      <th>c-98</th>\n",
       "      <th>c-99</th>\n",
       "    </tr>\n",
       "    <tr>\n",
       "      <th>tratamento</th>\n",
       "      <th></th>\n",
       "      <th></th>\n",
       "      <th></th>\n",
       "      <th></th>\n",
       "      <th></th>\n",
       "      <th></th>\n",
       "      <th></th>\n",
       "      <th></th>\n",
       "      <th></th>\n",
       "      <th></th>\n",
       "      <th></th>\n",
       "      <th></th>\n",
       "      <th></th>\n",
       "      <th></th>\n",
       "      <th></th>\n",
       "      <th></th>\n",
       "      <th></th>\n",
       "      <th></th>\n",
       "      <th></th>\n",
       "      <th></th>\n",
       "      <th></th>\n",
       "    </tr>\n",
       "  </thead>\n",
       "  <tbody>\n",
       "    <tr>\n",
       "      <th>com_controle</th>\n",
       "      <td>19.395100</td>\n",
       "      <td>0.833248</td>\n",
       "      <td>0.905735</td>\n",
       "      <td>1.016181</td>\n",
       "      <td>0.887971</td>\n",
       "      <td>1.078825</td>\n",
       "      <td>1.131637</td>\n",
       "      <td>0.963718</td>\n",
       "      <td>0.982525</td>\n",
       "      <td>0.767979</td>\n",
       "      <td>...</td>\n",
       "      <td>0.720884</td>\n",
       "      <td>0.693152</td>\n",
       "      <td>0.792459</td>\n",
       "      <td>0.698417</td>\n",
       "      <td>0.777186</td>\n",
       "      <td>0.694797</td>\n",
       "      <td>0.740021</td>\n",
       "      <td>0.754283</td>\n",
       "      <td>0.620762</td>\n",
       "      <td>0.698150</td>\n",
       "    </tr>\n",
       "    <tr>\n",
       "      <th>com_droga</th>\n",
       "      <td>19.403896</td>\n",
       "      <td>1.427121</td>\n",
       "      <td>0.801954</td>\n",
       "      <td>1.035796</td>\n",
       "      <td>0.955117</td>\n",
       "      <td>1.023297</td>\n",
       "      <td>1.183272</td>\n",
       "      <td>0.871004</td>\n",
       "      <td>1.136824</td>\n",
       "      <td>1.800194</td>\n",
       "      <td>...</td>\n",
       "      <td>2.064286</td>\n",
       "      <td>2.110222</td>\n",
       "      <td>2.066065</td>\n",
       "      <td>2.172713</td>\n",
       "      <td>2.225600</td>\n",
       "      <td>1.676732</td>\n",
       "      <td>2.126325</td>\n",
       "      <td>1.753232</td>\n",
       "      <td>1.888704</td>\n",
       "      <td>1.442178</td>\n",
       "    </tr>\n",
       "  </tbody>\n",
       "</table>\n",
       "<p>2 rows × 873 columns</p>\n",
       "</div>"
      ],
      "text/plain": [
       "                  tempo       g-0       g-1       g-2       g-3       g-4  \\\n",
       "tratamento                                                                  \n",
       "com_controle  19.395100  0.833248  0.905735  1.016181  0.887971  1.078825   \n",
       "com_droga     19.403896  1.427121  0.801954  1.035796  0.955117  1.023297   \n",
       "\n",
       "                   g-5       g-6       g-7       g-8  ...      c-90      c-91  \\\n",
       "tratamento                                            ...                       \n",
       "com_controle  1.131637  0.963718  0.982525  0.767979  ...  0.720884  0.693152   \n",
       "com_droga     1.183272  0.871004  1.136824  1.800194  ...  2.064286  2.110222   \n",
       "\n",
       "                  c-92      c-93      c-94      c-95      c-96      c-97  \\\n",
       "tratamento                                                                 \n",
       "com_controle  0.792459  0.698417  0.777186  0.694797  0.740021  0.754283   \n",
       "com_droga     2.066065  2.172713  2.225600  1.676732  2.126325  1.753232   \n",
       "\n",
       "                  c-98      c-99  \n",
       "tratamento                        \n",
       "com_controle  0.620762  0.698150  \n",
       "com_droga     1.888704  1.442178  \n",
       "\n",
       "[2 rows x 873 columns]"
      ]
     },
     "execution_count": 89,
     "metadata": {},
     "output_type": "execute_result"
    }
   ],
   "source": [
    "dados.groupby(by='tratamento').std()"
   ]
  },
  {
   "cell_type": "markdown",
   "metadata": {},
   "source": [
    "### Desafio 02: Normalizar o crosstab pela coluna."
   ]
  },
  {
   "cell_type": "code",
   "execution_count": 97,
   "metadata": {},
   "outputs": [
    {
     "data": {
      "text/html": [
       "<div>\n",
       "<style scoped>\n",
       "    .dataframe tbody tr th:only-of-type {\n",
       "        vertical-align: middle;\n",
       "    }\n",
       "\n",
       "    .dataframe tbody tr th {\n",
       "        vertical-align: top;\n",
       "    }\n",
       "\n",
       "    .dataframe thead th {\n",
       "        text-align: right;\n",
       "    }\n",
       "</style>\n",
       "<table border=\"1\" class=\"dataframe\">\n",
       "  <thead>\n",
       "    <tr style=\"text-align: right;\">\n",
       "      <th></th>\n",
       "      <th>tratamento</th>\n",
       "      <th>com_controle</th>\n",
       "      <th>com_droga</th>\n",
       "    </tr>\n",
       "    <tr>\n",
       "      <th>dose</th>\n",
       "      <th>tempo</th>\n",
       "      <th></th>\n",
       "      <th></th>\n",
       "    </tr>\n",
       "  </thead>\n",
       "  <tbody>\n",
       "    <tr>\n",
       "      <th rowspan=\"3\" valign=\"top\">D1</th>\n",
       "      <th>24</th>\n",
       "      <td>0.161308</td>\n",
       "      <td>0.163341</td>\n",
       "    </tr>\n",
       "    <tr>\n",
       "      <th>48</th>\n",
       "      <td>0.183816</td>\n",
       "      <td>0.182750</td>\n",
       "    </tr>\n",
       "    <tr>\n",
       "      <th>72</th>\n",
       "      <td>0.164523</td>\n",
       "      <td>0.164024</td>\n",
       "    </tr>\n",
       "    <tr>\n",
       "      <th rowspan=\"3\" valign=\"top\">D2</th>\n",
       "      <th>24</th>\n",
       "      <td>0.163451</td>\n",
       "      <td>0.163158</td>\n",
       "    </tr>\n",
       "    <tr>\n",
       "      <th>48</th>\n",
       "      <td>0.163451</td>\n",
       "      <td>0.163614</td>\n",
       "    </tr>\n",
       "    <tr>\n",
       "      <th>72</th>\n",
       "      <td>0.163451</td>\n",
       "      <td>0.163113</td>\n",
       "    </tr>\n",
       "  </tbody>\n",
       "</table>\n",
       "</div>"
      ],
      "text/plain": [
       "tratamento  com_controle  com_droga\n",
       "dose tempo                         \n",
       "D1   24         0.161308   0.163341\n",
       "     48         0.183816   0.182750\n",
       "     72         0.164523   0.164024\n",
       "D2   24         0.163451   0.163158\n",
       "     48         0.163451   0.163614\n",
       "     72         0.163451   0.163113"
      ]
     },
     "execution_count": 97,
     "metadata": {},
     "output_type": "execute_result"
    }
   ],
   "source": [
    "pd.crosstab([dados['dose'], dados['tempo']],  dados['tratamento'], normalize='columns')"
   ]
  },
  {
   "cell_type": "markdown",
   "metadata": {},
   "source": [
    "### Desafio 03: Explorar outros agregadores."
   ]
  },
  {
   "cell_type": "code",
   "execution_count": 98,
   "metadata": {},
   "outputs": [
    {
     "data": {
      "text/html": [
       "<div>\n",
       "<style scoped>\n",
       "    .dataframe tbody tr th:only-of-type {\n",
       "        vertical-align: middle;\n",
       "    }\n",
       "\n",
       "    .dataframe tbody tr th {\n",
       "        vertical-align: top;\n",
       "    }\n",
       "\n",
       "    .dataframe thead th {\n",
       "        text-align: right;\n",
       "    }\n",
       "</style>\n",
       "<table border=\"1\" class=\"dataframe\">\n",
       "  <thead>\n",
       "    <tr style=\"text-align: right;\">\n",
       "      <th></th>\n",
       "      <th>tratamento</th>\n",
       "      <th>com_controle</th>\n",
       "      <th>com_droga</th>\n",
       "    </tr>\n",
       "    <tr>\n",
       "      <th>dose</th>\n",
       "      <th>tempo</th>\n",
       "      <th></th>\n",
       "      <th></th>\n",
       "    </tr>\n",
       "  </thead>\n",
       "  <tbody>\n",
       "    <tr>\n",
       "      <th rowspan=\"3\" valign=\"top\">D1</th>\n",
       "      <th>24</th>\n",
       "      <td>0.751395</td>\n",
       "      <td>1.461954</td>\n",
       "    </tr>\n",
       "    <tr>\n",
       "      <th>48</th>\n",
       "      <td>0.853396</td>\n",
       "      <td>1.693903</td>\n",
       "    </tr>\n",
       "    <tr>\n",
       "      <th>72</th>\n",
       "      <td>0.769294</td>\n",
       "      <td>1.458600</td>\n",
       "    </tr>\n",
       "    <tr>\n",
       "      <th rowspan=\"3\" valign=\"top\">D2</th>\n",
       "      <th>24</th>\n",
       "      <td>0.836626</td>\n",
       "      <td>1.044999</td>\n",
       "    </tr>\n",
       "    <tr>\n",
       "      <th>48</th>\n",
       "      <td>0.836845</td>\n",
       "      <td>1.315476</td>\n",
       "    </tr>\n",
       "    <tr>\n",
       "      <th>72</th>\n",
       "      <td>0.878041</td>\n",
       "      <td>1.451532</td>\n",
       "    </tr>\n",
       "  </tbody>\n",
       "</table>\n",
       "</div>"
      ],
      "text/plain": [
       "tratamento  com_controle  com_droga\n",
       "dose tempo                         \n",
       "D1   24         0.751395   1.461954\n",
       "     48         0.853396   1.693903\n",
       "     72         0.769294   1.458600\n",
       "D2   24         0.836626   1.044999\n",
       "     48         0.836845   1.315476\n",
       "     72         0.878041   1.451532"
      ]
     },
     "execution_count": 98,
     "metadata": {},
     "output_type": "execute_result"
    }
   ],
   "source": [
    "pd.crosstab([dados['dose'], dados['tempo']],  dados['tratamento'], values=dados['g-0'], aggfunc='std')"
   ]
  },
  {
   "cell_type": "code",
   "execution_count": 100,
   "metadata": {},
   "outputs": [
    {
     "data": {
      "text/html": [
       "<div>\n",
       "<style scoped>\n",
       "    .dataframe tbody tr th:only-of-type {\n",
       "        vertical-align: middle;\n",
       "    }\n",
       "\n",
       "    .dataframe tbody tr th {\n",
       "        vertical-align: top;\n",
       "    }\n",
       "\n",
       "    .dataframe thead th {\n",
       "        text-align: right;\n",
       "    }\n",
       "</style>\n",
       "<table border=\"1\" class=\"dataframe\">\n",
       "  <thead>\n",
       "    <tr style=\"text-align: right;\">\n",
       "      <th></th>\n",
       "      <th>tratamento</th>\n",
       "      <th>com_controle</th>\n",
       "      <th>com_droga</th>\n",
       "    </tr>\n",
       "    <tr>\n",
       "      <th>dose</th>\n",
       "      <th>tempo</th>\n",
       "      <th></th>\n",
       "      <th></th>\n",
       "    </tr>\n",
       "  </thead>\n",
       "  <tbody>\n",
       "    <tr>\n",
       "      <th rowspan=\"3\" valign=\"top\">D1</th>\n",
       "      <th>24</th>\n",
       "      <td>0.152549</td>\n",
       "      <td>0.173496</td>\n",
       "    </tr>\n",
       "    <tr>\n",
       "      <th>48</th>\n",
       "      <td>0.173257</td>\n",
       "      <td>0.201022</td>\n",
       "    </tr>\n",
       "    <tr>\n",
       "      <th>72</th>\n",
       "      <td>0.156183</td>\n",
       "      <td>0.173098</td>\n",
       "    </tr>\n",
       "    <tr>\n",
       "      <th rowspan=\"3\" valign=\"top\">D2</th>\n",
       "      <th>24</th>\n",
       "      <td>0.169853</td>\n",
       "      <td>0.124014</td>\n",
       "    </tr>\n",
       "    <tr>\n",
       "      <th>48</th>\n",
       "      <td>0.169897</td>\n",
       "      <td>0.156112</td>\n",
       "    </tr>\n",
       "    <tr>\n",
       "      <th>72</th>\n",
       "      <td>0.178261</td>\n",
       "      <td>0.172259</td>\n",
       "    </tr>\n",
       "  </tbody>\n",
       "</table>\n",
       "</div>"
      ],
      "text/plain": [
       "tratamento  com_controle  com_droga\n",
       "dose tempo                         \n",
       "D1   24         0.152549   0.173496\n",
       "     48         0.173257   0.201022\n",
       "     72         0.156183   0.173098\n",
       "D2   24         0.169853   0.124014\n",
       "     48         0.169897   0.156112\n",
       "     72         0.178261   0.172259"
      ]
     },
     "execution_count": 100,
     "metadata": {},
     "output_type": "execute_result"
    }
   ],
   "source": [
    "pd.crosstab([dados['dose'], dados['tempo']],  dados['tratamento'], normalize='columns', values=dados['g-0'], aggfunc='std')"
   ]
  },
  {
   "cell_type": "code",
   "execution_count": 99,
   "metadata": {},
   "outputs": [
    {
     "data": {
      "text/html": [
       "<div>\n",
       "<style scoped>\n",
       "    .dataframe tbody tr th:only-of-type {\n",
       "        vertical-align: middle;\n",
       "    }\n",
       "\n",
       "    .dataframe tbody tr th {\n",
       "        vertical-align: top;\n",
       "    }\n",
       "\n",
       "    .dataframe thead th {\n",
       "        text-align: right;\n",
       "    }\n",
       "</style>\n",
       "<table border=\"1\" class=\"dataframe\">\n",
       "  <thead>\n",
       "    <tr style=\"text-align: right;\">\n",
       "      <th></th>\n",
       "      <th>tratamento</th>\n",
       "      <th>com_controle</th>\n",
       "      <th>com_droga</th>\n",
       "    </tr>\n",
       "    <tr>\n",
       "      <th>dose</th>\n",
       "      <th>tempo</th>\n",
       "      <th></th>\n",
       "      <th></th>\n",
       "    </tr>\n",
       "  </thead>\n",
       "  <tbody>\n",
       "    <tr>\n",
       "      <th rowspan=\"3\" valign=\"top\">D1</th>\n",
       "      <th>24</th>\n",
       "      <td>-0.2912</td>\n",
       "      <td>0.02700</td>\n",
       "    </tr>\n",
       "    <tr>\n",
       "      <th>48</th>\n",
       "      <td>-0.2145</td>\n",
       "      <td>0.01620</td>\n",
       "    </tr>\n",
       "    <tr>\n",
       "      <th>72</th>\n",
       "      <td>-0.3655</td>\n",
       "      <td>0.02615</td>\n",
       "    </tr>\n",
       "    <tr>\n",
       "      <th rowspan=\"3\" valign=\"top\">D2</th>\n",
       "      <th>24</th>\n",
       "      <td>0.0096</td>\n",
       "      <td>-0.02610</td>\n",
       "    </tr>\n",
       "    <tr>\n",
       "      <th>48</th>\n",
       "      <td>-0.0506</td>\n",
       "      <td>-0.02960</td>\n",
       "    </tr>\n",
       "    <tr>\n",
       "      <th>72</th>\n",
       "      <td>0.0528</td>\n",
       "      <td>0.00015</td>\n",
       "    </tr>\n",
       "  </tbody>\n",
       "</table>\n",
       "</div>"
      ],
      "text/plain": [
       "tratamento  com_controle  com_droga\n",
       "dose tempo                         \n",
       "D1   24          -0.2912    0.02700\n",
       "     48          -0.2145    0.01620\n",
       "     72          -0.3655    0.02615\n",
       "D2   24           0.0096   -0.02610\n",
       "     48          -0.0506   -0.02960\n",
       "     72           0.0528    0.00015"
      ]
     },
     "execution_count": 99,
     "metadata": {},
     "output_type": "execute_result"
    }
   ],
   "source": [
    "pd.crosstab([dados['dose'], dados['tempo']],  dados['tratamento'], values=dados['g-0'], aggfunc='median')"
   ]
  },
  {
   "cell_type": "markdown",
   "metadata": {},
   "source": [
    "### Desafio 04: Explorar o melt."
   ]
  },
  {
   "cell_type": "code",
   "execution_count": 107,
   "metadata": {},
   "outputs": [
    {
     "data": {
      "text/html": [
       "<div>\n",
       "<style scoped>\n",
       "    .dataframe tbody tr th:only-of-type {\n",
       "        vertical-align: middle;\n",
       "    }\n",
       "\n",
       "    .dataframe tbody tr th {\n",
       "        vertical-align: top;\n",
       "    }\n",
       "\n",
       "    .dataframe thead th {\n",
       "        text-align: right;\n",
       "    }\n",
       "</style>\n",
       "<table border=\"1\" class=\"dataframe\">\n",
       "  <thead>\n",
       "    <tr style=\"text-align: right;\">\n",
       "      <th></th>\n",
       "      <th>tratamento</th>\n",
       "      <th>variable</th>\n",
       "      <th>value</th>\n",
       "    </tr>\n",
       "  </thead>\n",
       "  <tbody>\n",
       "    <tr>\n",
       "      <th>0</th>\n",
       "      <td>com_droga</td>\n",
       "      <td>g-0</td>\n",
       "      <td>1.0620</td>\n",
       "    </tr>\n",
       "    <tr>\n",
       "      <th>1</th>\n",
       "      <td>com_droga</td>\n",
       "      <td>g-0</td>\n",
       "      <td>0.0743</td>\n",
       "    </tr>\n",
       "    <tr>\n",
       "      <th>2</th>\n",
       "      <td>com_droga</td>\n",
       "      <td>g-0</td>\n",
       "      <td>0.6280</td>\n",
       "    </tr>\n",
       "    <tr>\n",
       "      <th>3</th>\n",
       "      <td>com_droga</td>\n",
       "      <td>g-0</td>\n",
       "      <td>-0.5138</td>\n",
       "    </tr>\n",
       "    <tr>\n",
       "      <th>4</th>\n",
       "      <td>com_droga</td>\n",
       "      <td>g-0</td>\n",
       "      <td>-0.3254</td>\n",
       "    </tr>\n",
       "    <tr>\n",
       "      <th>...</th>\n",
       "      <td>...</td>\n",
       "      <td>...</td>\n",
       "      <td>...</td>\n",
       "    </tr>\n",
       "    <tr>\n",
       "      <th>47623</th>\n",
       "      <td>com_droga</td>\n",
       "      <td>c-0</td>\n",
       "      <td>0.4224</td>\n",
       "    </tr>\n",
       "    <tr>\n",
       "      <th>47624</th>\n",
       "      <td>com_droga</td>\n",
       "      <td>c-0</td>\n",
       "      <td>0.2144</td>\n",
       "    </tr>\n",
       "    <tr>\n",
       "      <th>47625</th>\n",
       "      <td>com_controle</td>\n",
       "      <td>c-0</td>\n",
       "      <td>1.0650</td>\n",
       "    </tr>\n",
       "    <tr>\n",
       "      <th>47626</th>\n",
       "      <td>com_droga</td>\n",
       "      <td>c-0</td>\n",
       "      <td>0.5377</td>\n",
       "    </tr>\n",
       "    <tr>\n",
       "      <th>47627</th>\n",
       "      <td>com_droga</td>\n",
       "      <td>c-0</td>\n",
       "      <td>-2.3890</td>\n",
       "    </tr>\n",
       "  </tbody>\n",
       "</table>\n",
       "<p>47628 rows × 3 columns</p>\n",
       "</div>"
      ],
      "text/plain": [
       "         tratamento variable   value\n",
       "0         com_droga      g-0  1.0620\n",
       "1         com_droga      g-0  0.0743\n",
       "2         com_droga      g-0  0.6280\n",
       "3         com_droga      g-0 -0.5138\n",
       "4         com_droga      g-0 -0.3254\n",
       "...             ...      ...     ...\n",
       "47623     com_droga      c-0  0.4224\n",
       "47624     com_droga      c-0  0.2144\n",
       "47625  com_controle      c-0  1.0650\n",
       "47626     com_droga      c-0  0.5377\n",
       "47627     com_droga      c-0 -2.3890\n",
       "\n",
       "[47628 rows x 3 columns]"
      ]
     },
     "execution_count": 107,
     "metadata": {},
     "output_type": "execute_result"
    }
   ],
   "source": [
    "pd.melt(dados, id_vars=['tratamento'], value_vars=['g-0','c-0'])"
   ]
  },
  {
   "cell_type": "markdown",
   "metadata": {},
   "source": [
    "### Desafio 05: Calcular e analisar a correlação entre G e C. Refletir sobre os efeitos biológicos. "
   ]
  },
  {
   "cell_type": "code",
   "execution_count": 109,
   "metadata": {},
   "outputs": [
    {
     "data": {
      "text/plain": [
       "<AxesSubplot:>"
      ]
     },
     "execution_count": 109,
     "metadata": {},
     "output_type": "execute_result"
    },
    {
     "data": {
      "image/png": "[encoded data removed]",
      "text/plain": [
       "<Figure size 792x648 with 2 Axes>"
      ]
     },
     "metadata": {},
     "output_type": "display_data"
    }
   ],
   "source": [
    "corr_celular = dados.loc[:,'c-0':'c-50'].corr()\n",
    "\n",
    "# Generate a mask for the upper triangle\n",
    "mask = np.triu(np.ones_like(corr_celular, dtype=bool))\n",
    "\n",
    "# Set up the matplotlib figure\n",
    "f, ax = plt.subplots(figsize=(11, 9))\n",
    "\n",
    "# Generate a custom diverging colormap\n",
    "cmap = sns.diverging_palette(230, 20, as_cmap=True)\n",
    "\n",
    "# Draw the heatmap with the mask and correct aspect ratio\n",
    "sns.heatmap(corr_celular, mask=mask, cmap=cmap, center=0,\n",
    "            square=True, linewidths=.5, cbar_kws={\"shrink\": .5})"
   ]
  },
  {
   "cell_type": "markdown",
   "metadata": {},
   "source": [
    "### Desafio 06: Estudar o código que plota a matriz de correlação (heatmap)"
   ]
  },
  {
   "cell_type": "markdown",
   "metadata": {},
   "source": [
    "### Desafio 07: Resumo do que você aprendeu com os dados"
   ]
  }
 ],
 "metadata": {
  "colab": {
   "collapsed_sections": [
    "fc7vt5BpmsH4",
    "o-setqAJm2cD",
    "ReBAzcTnnFOo"
   ],
   "name": "Cópia de Aula_03.ipynb",
   "provenance": [
    {
     "file_id": "11QdqyySAjhpa_69VvYOfwAP2-fzZ9w4e",
     "timestamp": 1620216544208
    }
   ]
  },
  "kernelspec": {
   "display_name": "Python 3",
   "language": "python",
   "name": "python3"
  },
  "language_info": {
   "codemirror_mode": {
    "name": "ipython",
    "version": 3
   },
   "file_extension": ".py",
   "mimetype": "text/x-python",
   "name": "python",
   "nbconvert_exporter": "python",
   "pygments_lexer": "ipython3",
   "version": "3.8.8"
  }
 },
 "nbformat": 4,
 "nbformat_minor": 1
}
